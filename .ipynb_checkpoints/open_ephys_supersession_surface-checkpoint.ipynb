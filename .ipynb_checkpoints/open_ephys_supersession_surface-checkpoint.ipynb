{
 "cells": [
  {
   "cell_type": "code",
   "execution_count": 2,
   "metadata": {},
   "outputs": [
    {
     "name": "stderr",
     "output_type": "stream",
     "text": [
      "2017-05-26 10:33:19,905 root         INFO     Computer: passaro\n",
      "2017-05-26 10:33:19,905 root         INFO     Computer: passaro\n",
      "2017-05-26 10:33:20,008 root         INFO     All modules loaded\n",
      "2017-05-26 10:33:20,008 root         INFO     All modules loaded\n"
     ]
    }
   ],
   "source": [
    "# tampering with the kwd file on passaro\n",
    "# the /experiment folder is on the ssd of passaro (/usr/local/experiment/raw_data)\n",
    "%matplotlib inline\n",
    "from __future__ import division\n",
    "import pdb\n",
    "import sys\n",
    "import pandas as pd\n",
    "import numpy as np\n",
    "import scipy.io as sio\n",
    "import matplotlib.pyplot as plt\n",
    "import matplotlib\n",
    "import scipy.signal as sg\n",
    "import math\n",
    "import scipy as sp\n",
    "import socket\n",
    "import os\n",
    "import wave\n",
    "import struct\n",
    "import h5py\n",
    "from scipy.signal import hilbert\n",
    "import glob\n",
    "import errno    \n",
    "import os\n",
    "import shutil as sh\n",
    "import yaml\n",
    "import logging\n",
    "\n",
    "logger = logging.getLogger()\n",
    "handler = logging.StreamHandler()\n",
    "formatter = logging.Formatter(\n",
    "        '%(asctime)s %(name)-12s %(levelname)-8s %(message)s')\n",
    "handler.setFormatter(formatter)\n",
    "logger.addHandler(handler)\n",
    "logger.setLevel(logging.DEBUG)\n",
    "\n",
    "# Check wihic computer to decide where the things are mounted\n",
    "comp_name=socket.gethostname()\n",
    "logger.info('Computer: ' + comp_name)\n",
    "if  comp_name == 'chim':\n",
    "    #sys.path.append('/Users/zeke/experiment/ephysDataManagement/ephysScripts')\n",
    "    experiment_folder = os.path.join(os.path.abspath('W:') , \"earneodo\", \"bci_zf\")\n",
    "elif  'lookfar' in comp_name:\n",
    "    repos_folder = os.path.abspath('/Users/zeke/reposs')\n",
    "    experiment_folder = os.path.join(os.path.abspath('/Volumes'), \n",
    "                                     'gentner', \n",
    "                                     'earneodo', \n",
    "                                     'bci_zf')\n",
    "\n",
    "elif 'lintu' in comp_name:\n",
    "    repos_folder = os.path.abspath('/mnt/cube/earneodo/repos')\n",
    "    experiment_folder = os.path.join('/mnt/cube/earneodo/bci_zf/')\n",
    "\n",
    "elif 'passaro' in comp_name:\n",
    "    repos_folder = os.path.abspath('/mnt/cube/earneodo/repos')\n",
    "    cube_experiment_folder = os.path.join('/mnt/cube/earneodo/bci_zf/')\n",
    "    store_experiment_folder = os.path.join('/Data/bci_zf/')\n",
    "    experiment_folder = os.path.join('/usr/local/experiment')\n",
    "\n",
    "sys.path.append(os.path.join(repos_folder, 'soundflow', 'sound_tools'))\n",
    "sys.path.append(os.path.join(repos_folder, 'ephysflow'))\n",
    "sys.path.append(os.path.join(repos_folder, 'swissknife'))\n",
    "\n",
    "#import soundtools as st\n",
    "from scipy.io import wavfile\n",
    "from swissknife.bci.core import expstruct as et\n",
    "from swissknife.bci import supersession as ss\n",
    "from swissknife.bci import stimalign as sa\n",
    "\n",
    "\n",
    "def process_supersession(bird_id, sess_day, depth, raw_location):\n",
    "    # make the supersession file\n",
    "    sess_list = ss.make_super_session(bird_id, sess_day, depth=depth, raw_location=raw_location)\n",
    "    # make bkp of the raw data\n",
    "    ss.make_raw_bkp(bird_id, sess_list)\n",
    "    # align the stimuli\n",
    "    super_sess_name = 'day-' + sess_day + '_' + depth\n",
    "    sa.align_stim(bird_id, super_sess_name)\n",
    "    \n",
    "logger.info('All modules loaded')"
   ]
  },
  {
   "cell_type": "code",
   "execution_count": 1,
   "metadata": {},
   "outputs": [],
   "source": [
    "bird_id = 'z034'\n",
    "sess_day = 'anesth_surface_2017-04-21_14-07-50_0'\n",
    "depth = '1'\n",
    "raw_location = 'rw'"
   ]
  },
  {
   "cell_type": "code",
   "execution_count": 3,
   "metadata": {},
   "outputs": [
    {
     "ename": "NameError",
     "evalue": "name 'et' is not defined",
     "output_type": "error",
     "traceback": [
      "\u001b[0;31m\u001b[0m",
      "\u001b[0;31mNameError\u001b[0mTraceback (most recent call last)",
      "\u001b[0;32m<ipython-input-3-59e942b5e509>\u001b[0m in \u001b[0;36m<module>\u001b[0;34m()\u001b[0m\n\u001b[0;32m----> 1\u001b[0;31m \u001b[0mall_sessions\u001b[0m\u001b[0;34m,\u001b[0m \u001b[0mall_depths\u001b[0m \u001b[0;34m=\u001b[0m \u001b[0met\u001b[0m\u001b[0;34m.\u001b[0m\u001b[0mlist_raw_sessions\u001b[0m\u001b[0;34m(\u001b[0m\u001b[0mbird_id\u001b[0m\u001b[0;34m,\u001b[0m \u001b[0msess_day\u001b[0m\u001b[0;34m=\u001b[0m\u001b[0msess_day\u001b[0m\u001b[0;34m,\u001b[0m \u001b[0mlocation\u001b[0m\u001b[0;34m=\u001b[0m\u001b[0mraw_location\u001b[0m\u001b[0;34m)\u001b[0m\u001b[0;34m\u001b[0m\u001b[0m\n\u001b[0m\u001b[1;32m      2\u001b[0m \u001b[0;32mprint\u001b[0m\u001b[0;34m(\u001b[0m\u001b[0mall_sessions\u001b[0m\u001b[0;34m)\u001b[0m\u001b[0;34m\u001b[0m\u001b[0m\n\u001b[1;32m      3\u001b[0m \u001b[0;32mprint\u001b[0m\u001b[0;34m(\u001b[0m\u001b[0mall_depths\u001b[0m\u001b[0;34m)\u001b[0m\u001b[0;34m\u001b[0m\u001b[0m\n",
      "\u001b[0;31mNameError\u001b[0m: name 'et' is not defined"
     ]
    }
   ],
   "source": [
    "all_sessions, all_depths = et.list_raw_sessions(bird_id, sess_day=sess_day, location=raw_location)\n",
    "print(all_sessions)\n",
    "print(all_depths)"
   ]
  },
  {
   "cell_type": "code",
   "execution_count": 6,
   "metadata": {},
   "outputs": [
    {
     "name": "stderr",
     "output_type": "stream",
     "text": [
      "2017-03-30 18:11:08,671 root         INFO     Processing sess anesth_surface_2017-03-10_12-49-17 depth 1\n",
      "2017-03-30 18:11:08,708 supersession INFO     searching *_100.raw.kwd\n",
      "2017-03-30 18:11:08,734 supersession INFO     Making supersession day-anesth_surface_2017-03-10_12-49-17_1\n",
      "2017-03-30 18:11:08,735 supersession INFO     super file path: /mnt/cube/earneodo/bci_zf/ss_data/b1114/day-anesth_surface_2017-03-10_12-49-17_1/experiment.raw.kwd\n",
      "2017-03-30 18:11:08,737 supersession INFO     Found 1 experiment files\n",
      "2017-03-30 18:11:08,738 bci.core.expstruct DEBUG    Creating directory /mnt/cube/earneodo/bci_zf/ss_data/b1114/day-anesth_surface_2017-03-10_12-49-17_1\n",
      "2017-03-30 18:11:08,751 supersession INFO     Inserting file /mnt/cube/earneodo/bci_zf/raw_data/b1114/anesth_surface_2017-03-10_12-49-17_1/experiment1_100.raw.kwd\n"
     ]
    },
    {
     "name": "stdout",
     "output_type": "stream",
     "text": [
      "['anesth_surface_2017-03-10_12-49-17_1']\n",
      "['1']\n"
     ]
    },
    {
     "name": "stderr",
     "output_type": "stream",
     "text": [
      "2017-03-30 18:11:09,009 root         DEBUG    H5 file: <HDF5 file \"experiment.raw.kwd\" (mode r+)>\n",
      "2017-03-30 18:16:17,770 supersession INFO     Data is already in experiment folder /mnt/cube/earneodo/bci_zf/raw_data/b1114\n",
      "2017-03-30 18:16:17,771 supersession INFO     Data is not in local drive but in /mnt/cube/earneodo/bci_zf/raw_data/b1114, doing nothing\n",
      "2017-03-30 18:16:17,777 root         DEBUG    H5 file: <HDF5 file \"experiment.raw.kwd\" (mode r)>\n",
      "2017-03-30 18:16:17,778 root         DEBUG    H5 file: <HDF5 file \"experiment.raw.kwd\" (mode r)>\n",
      "2017-03-30 18:16:17,780 root         DEBUG    Getting group of rec 0\n",
      "2017-03-30 18:16:17,782 stimalign    DEBUG    Rec origin: {'rec': 0, 'sess': 'anesth_surface_2017-03-10_12-49-17_1', 'bird': 'b1114', 'structure': 'experiment1_100'}\n",
      "2017-03-30 18:16:17,910 stimalign    INFO     Getting starts of stim bos01-rev_tag\n",
      "2017-03-30 18:16:17,913 root         DEBUG    H5 file: <HDF5 file \"experiment1_100.raw.kwd\" (mode r)>\n",
      "2017-03-30 18:16:17,915 root         DEBUG    Getting dataset from rec 0\n",
      "2017-03-30 18:16:22,102 stimalign    INFO     Found 50 starts\n",
      "2017-03-30 18:16:22,108 stimalign    INFO     Stored in /mnt/cube/earneodo/bci_zf/ss_data/b1114/day-anesth_surface_2017-03-10_12-49-17_1/experiment.sng.kwe\n",
      "2017-03-30 18:16:22,111 stimalign    INFO     Getting starts of stim bos01_tag\n",
      "2017-03-30 18:16:22,112 root         DEBUG    H5 file: <HDF5 file \"experiment1_100.raw.kwd\" (mode r)>\n",
      "2017-03-30 18:16:22,113 root         DEBUG    Getting dataset from rec 0\n",
      "2017-03-30 18:16:34,664 stimalign    INFO     Found 50 starts\n",
      "2017-03-30 18:16:34,668 stimalign    INFO     Stored in /mnt/cube/earneodo/bci_zf/ss_data/b1114/day-anesth_surface_2017-03-10_12-49-17_1/experiment.sng.kwe\n",
      "2017-03-30 18:16:34,674 stimalign    INFO     Done\n"
     ]
    }
   ],
   "source": [
    "reload(ss)\n",
    "all_sessions, all_depths = et.list_raw_sessions(bird_id, sess_day=sess_day, location=raw_location)\n",
    "print(all_sessions)\n",
    "print(all_depths)\n",
    "\n",
    "for d in all_depths:\n",
    "    logger.info('Processing sess {0} depth {1}'.format(sess_day, d))\n",
    "    process_supersession(bird_id, sess_day, d, raw_location)"
   ]
  },
  {
   "cell_type": "code",
   "execution_count": null,
   "metadata": {
    "collapsed": true
   },
   "outputs": [],
   "source": []
  }
 ],
 "metadata": {
  "anaconda-cloud": {},
  "kernelspec": {
   "display_name": "Python [default]",
   "language": "python",
   "name": "python2"
  },
  "language_info": {
   "codemirror_mode": {
    "name": "ipython",
    "version": 2
   },
   "file_extension": ".py",
   "mimetype": "text/x-python",
   "name": "python",
   "nbconvert_exporter": "python",
   "pygments_lexer": "ipython2",
   "version": "2.7.13"
  }
 },
 "nbformat": 4,
 "nbformat_minor": 1
}
