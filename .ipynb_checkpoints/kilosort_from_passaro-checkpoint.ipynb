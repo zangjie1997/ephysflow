{
 "cells": [
  {
   "cell_type": "code",
   "execution_count": 2,
   "metadata": {},
   "outputs": [],
   "source": [
    "import sys\n",
    "import subprocess\n",
    "import os\n",
    "import paramiko\n",
    "import select\n",
    "\n",
    "repos_folder = os.path.abspath('/mnt/cube/earneodo/repos')\n",
    "sys.path.append(os.path.join(repos_folder, 'ephysflow'))\n",
    "sys.path.append(os.path.join(repos_folder, 'ephysflow', 'bci_pipeline'))\n",
    "from swissknife.bci.core.file import h5_functions as h5f\n",
    "from basic_viewing.structure import kwik_functions as kwf\n",
    "from swissknife.bci.core import expstruct as et\n",
    "from swissknife.bci.core.pipeline.core import kilosort"
   ]
  },
  {
   "cell_type": "code",
   "execution_count": 3,
   "metadata": {
    "collapsed": true
   },
   "outputs": [],
   "source": [
    "#logger = logging.getLogger('sort_functions')\n",
    "\n",
    "def ssh_run(host, cmd):\n",
    "    #logger.info('Will run ssh command {} on {}'.format(host, cmd))\n",
    "    ssh = subprocess.Popen([\"ssh\", \"%s\" % host, '%s;' % cmd, 'exit;'],\n",
    "                      shell=False,\n",
    "                      stdout=subprocess.PIPE,\n",
    "                      stderr=subprocess.PIPE)\n",
    "\n",
    "    result = ssh.stdout.readlines()\n",
    "    if result == []:\n",
    "        error = ssh.stderr.readlines()\n",
    "        print >>sys.stderr, \"ERROR: %s\" % error\n",
    "        #logger.error('something went wrong')\n",
    "    else:\n",
    "        print result\n",
    "        #logger.info('finished')    \n",
    "    return result\n",
    "\n",
    "def ssh_paramiko(host, cmd):\n",
    "    ssh = paramiko.SSHClient()\n",
    "    ssh.set_missing_host_key_policy(paramiko.AutoAddPolicy())\n",
    "    ssh.connect(host)\n",
    "    print \"Connected to %s\" % host\n",
    "    stdin, stdout, stderr = ssh.exec_command('py_kilosort.sh {0} {1}'.format(bird, sess))\n",
    "    msg = []\n",
    "    while not stdout.channel.exit_status_ready():\n",
    "        # Only print data if there is data to read in the channel\n",
    "        if stdout.channel.recv_ready():\n",
    "            rl, wl, xl = select.select([stdout.channel], [], [], 0.0)\n",
    "            if len(rl) > 0:\n",
    "                # Print data from stdout\n",
    "                print msg.append(stdout.channel.recv(1024))\n",
    "    print \"finished command, returning\"\n",
    "    ssh.close()\n",
    "    return msg\n",
    "\n",
    "# Make one single binary file\n",
    "def make_binary(bird, sess):\n",
    "    print 'Making binary'\n",
    "    fn = et.file_names(bird, sess)\n",
    "    params = et.get_parameters(bird, sess)\n",
    "    kwd_path = et.file_path(fn, 'ss', 'ss_raw')\n",
    "    bin_path = et.file_path(fn, 'ss', 'ss_bin')\n",
    "    chan_list = params['channel_config']['neural']\n",
    "    h5f.kwd_to_binary(kwd_path, bin_path, chan_list=chan_list)\n",
    "    print 'done'\n",
    "#make all the parameters for sorting with kilosort\n",
    "\n",
    "# sort with a script in niao (scripts gets the data from cube, puts back in cube)\n",
    "def niao_kilosort(bird, sess):\n",
    "    print 'Sending sort to niao'\n",
    "    return ssh_paramiko('niao', 'py_kilosort.sh {0} {1}'.format(bird, sess))\n",
    "\n",
    "#convert back to kwik file\n"
   ]
  },
  {
   "cell_type": "code",
   "execution_count": null,
   "metadata": {},
   "outputs": [
    {
     "name": "stdout",
     "output_type": "stream",
     "text": [
      "Making binary\n"
     ]
    }
   ],
   "source": [
    "bird = 'b1114'\n",
    "sess = 'day-singing_2017-02-23_50'\n",
    "\n",
    "#print \"making binary\"\n",
    "make_binary(bird, sess)\n",
    "print 'sorting in niao'\n",
    "niao_msg = niao_kilosort(bird, sess)\n",
    "print niao_msg\n",
    "print 'getting back to kwik format'\n",
    "kwf.kilo_to_kwik(bird, sess)"
   ]
  },
  {
   "cell_type": "code",
   "execution_count": 28,
   "metadata": {},
   "outputs": [
    {
     "data": {
      "text/plain": [
       "<module 'basic_viewing.kwik_functions' from 'basic_viewing/kwik_functions.pyc'>"
      ]
     },
     "execution_count": 28,
     "metadata": {},
     "output_type": "execute_result"
    }
   ],
   "source": [
    "reload(kwf)"
   ]
  },
  {
   "cell_type": "code",
   "execution_count": 11,
   "metadata": {},
   "outputs": [],
   "source": [
    "kwf.kilo_to_kwik(bird, 'day-morning_2017-02-23_50')"
   ]
  },
  {
   "cell_type": "code",
   "execution_count": null,
   "metadata": {
    "collapsed": true
   },
   "outputs": [],
   "source": []
  }
 ],
 "metadata": {
  "kernelspec": {
   "display_name": "Python [default]",
   "language": "python",
   "name": "python2"
  },
  "language_info": {
   "codemirror_mode": {
    "name": "ipython",
    "version": 2
   },
   "file_extension": ".py",
   "mimetype": "text/x-python",
   "name": "python",
   "nbconvert_exporter": "python",
   "pygments_lexer": "ipython2",
   "version": "2.7.13"
  }
 },
 "nbformat": 4,
 "nbformat_minor": 1
}
