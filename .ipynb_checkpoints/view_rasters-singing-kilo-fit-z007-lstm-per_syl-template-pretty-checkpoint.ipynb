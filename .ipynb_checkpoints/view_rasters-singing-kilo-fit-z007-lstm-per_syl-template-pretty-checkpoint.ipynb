{
 "cells": [
  {
   "cell_type": "markdown",
   "metadata": {},
   "source": [
    "## Fitting w/ lstm using sorted spikes"
   ]
  },
  {
   "cell_type": "code",
   "execution_count": 1,
   "metadata": {},
   "outputs": [
    {
     "name": "stdout",
     "output_type": "stream",
     "text": [
      "Computer: passaro\n"
     ]
    }
   ],
   "source": [
    "# Definitions and functions\n",
    "%matplotlib inline\n",
    "from __future__ import division\n",
    "import pdb\n",
    "import sys\n",
    "import pandas as pd\n",
    "import numpy as np\n",
    "import scipy.io as sio\n",
    "import matplotlib.pyplot as plt\n",
    "import matplotlib\n",
    "import scipy.signal as sg\n",
    "import math\n",
    "import scipy as sp\n",
    "import socket\n",
    "import os\n",
    "import wave\n",
    "import struct\n",
    "import h5py\n",
    "from scipy.io import wavfile\n",
    "from scipy.signal import spectrogram\n",
    "import logging\n",
    "from IPython.display import display\n",
    "matplotlib.style.use('ggplot')\n",
    "from ipywidgets import *\n",
    "import yaml\n",
    "import numpy.lib.recfunctions as rfn \n",
    "import numpy.matlib as npm\n",
    "import glob\n",
    "from __future__ import division\n",
    "from importlib import reload\n",
    "# Check wich computer to decide where the things are mounted\n",
    "comp_name=socket.gethostname()\n",
    "print('Computer: ' + comp_name)\n",
    "\n",
    "if 'niao' in comp_name or 'passaro' in comp_name or 'lintu' in comp_name:\n",
    "    repos_folder = os.path.abspath('/mnt/cube/earneodo/repos')\n",
    "    experiment_folder = os.path.join('/mnt/cube/earneodo/bci_zf/')\n",
    "\n",
    "sys.path.append(os.path.join(repos_folder, 'soundflow', 'sound_tools'))\n",
    "sys.path.append(os.path.join(repos_folder, 'ephysflow'))\n",
    "\n",
    "import soundtools as st\n",
    "from swissknife.bci.core import expstruct as et\n",
    "from swissknife.bci.core import kwik_functions as kwkf\n",
    "from swissknife.bci import synthetic as syn\n",
    "from swissknife.bci import unitmeta as um\n",
    "from swissknife.bci import stimalign as sta\n",
    "\n",
    "from swissknife.bci import units as unitobjs\n",
    "from swissknife.bci.core.basic_plot import plot_raster, sparse_raster\n",
    "from swissknife.bci.core import basic_plot as bp\n",
    "\n",
    "from swissknife.decoder import linear as ld\n",
    "from swissknife.decoder import neural as nd\n",
    "\n",
    "logger = logging.getLogger()\n",
    "handler = logging.StreamHandler()\n",
    "formatter = logging.Formatter(\n",
    "        '%(asctime)s %(name)-12s %(levelname)-8s %(message)s')\n",
    "handler.setFormatter(formatter)\n",
    "logger.addHandler(handler)\n",
    "logger.setLevel(logging.INFO)\n",
    "logger.debug('all modules loaded')"
   ]
  },
  {
   "cell_type": "markdown",
   "metadata": {},
   "source": [
    "## The session files:\n",
    "- kwd file\n",
    "- kwik file (units)\n",
    "- syllable files (stamps and par values)"
   ]
  },
  {
   "cell_type": "code",
   "execution_count": 2,
   "metadata": {
    "collapsed": true
   },
   "outputs": [],
   "source": [
    "# bird and session\n",
    "bird = 'z007'\n",
    "sess = 'day-2016-09-10'\n",
    "syl_file = 'syllable_pandas_parfit'\n",
    "syl_types = ['0', '1', '2', '3', '-1']\n",
    "\n",
    "\n",
    "exp_par = et.get_parameters(bird, sess)\n",
    "fn = et.file_names(bird, sess)\n",
    "\n",
    "# load the files\n",
    "# load the fitted syllables\n",
    "\n",
    "kwik_file = et.open_kwik(bird, sess)\n",
    "kwd_file = et.open_kwd(bird, sess)\n",
    "\n",
    "# fitted syllables\n",
    "all_fit_syl = pd.concat([pd.read_pickle(os.path.join(fn['folders']['ss'], \n",
    "                                                     '{0}_{1}.pickle'.format(syl_file,\n",
    "                                                                             syl_type)))\n",
    "                         for syl_type in syl_types]).sort_values(by='mot_id')\n",
    "\n",
    "\n",
    "# syllables with an evil template for the vs parameter\n",
    "all_fit_syl = pd.concat([pd.read_pickle(os.path.join(fn['folders']['ss'], \n",
    "                                                     'syllable_pandas_template_{}.pickle'.format(syl_type)))\n",
    "                         for syl_type in ['0',  '-1']]).sort_values(by='mot_id')"
   ]
  },
  {
   "cell_type": "markdown",
   "metadata": {},
   "source": [
    "## get the neural data"
   ]
  },
  {
   "cell_type": "code",
   "execution_count": 3,
   "metadata": {},
   "outputs": [
    {
     "name": "stdout",
     "output_type": "stream",
     "text": [
      "[ 0  1 10 11 12 13 14 15 16 17 18 19  2 20 21 22 23 24 25 26 27 28 29  3 30\n",
      " 31 32 33 34 35 36 37 38 39  4 40 41 42 43 44 45 46 47 48 49  5 50 51 52 53\n",
      " 54 55 56 57 58 59  6 60 61 62 63  7  8  9]\n"
     ]
    }
   ],
   "source": [
    "all_sess_units = um.list_sess_units(bird, sess)\n",
    "kwik_file = et.open_kwik(bird, sess)\n",
    "chans_list = np.array(exp_par['channel_config']['neural'])\n",
    "all_units = kwkf.list_units(kwik_file, group=0, sorted=False)\n",
    "units_list = [unitobjs.Unit(clu, kwik_file=kwik_file) for clu in all_units.clu]\n",
    "units_spk_list = [unitobjs.threshUnit(ch, kwd_file=kwd_file) for ch in chans_list]\n",
    "\n",
    "# this returns a numpy recarray with cols:\n",
    "# group: site group (electrode shank)\n",
    "# clu: cluster number\n",
    "# qlt: sorting quality: 1 is MUA, 2 is well isolated (by default, only these 2 qlt's are returned)\n",
    "# For instance, see all the clusters that are either mua or good units.\n",
    "print(all_units['clu'])\n"
   ]
  },
  {
   "cell_type": "code",
   "execution_count": 4,
   "metadata": {},
   "outputs": [
    {
     "data": {
      "text/plain": [
       "True"
      ]
     },
     "execution_count": 4,
     "metadata": {},
     "output_type": "execute_result"
    }
   ],
   "source": [
    "type(units_list[0]) is unitobjs.Unit"
   ]
  },
  {
   "cell_type": "code",
   "execution_count": 5,
   "metadata": {},
   "outputs": [
    {
     "data": {
      "text/plain": [
       "True"
      ]
     },
     "execution_count": 5,
     "metadata": {},
     "output_type": "execute_result"
    }
   ],
   "source": [
    "type(units_spk_list[0]) is unitobjs.threshUnit"
   ]
  },
  {
   "cell_type": "code",
   "execution_count": 6,
   "metadata": {
    "collapsed": true
   },
   "outputs": [],
   "source": [
    "def filter_syllables(all_syll, syl_type=None, test_frac=0):\n",
    "    if syl_type:\n",
    "        syl_selection = (all_syll['syl_type']==syl_type) & (all_syll['keep']==True)\n",
    "    else:\n",
    "        syl_selection = (all_syll['keep']==True)\n",
    "        \n",
    "    select_syl = all_syll[syl_selection]\n",
    "    total_trials = select_syl.shape[0]\n",
    "    test_trials = np.int(test_frac*total_trials)\n",
    "    \n",
    "    syl_train = select_syl[:total_trials-test_trials].reset_index(drop=True)\n",
    "    syl_test = select_syl[-test_trials:]\n",
    "    return syl_train, syl_test\n",
    "\n",
    "syl_train, syl_test = filter_syllables(all_fit_syl)"
   ]
  },
  {
   "cell_type": "code",
   "execution_count": 7,
   "metadata": {
    "collapsed": true
   },
   "outputs": [],
   "source": [
    "logger.setLevel(logging.INFO)"
   ]
  },
  {
   "cell_type": "code",
   "execution_count": 8,
   "metadata": {
    "scrolled": true
   },
   "outputs": [
    {
     "data": {
      "text/html": [
       "<div>\n",
       "<style>\n",
       "    .dataframe thead tr:only-child th {\n",
       "        text-align: right;\n",
       "    }\n",
       "\n",
       "    .dataframe thead th {\n",
       "        text-align: left;\n",
       "    }\n",
       "\n",
       "    .dataframe tbody tr th {\n",
       "        vertical-align: top;\n",
       "    }\n",
       "</style>\n",
       "<table border=\"1\" class=\"dataframe\">\n",
       "  <thead>\n",
       "    <tr style=\"text-align: right;\">\n",
       "      <th></th>\n",
       "      <th>alpha</th>\n",
       "      <th>beta</th>\n",
       "      <th>bird</th>\n",
       "      <th>duration</th>\n",
       "      <th>end</th>\n",
       "      <th>env</th>\n",
       "      <th>keep</th>\n",
       "      <th>mot_id</th>\n",
       "      <th>mot_start</th>\n",
       "      <th>rec</th>\n",
       "      <th>rw_stream</th>\n",
       "      <th>sess</th>\n",
       "      <th>start</th>\n",
       "      <th>syl_type</th>\n",
       "    </tr>\n",
       "  </thead>\n",
       "  <tbody>\n",
       "    <tr>\n",
       "      <th>0</th>\n",
       "      <td>[0.0, 0.0, 0.0, 0.0, 0.0, 0.0, 0.0, 0.0, 0.0, ...</td>\n",
       "      <td>[0.0, 0.0, 0.0, 0.0, 0.0, 0.0, 0.0, 0.0, 0.0, ...</td>\n",
       "      <td>z007</td>\n",
       "      <td>24</td>\n",
       "      <td>24</td>\n",
       "      <td>[0.0, 0.0, 0.0, 0.0, 0.0, 0.0, 0.0, 0.0, 0.0, ...</td>\n",
       "      <td>True</td>\n",
       "      <td>0</td>\n",
       "      <td>1162891</td>\n",
       "      <td>0</td>\n",
       "      <td>NaN</td>\n",
       "      <td>day-2016-09-10</td>\n",
       "      <td>0</td>\n",
       "      <td>-1</td>\n",
       "    </tr>\n",
       "    <tr>\n",
       "      <th>1</th>\n",
       "      <td>[-0.15, -0.15, -0.15, -0.15, -0.15, -0.15, -0....</td>\n",
       "      <td>[-2.56355994662e-05, -0.00207750708528, -0.006...</td>\n",
       "      <td>z007</td>\n",
       "      <td>96</td>\n",
       "      <td>120</td>\n",
       "      <td>[0.0, 3.30279394987e-05, 0.000274328203233, 0....</td>\n",
       "      <td>True</td>\n",
       "      <td>0</td>\n",
       "      <td>1162891</td>\n",
       "      <td>0</td>\n",
       "      <td>[-580.152440085, -101.479004269, 193.100188735...</td>\n",
       "      <td>day-2016-09-10</td>\n",
       "      <td>24</td>\n",
       "      <td>0</td>\n",
       "    </tr>\n",
       "    <tr>\n",
       "      <th>2</th>\n",
       "      <td>[0.0, 0.0, 0.0, 0.0, 0.0, 0.0, 0.0, 0.0, 0.0, ...</td>\n",
       "      <td>[0.0, 0.0, 0.0, 0.0, 0.0, 0.0, 0.0, 0.0, 0.0, ...</td>\n",
       "      <td>z007</td>\n",
       "      <td>26</td>\n",
       "      <td>146</td>\n",
       "      <td>[0.0, 0.0, 0.0, 0.0, 0.0, 0.0, 0.0, 0.0, 0.0, ...</td>\n",
       "      <td>True</td>\n",
       "      <td>0</td>\n",
       "      <td>1162891</td>\n",
       "      <td>0</td>\n",
       "      <td>NaN</td>\n",
       "      <td>day-2016-09-10</td>\n",
       "      <td>120</td>\n",
       "      <td>-1</td>\n",
       "    </tr>\n",
       "    <tr>\n",
       "      <th>3</th>\n",
       "      <td>[-0.15, -0.15, -0.15, -0.15, -0.15, -0.15, -0....</td>\n",
       "      <td>[-3.08395284618e-18, 1.43749900607e-05, -2.592...</td>\n",
       "      <td>z007</td>\n",
       "      <td>55</td>\n",
       "      <td>201</td>\n",
       "      <td>[0.0, 3.344744516e-06, 5.53151042954e-05, 0.00...</td>\n",
       "      <td>True</td>\n",
       "      <td>0</td>\n",
       "      <td>1162891</td>\n",
       "      <td>0</td>\n",
       "      <td>[62.6438879502, 114.412092842, -166.479685062,...</td>\n",
       "      <td>day-2016-09-10</td>\n",
       "      <td>146</td>\n",
       "      <td>1</td>\n",
       "    </tr>\n",
       "    <tr>\n",
       "      <th>4</th>\n",
       "      <td>[0.0, 0.0, 0.0, 0.0, 0.0, 0.0, 0.0, 0.0, 0.0, ...</td>\n",
       "      <td>[0.0, 0.0, 0.0, 0.0, 0.0, 0.0, 0.0, 0.0, 0.0, ...</td>\n",
       "      <td>z007</td>\n",
       "      <td>41</td>\n",
       "      <td>242</td>\n",
       "      <td>[0.0, 0.0, 0.0, 0.0, 0.0, 0.0, 0.0, 0.0, 0.0, ...</td>\n",
       "      <td>True</td>\n",
       "      <td>0</td>\n",
       "      <td>1162891</td>\n",
       "      <td>0</td>\n",
       "      <td>NaN</td>\n",
       "      <td>day-2016-09-10</td>\n",
       "      <td>201</td>\n",
       "      <td>-1</td>\n",
       "    </tr>\n",
       "    <tr>\n",
       "      <th>5</th>\n",
       "      <td>[-0.15, -0.15, -0.15, -0.15, -0.15, -0.15, -0....</td>\n",
       "      <td>[-1.23140883983e-06, 5.00256040509e-06, -9.419...</td>\n",
       "      <td>z007</td>\n",
       "      <td>164</td>\n",
       "      <td>406</td>\n",
       "      <td>[0.0, 1.48021263825e-05, 0.000171064138495, 0....</td>\n",
       "      <td>True</td>\n",
       "      <td>0</td>\n",
       "      <td>1162891</td>\n",
       "      <td>0</td>\n",
       "      <td>[278.059739262, 90.870581641, -35.1446345273, ...</td>\n",
       "      <td>day-2016-09-10</td>\n",
       "      <td>242</td>\n",
       "      <td>2</td>\n",
       "    </tr>\n",
       "    <tr>\n",
       "      <th>6</th>\n",
       "      <td>[0.0, 0.0, 0.0, 0.0, 0.0, 0.0, 0.0, 0.0, 0.0, ...</td>\n",
       "      <td>[0.0, 0.0, 0.0, 0.0, 0.0, 0.0, 0.0, 0.0, 0.0, ...</td>\n",
       "      <td>z007</td>\n",
       "      <td>62</td>\n",
       "      <td>468</td>\n",
       "      <td>[0.0, 0.0, 0.0, 0.0, 0.0, 0.0, 0.0, 0.0, 0.0, ...</td>\n",
       "      <td>True</td>\n",
       "      <td>0</td>\n",
       "      <td>1162891</td>\n",
       "      <td>0</td>\n",
       "      <td>NaN</td>\n",
       "      <td>day-2016-09-10</td>\n",
       "      <td>406</td>\n",
       "      <td>-1</td>\n",
       "    </tr>\n",
       "    <tr>\n",
       "      <th>7</th>\n",
       "      <td>[-0.15, -0.15, -0.15, -0.15, -0.15, -0.15, -0....</td>\n",
       "      <td>[-3.31119147695e-17, 6.54776505666e-05, -9.315...</td>\n",
       "      <td>z007</td>\n",
       "      <td>119</td>\n",
       "      <td>587</td>\n",
       "      <td>[0.0, 0.000340639435022, 0.00201549172616, 0.0...</td>\n",
       "      <td>True</td>\n",
       "      <td>0</td>\n",
       "      <td>1162891</td>\n",
       "      <td>0</td>\n",
       "      <td>[-87.9710258089, -125.171776586, -71.201651964...</td>\n",
       "      <td>day-2016-09-10</td>\n",
       "      <td>468</td>\n",
       "      <td>3</td>\n",
       "    </tr>\n",
       "    <tr>\n",
       "      <th>8</th>\n",
       "      <td>[0.0, 0.0, 0.0, 0.0, 0.0, 0.0, 0.0, 0.0, 0.0, ...</td>\n",
       "      <td>[0.0, 0.0, 0.0, 0.0, 0.0, 0.0, 0.0, 0.0, 0.0, ...</td>\n",
       "      <td>z007</td>\n",
       "      <td>20</td>\n",
       "      <td>607</td>\n",
       "      <td>[0.0, 0.0, 0.0, 0.0, 0.0, 0.0, 0.0, 0.0, 0.0, ...</td>\n",
       "      <td>True</td>\n",
       "      <td>0</td>\n",
       "      <td>1162891</td>\n",
       "      <td>0</td>\n",
       "      <td>NaN</td>\n",
       "      <td>day-2016-09-10</td>\n",
       "      <td>587</td>\n",
       "      <td>-1</td>\n",
       "    </tr>\n",
       "    <tr>\n",
       "      <th>9</th>\n",
       "      <td>[-0.15, -0.15, -0.15, -0.15, -0.15, -0.15, -0....</td>\n",
       "      <td>[-8.99486246803e-19, 4.28959238016e-05, -6.098...</td>\n",
       "      <td>z007</td>\n",
       "      <td>57</td>\n",
       "      <td>203</td>\n",
       "      <td>[0.0, 4.63197166736e-06, 1.21613173855e-05, 3....</td>\n",
       "      <td>True</td>\n",
       "      <td>1</td>\n",
       "      <td>1089521</td>\n",
       "      <td>0</td>\n",
       "      <td>[-106.732926771, 55.5591698029, -32.1540400725...</td>\n",
       "      <td>day-2016-09-10</td>\n",
       "      <td>146</td>\n",
       "      <td>1</td>\n",
       "    </tr>\n",
       "    <tr>\n",
       "      <th>10</th>\n",
       "      <td>[-0.15, -0.15, -0.15, -0.15, -0.15, -0.15, -0....</td>\n",
       "      <td>[-6.55288968905e-06, 3.02790796106e-07, -4.602...</td>\n",
       "      <td>z007</td>\n",
       "      <td>162</td>\n",
       "      <td>406</td>\n",
       "      <td>[0.0, 6.57365872675e-05, 0.000247569595897, 0....</td>\n",
       "      <td>True</td>\n",
       "      <td>1</td>\n",
       "      <td>1089521</td>\n",
       "      <td>0</td>\n",
       "      <td>[240.882460322, 135.453803157, -41.1835964786,...</td>\n",
       "      <td>day-2016-09-10</td>\n",
       "      <td>244</td>\n",
       "      <td>2</td>\n",
       "    </tr>\n",
       "    <tr>\n",
       "      <th>11</th>\n",
       "      <td>[-0.15, -0.15, -0.15, -0.15, -0.15, -0.15, -0....</td>\n",
       "      <td>[-2.92163953849e-17, 0.00015100093785, -0.0002...</td>\n",
       "      <td>z007</td>\n",
       "      <td>126</td>\n",
       "      <td>586</td>\n",
       "      <td>[0.0, 8.83776896387e-06, 2.52275218491e-05, 2....</td>\n",
       "      <td>True</td>\n",
       "      <td>1</td>\n",
       "      <td>1089521</td>\n",
       "      <td>0</td>\n",
       "      <td>[-16.0104233579, -99.4552745833, -194.60237605...</td>\n",
       "      <td>day-2016-09-10</td>\n",
       "      <td>460</td>\n",
       "      <td>3</td>\n",
       "    </tr>\n",
       "    <tr>\n",
       "      <th>12</th>\n",
       "      <td>[0.0, 0.0, 0.0, 0.0, 0.0, 0.0, 0.0, 0.0, 0.0, ...</td>\n",
       "      <td>[0.0, 0.0, 0.0, 0.0, 0.0, 0.0, 0.0, 0.0, 0.0, ...</td>\n",
       "      <td>z007</td>\n",
       "      <td>27</td>\n",
       "      <td>27</td>\n",
       "      <td>[0.0, 0.0, 0.0, 0.0, 0.0, 0.0, 0.0, 0.0, 0.0, ...</td>\n",
       "      <td>True</td>\n",
       "      <td>3</td>\n",
       "      <td>1139920</td>\n",
       "      <td>0</td>\n",
       "      <td>NaN</td>\n",
       "      <td>day-2016-09-10</td>\n",
       "      <td>0</td>\n",
       "      <td>-1</td>\n",
       "    </tr>\n",
       "    <tr>\n",
       "      <th>13</th>\n",
       "      <td>[-0.15, -0.15, -0.15, -0.15, -0.15, -0.15, -0....</td>\n",
       "      <td>[-3.78806963121e-18, -0.00181309424407, -0.005...</td>\n",
       "      <td>z007</td>\n",
       "      <td>103</td>\n",
       "      <td>130</td>\n",
       "      <td>[0.0, 8.58482473964e-06, 5.44538168095e-05, 9....</td>\n",
       "      <td>True</td>\n",
       "      <td>3</td>\n",
       "      <td>1139920</td>\n",
       "      <td>0</td>\n",
       "      <td>[143.660321614, 137.650586681, 126.486458689, ...</td>\n",
       "      <td>day-2016-09-10</td>\n",
       "      <td>27</td>\n",
       "      <td>0</td>\n",
       "    </tr>\n",
       "    <tr>\n",
       "      <th>14</th>\n",
       "      <td>[0.0, 0.0, 0.0, 0.0, 0.0, 0.0, 0.0, 0.0, 0.0, ...</td>\n",
       "      <td>[0.0, 0.0, 0.0, 0.0, 0.0, 0.0, 0.0, 0.0, 0.0, ...</td>\n",
       "      <td>z007</td>\n",
       "      <td>21</td>\n",
       "      <td>151</td>\n",
       "      <td>[0.0, 0.0, 0.0, 0.0, 0.0, 0.0, 0.0, 0.0, 0.0, ...</td>\n",
       "      <td>True</td>\n",
       "      <td>3</td>\n",
       "      <td>1139920</td>\n",
       "      <td>0</td>\n",
       "      <td>NaN</td>\n",
       "      <td>day-2016-09-10</td>\n",
       "      <td>130</td>\n",
       "      <td>-1</td>\n",
       "    </tr>\n",
       "    <tr>\n",
       "      <th>15</th>\n",
       "      <td>[-0.15, -0.15, -0.15, -0.15, -0.15, -0.15, -0....</td>\n",
       "      <td>[-4.50849100187e-05, 1.43604149221e-05, -1.731...</td>\n",
       "      <td>z007</td>\n",
       "      <td>52</td>\n",
       "      <td>203</td>\n",
       "      <td>[0.0, 1.02752042131e-05, 5.15085719149e-05, 0....</td>\n",
       "      <td>True</td>\n",
       "      <td>3</td>\n",
       "      <td>1139920</td>\n",
       "      <td>0</td>\n",
       "      <td>[-190.385969106, -237.702601998, -171.95595201...</td>\n",
       "      <td>day-2016-09-10</td>\n",
       "      <td>151</td>\n",
       "      <td>1</td>\n",
       "    </tr>\n",
       "    <tr>\n",
       "      <th>16</th>\n",
       "      <td>[0.0, 0.0, 0.0, 0.0, 0.0, 0.0, 0.0, 0.0, 0.0, ...</td>\n",
       "      <td>[0.0, 0.0, 0.0, 0.0, 0.0, 0.0, 0.0, 0.0, 0.0, ...</td>\n",
       "      <td>z007</td>\n",
       "      <td>42</td>\n",
       "      <td>245</td>\n",
       "      <td>[0.0, 0.0, 0.0, 0.0, 0.0, 0.0, 0.0, 0.0, 0.0, ...</td>\n",
       "      <td>True</td>\n",
       "      <td>3</td>\n",
       "      <td>1139920</td>\n",
       "      <td>0</td>\n",
       "      <td>NaN</td>\n",
       "      <td>day-2016-09-10</td>\n",
       "      <td>203</td>\n",
       "      <td>-1</td>\n",
       "    </tr>\n",
       "    <tr>\n",
       "      <th>17</th>\n",
       "      <td>[-0.15, -0.15, -0.15, -0.15, -0.15, -0.15, -0....</td>\n",
       "      <td>[-3.51464802788e-05, 8.56399485916e-06, -7.855...</td>\n",
       "      <td>z007</td>\n",
       "      <td>159</td>\n",
       "      <td>404</td>\n",
       "      <td>[0.0, 1.71071119824e-05, 0.000114381795403, 0....</td>\n",
       "      <td>True</td>\n",
       "      <td>3</td>\n",
       "      <td>1139920</td>\n",
       "      <td>0</td>\n",
       "      <td>[-355.143532281, -314.829590731, -270.87440704...</td>\n",
       "      <td>day-2016-09-10</td>\n",
       "      <td>245</td>\n",
       "      <td>2</td>\n",
       "    </tr>\n",
       "    <tr>\n",
       "      <th>18</th>\n",
       "      <td>[0.0, 0.0, 0.0, 0.0, 0.0, 0.0, 0.0, 0.0, 0.0, ...</td>\n",
       "      <td>[0.0, 0.0, 0.0, 0.0, 0.0, 0.0, 0.0, 0.0, 0.0, ...</td>\n",
       "      <td>z007</td>\n",
       "      <td>62</td>\n",
       "      <td>466</td>\n",
       "      <td>[0.0, 0.0, 0.0, 0.0, 0.0, 0.0, 0.0, 0.0, 0.0, ...</td>\n",
       "      <td>True</td>\n",
       "      <td>3</td>\n",
       "      <td>1139920</td>\n",
       "      <td>0</td>\n",
       "      <td>NaN</td>\n",
       "      <td>day-2016-09-10</td>\n",
       "      <td>404</td>\n",
       "      <td>-1</td>\n",
       "    </tr>\n",
       "    <tr>\n",
       "      <th>19</th>\n",
       "      <td>[-0.15, -0.15, -0.15, -0.15, -0.15, -0.15, -0....</td>\n",
       "      <td>[-2.72686356925e-17, 7.81891648101e-05, -0.000...</td>\n",
       "      <td>z007</td>\n",
       "      <td>120</td>\n",
       "      <td>586</td>\n",
       "      <td>[0.0, 8.97585259045e-05, 0.000507890821918, 0....</td>\n",
       "      <td>True</td>\n",
       "      <td>3</td>\n",
       "      <td>1139920</td>\n",
       "      <td>0</td>\n",
       "      <td>[432.764131169, 271.667636006, 88.257799036, -...</td>\n",
       "      <td>day-2016-09-10</td>\n",
       "      <td>466</td>\n",
       "      <td>3</td>\n",
       "    </tr>\n",
       "  </tbody>\n",
       "</table>\n",
       "</div>"
      ],
      "text/plain": [
       "                                                alpha  \\\n",
       "0   [0.0, 0.0, 0.0, 0.0, 0.0, 0.0, 0.0, 0.0, 0.0, ...   \n",
       "1   [-0.15, -0.15, -0.15, -0.15, -0.15, -0.15, -0....   \n",
       "2   [0.0, 0.0, 0.0, 0.0, 0.0, 0.0, 0.0, 0.0, 0.0, ...   \n",
       "3   [-0.15, -0.15, -0.15, -0.15, -0.15, -0.15, -0....   \n",
       "4   [0.0, 0.0, 0.0, 0.0, 0.0, 0.0, 0.0, 0.0, 0.0, ...   \n",
       "5   [-0.15, -0.15, -0.15, -0.15, -0.15, -0.15, -0....   \n",
       "6   [0.0, 0.0, 0.0, 0.0, 0.0, 0.0, 0.0, 0.0, 0.0, ...   \n",
       "7   [-0.15, -0.15, -0.15, -0.15, -0.15, -0.15, -0....   \n",
       "8   [0.0, 0.0, 0.0, 0.0, 0.0, 0.0, 0.0, 0.0, 0.0, ...   \n",
       "9   [-0.15, -0.15, -0.15, -0.15, -0.15, -0.15, -0....   \n",
       "10  [-0.15, -0.15, -0.15, -0.15, -0.15, -0.15, -0....   \n",
       "11  [-0.15, -0.15, -0.15, -0.15, -0.15, -0.15, -0....   \n",
       "12  [0.0, 0.0, 0.0, 0.0, 0.0, 0.0, 0.0, 0.0, 0.0, ...   \n",
       "13  [-0.15, -0.15, -0.15, -0.15, -0.15, -0.15, -0....   \n",
       "14  [0.0, 0.0, 0.0, 0.0, 0.0, 0.0, 0.0, 0.0, 0.0, ...   \n",
       "15  [-0.15, -0.15, -0.15, -0.15, -0.15, -0.15, -0....   \n",
       "16  [0.0, 0.0, 0.0, 0.0, 0.0, 0.0, 0.0, 0.0, 0.0, ...   \n",
       "17  [-0.15, -0.15, -0.15, -0.15, -0.15, -0.15, -0....   \n",
       "18  [0.0, 0.0, 0.0, 0.0, 0.0, 0.0, 0.0, 0.0, 0.0, ...   \n",
       "19  [-0.15, -0.15, -0.15, -0.15, -0.15, -0.15, -0....   \n",
       "\n",
       "                                                 beta  bird  duration  end  \\\n",
       "0   [0.0, 0.0, 0.0, 0.0, 0.0, 0.0, 0.0, 0.0, 0.0, ...  z007        24   24   \n",
       "1   [-2.56355994662e-05, -0.00207750708528, -0.006...  z007        96  120   \n",
       "2   [0.0, 0.0, 0.0, 0.0, 0.0, 0.0, 0.0, 0.0, 0.0, ...  z007        26  146   \n",
       "3   [-3.08395284618e-18, 1.43749900607e-05, -2.592...  z007        55  201   \n",
       "4   [0.0, 0.0, 0.0, 0.0, 0.0, 0.0, 0.0, 0.0, 0.0, ...  z007        41  242   \n",
       "5   [-1.23140883983e-06, 5.00256040509e-06, -9.419...  z007       164  406   \n",
       "6   [0.0, 0.0, 0.0, 0.0, 0.0, 0.0, 0.0, 0.0, 0.0, ...  z007        62  468   \n",
       "7   [-3.31119147695e-17, 6.54776505666e-05, -9.315...  z007       119  587   \n",
       "8   [0.0, 0.0, 0.0, 0.0, 0.0, 0.0, 0.0, 0.0, 0.0, ...  z007        20  607   \n",
       "9   [-8.99486246803e-19, 4.28959238016e-05, -6.098...  z007        57  203   \n",
       "10  [-6.55288968905e-06, 3.02790796106e-07, -4.602...  z007       162  406   \n",
       "11  [-2.92163953849e-17, 0.00015100093785, -0.0002...  z007       126  586   \n",
       "12  [0.0, 0.0, 0.0, 0.0, 0.0, 0.0, 0.0, 0.0, 0.0, ...  z007        27   27   \n",
       "13  [-3.78806963121e-18, -0.00181309424407, -0.005...  z007       103  130   \n",
       "14  [0.0, 0.0, 0.0, 0.0, 0.0, 0.0, 0.0, 0.0, 0.0, ...  z007        21  151   \n",
       "15  [-4.50849100187e-05, 1.43604149221e-05, -1.731...  z007        52  203   \n",
       "16  [0.0, 0.0, 0.0, 0.0, 0.0, 0.0, 0.0, 0.0, 0.0, ...  z007        42  245   \n",
       "17  [-3.51464802788e-05, 8.56399485916e-06, -7.855...  z007       159  404   \n",
       "18  [0.0, 0.0, 0.0, 0.0, 0.0, 0.0, 0.0, 0.0, 0.0, ...  z007        62  466   \n",
       "19  [-2.72686356925e-17, 7.81891648101e-05, -0.000...  z007       120  586   \n",
       "\n",
       "                                                  env  keep  mot_id  \\\n",
       "0   [0.0, 0.0, 0.0, 0.0, 0.0, 0.0, 0.0, 0.0, 0.0, ...  True       0   \n",
       "1   [0.0, 3.30279394987e-05, 0.000274328203233, 0....  True       0   \n",
       "2   [0.0, 0.0, 0.0, 0.0, 0.0, 0.0, 0.0, 0.0, 0.0, ...  True       0   \n",
       "3   [0.0, 3.344744516e-06, 5.53151042954e-05, 0.00...  True       0   \n",
       "4   [0.0, 0.0, 0.0, 0.0, 0.0, 0.0, 0.0, 0.0, 0.0, ...  True       0   \n",
       "5   [0.0, 1.48021263825e-05, 0.000171064138495, 0....  True       0   \n",
       "6   [0.0, 0.0, 0.0, 0.0, 0.0, 0.0, 0.0, 0.0, 0.0, ...  True       0   \n",
       "7   [0.0, 0.000340639435022, 0.00201549172616, 0.0...  True       0   \n",
       "8   [0.0, 0.0, 0.0, 0.0, 0.0, 0.0, 0.0, 0.0, 0.0, ...  True       0   \n",
       "9   [0.0, 4.63197166736e-06, 1.21613173855e-05, 3....  True       1   \n",
       "10  [0.0, 6.57365872675e-05, 0.000247569595897, 0....  True       1   \n",
       "11  [0.0, 8.83776896387e-06, 2.52275218491e-05, 2....  True       1   \n",
       "12  [0.0, 0.0, 0.0, 0.0, 0.0, 0.0, 0.0, 0.0, 0.0, ...  True       3   \n",
       "13  [0.0, 8.58482473964e-06, 5.44538168095e-05, 9....  True       3   \n",
       "14  [0.0, 0.0, 0.0, 0.0, 0.0, 0.0, 0.0, 0.0, 0.0, ...  True       3   \n",
       "15  [0.0, 1.02752042131e-05, 5.15085719149e-05, 0....  True       3   \n",
       "16  [0.0, 0.0, 0.0, 0.0, 0.0, 0.0, 0.0, 0.0, 0.0, ...  True       3   \n",
       "17  [0.0, 1.71071119824e-05, 0.000114381795403, 0....  True       3   \n",
       "18  [0.0, 0.0, 0.0, 0.0, 0.0, 0.0, 0.0, 0.0, 0.0, ...  True       3   \n",
       "19  [0.0, 8.97585259045e-05, 0.000507890821918, 0....  True       3   \n",
       "\n",
       "    mot_start  rec                                          rw_stream  \\\n",
       "0     1162891    0                                                NaN   \n",
       "1     1162891    0  [-580.152440085, -101.479004269, 193.100188735...   \n",
       "2     1162891    0                                                NaN   \n",
       "3     1162891    0  [62.6438879502, 114.412092842, -166.479685062,...   \n",
       "4     1162891    0                                                NaN   \n",
       "5     1162891    0  [278.059739262, 90.870581641, -35.1446345273, ...   \n",
       "6     1162891    0                                                NaN   \n",
       "7     1162891    0  [-87.9710258089, -125.171776586, -71.201651964...   \n",
       "8     1162891    0                                                NaN   \n",
       "9     1089521    0  [-106.732926771, 55.5591698029, -32.1540400725...   \n",
       "10    1089521    0  [240.882460322, 135.453803157, -41.1835964786,...   \n",
       "11    1089521    0  [-16.0104233579, -99.4552745833, -194.60237605...   \n",
       "12    1139920    0                                                NaN   \n",
       "13    1139920    0  [143.660321614, 137.650586681, 126.486458689, ...   \n",
       "14    1139920    0                                                NaN   \n",
       "15    1139920    0  [-190.385969106, -237.702601998, -171.95595201...   \n",
       "16    1139920    0                                                NaN   \n",
       "17    1139920    0  [-355.143532281, -314.829590731, -270.87440704...   \n",
       "18    1139920    0                                                NaN   \n",
       "19    1139920    0  [432.764131169, 271.667636006, 88.257799036, -...   \n",
       "\n",
       "              sess  start  syl_type  \n",
       "0   day-2016-09-10      0        -1  \n",
       "1   day-2016-09-10     24         0  \n",
       "2   day-2016-09-10    120        -1  \n",
       "3   day-2016-09-10    146         1  \n",
       "4   day-2016-09-10    201        -1  \n",
       "5   day-2016-09-10    242         2  \n",
       "6   day-2016-09-10    406        -1  \n",
       "7   day-2016-09-10    468         3  \n",
       "8   day-2016-09-10    587        -1  \n",
       "9   day-2016-09-10    146         1  \n",
       "10  day-2016-09-10    244         2  \n",
       "11  day-2016-09-10    460         3  \n",
       "12  day-2016-09-10      0        -1  \n",
       "13  day-2016-09-10     27         0  \n",
       "14  day-2016-09-10    130        -1  \n",
       "15  day-2016-09-10    151         1  \n",
       "16  day-2016-09-10    203        -1  \n",
       "17  day-2016-09-10    245         2  \n",
       "18  day-2016-09-10    404        -1  \n",
       "19  day-2016-09-10    466         3  "
      ]
     },
     "execution_count": 8,
     "metadata": {},
     "output_type": "execute_result"
    }
   ],
   "source": [
    "syl_train = syl_train.sort_values(['mot_id', 'start'], ascending=[True, True]).reset_index(drop=True)\n",
    "syl_train[:20]\n"
   ]
  },
  {
   "cell_type": "code",
   "execution_count": 9,
   "metadata": {},
   "outputs": [
    {
     "data": {
      "text/plain": [
       "array([  0,  24, 120, 146, 201, 242, 406, 468, 587, 146, 244, 460,   0,\n",
       "        27, 130, 151, 203, 245, 404, 466, 586,   0,  23, 126, 151, 207,\n",
       "       245, 407, 464, 585,   0,  22, 120, 146, 200, 242, 406, 467, 590,\n",
       "         0,  21, 120, 146, 201, 240, 407, 467, 591,   0,  17, 117, 144,\n",
       "       198, 240, 404, 469, 595,   0,  17, 116, 143, 196, 239, 404, 468,\n",
       "       591,   0,  20, 125, 146, 202, 242, 405, 466, 589,   0,  18, 115,\n",
       "       144, 196, 241, 402, 469, 590,   0,  20, 119, 147, 200, 242, 403,\n",
       "       468, 589,   0,  24, 124, 145, 203, 244, 406, 467, 598,   0,  19,\n",
       "       123, 199, 242, 409, 469, 591, 240, 468,   0,  21, 126, 206, 243,\n",
       "       410, 468, 590, 233, 467,   0,  24, 127, 219, 407, 598,   0,  21,\n",
       "       123, 206, 232, 406, 462, 588,   0,  26, 127, 211, 243, 407, 465,\n",
       "       585,   0,  17, 123, 145, 199, 240, 408, 466, 593,   0,  21, 120,\n",
       "       146, 200, 240, 409, 467, 598,   0,  18, 124, 149, 202, 243, 407,\n",
       "       466, 589,   0,  20, 123, 146, 199, 242, 406, 469, 594,   0,  19,\n",
       "       117, 144, 199, 241, 404, 469, 593,   0,  18, 119, 146, 199, 243,\n",
       "       404, 469, 590,   0,  19, 117, 144, 198, 241, 404, 468, 592,   0,\n",
       "        23, 120, 148, 203, 244, 406, 468, 592,   0,  17, 120, 146, 201,\n",
       "       244, 410, 468, 592,   0,  23, 123, 147, 203, 406, 468, 589,   0,\n",
       "        19, 119, 144, 199, 241, 404, 468, 591,   0,  20, 120, 146, 200,\n",
       "       243, 405, 469, 592,   0,  21, 117, 146, 199, 243, 404, 469, 589,\n",
       "         0,  17, 124, 148, 204, 424, 463, 594,   0,  17, 116, 145, 197,\n",
       "       241, 403, 468, 592,   0,  22, 120, 147, 199, 243, 405, 467, 590,\n",
       "         0,  23, 118, 148, 200, 243, 404, 468, 589,   0,  17, 112, 143,\n",
       "       196, 240, 404, 468, 592,   0,  17, 119, 204, 239, 408, 468, 594,\n",
       "         0,  25, 119, 149, 200, 244, 404, 468, 589,   0,  23, 124, 149,\n",
       "       203, 244, 409, 468, 591,   0,  17, 123, 150, 201, 245, 409, 468,\n",
       "       586,   0,  17, 118, 145, 199, 240, 406, 468, 592,   0,  20, 114,\n",
       "       194, 242, 402, 468, 589,   0,  20, 115, 145, 198, 241, 404, 467,\n",
       "       590,   0,  20, 122, 147, 201, 243, 409, 468, 592,   0,  24, 120,\n",
       "       148, 199, 244, 406, 468, 589,   0,  24, 122, 149, 204, 243, 403,\n",
       "       467, 585,   0,  25, 119, 198, 404, 467, 587,   0,  21, 122, 148,\n",
       "       203, 245, 407, 468, 592,   0,  19, 119, 148, 202, 244, 407, 469,\n",
       "       592,   0,  25, 121, 150, 201, 244, 406, 466, 588,   0,  18, 113,\n",
       "       144, 197, 239, 403, 469, 592,   0,  24, 127, 150, 206, 246, 408,\n",
       "       467, 590,   0,  20, 124, 148, 204, 244, 407, 468, 590,   0,  25,\n",
       "       120, 148, 201, 243, 404, 467, 587, 141, 239, 469,   0,  21, 118,\n",
       "       144, 199, 242, 405, 467, 592,   0,  24, 122, 148, 202, 244, 404,\n",
       "       466, 588,   0,  21, 117, 148, 199, 243, 403, 469, 589,   0,  17,\n",
       "       110, 138, 194, 238, 408, 469, 596,   0,  26, 125, 150, 205, 246,\n",
       "       407, 467, 587,   0,  25, 124, 151, 202, 246, 405, 468, 588,   0,\n",
       "        20, 118, 147, 198, 242, 402, 466, 586,   0,  24, 120, 199, 244,\n",
       "       404, 467, 586,   0,  21, 124, 150, 208, 244, 410, 467, 589])"
      ]
     },
     "execution_count": 9,
     "metadata": {},
     "output_type": "execute_result"
    }
   ],
   "source": [
    "(syl_train.start.as_matrix()).astype(np.int)"
   ]
  },
  {
   "cell_type": "code",
   "execution_count": 10,
   "metadata": {
    "scrolled": true
   },
   "outputs": [
    {
     "name": "stderr",
     "output_type": "stream",
     "text": [
      "100%|██████████| 545/545 [01:20<00:00,  6.44it/s]\n"
     ]
    }
   ],
   "source": [
    "reload(ld)\n",
    "reload(unitobjs)\n",
    "reload(syn)\n",
    "from tqdm import tqdm\n",
    "\n",
    "bin_size = 3\n",
    "s_f = 30000\n",
    "history_bins = 20\n",
    "\n",
    "ms_to_samp = s_f//1000.\n",
    "# get all the syllable starts within the kwik file at once\n",
    "syl_starts = (syl_train.start.as_matrix() * ms_to_samp + syl_train.mot_start.as_matrix()).astype(np.int)\n",
    "syl_recs = syl_train.rec.as_matrix().astype(np.int)\n",
    "syl_starts_kwik = kwkf.apply_rec_offset(kwik_file, syl_starts, syl_recs)\n",
    "\n",
    "all_sv = []\n",
    "all_target = []\n",
    "\n",
    "\n",
    "for i_syl, syl in tqdm(syl_train.iterrows(), total=syl_train.shape[0]):\n",
    "    #print(i_syl)\n",
    "    len_ms = int(syl['duration'])\n",
    "    len_samples = int(syl['duration'] * ms_to_samp)\n",
    "    pars_ms = np.stack([np.array(syl[p_name]) for p_name in ['alpha', 'beta', 'env']])[:,:len_ms]\n",
    "    pars_ms = syn.regularize_pars(pars_ms)\n",
    "    model_pars = bp.col_binned(pars_ms, bin_size)/bin_size\n",
    "    this_sv, ths_sv_u = unitobjs.support_vector(np.array([syl_starts_kwik[i_syl]]), \n",
    "                                         len_samples, \n",
    "                                         units_list,\n",
    "                                        bin_size = bin_size,\n",
    "                                        history_bins = history_bins+1,\n",
    "                                        no_silent=False)\n",
    "    all_sv.append(this_sv)\n",
    "    all_target.append(model_pars)\n",
    "    #print(len_samples)"
   ]
  },
  {
   "cell_type": "code",
   "execution_count": null,
   "metadata": {
    "collapsed": true
   },
   "outputs": [],
   "source": [
    "reload(nd)"
   ]
  },
  {
   "cell_type": "code",
   "execution_count": 12,
   "metadata": {},
   "outputs": [
    {
     "name": "stderr",
     "output_type": "stream",
     "text": [
      "545it [00:00, 4457.14it/s]\n"
     ]
    }
   ],
   "source": [
    "fv_list = []\n",
    "tv_list = []\n",
    "for fv, tv in tqdm(zip(all_sv, all_target)):\n",
    "        f_win, t_win = nd.one_frame_to_window(fv, tv, history_bins)\n",
    "        fv_list.append(f_win)\n",
    "        tv_list.append(t_win)\n",
    "\n",
    "feature_window = np.vstack(fv_list)\n",
    "target_window = np.vstack(tv_list)"
   ]
  },
  {
   "cell_type": "code",
   "execution_count": 13,
   "metadata": {
    "collapsed": true
   },
   "outputs": [],
   "source": [
    "train_fraction = 0.1\n",
    "\n",
    "total_samples = feature_window.shape[0]\n",
    "train_samples = int(train_fraction*total_samples)\n",
    "\n",
    "X = feature_window[:-train_samples, :, :]\n",
    "Y = target_window[:-train_samples, :]\n",
    "\n",
    "X_t = feature_window[-train_samples: , :, :]\n",
    "Y_t = target_window[-train_samples: , :]"
   ]
  },
  {
   "cell_type": "code",
   "execution_count": 14,
   "metadata": {},
   "outputs": [
    {
     "data": {
      "text/plain": [
       "(11283, 20, 64)"
      ]
     },
     "execution_count": 14,
     "metadata": {},
     "output_type": "execute_result"
    }
   ],
   "source": [
    "X.shape"
   ]
  },
  {
   "cell_type": "code",
   "execution_count": 15,
   "metadata": {},
   "outputs": [
    {
     "data": {
      "text/plain": [
       "(11283, 3)"
      ]
     },
     "execution_count": 15,
     "metadata": {},
     "output_type": "execute_result"
    }
   ],
   "source": [
    "Y.shape"
   ]
  },
  {
   "cell_type": "code",
   "execution_count": 16,
   "metadata": {},
   "outputs": [
    {
     "data": {
      "text/plain": [
       "545"
      ]
     },
     "execution_count": 16,
     "metadata": {},
     "output_type": "execute_result"
    }
   ],
   "source": [
    "len(all_sv)"
   ]
  },
  {
   "cell_type": "markdown",
   "metadata": {},
   "source": [
    "## Train the network"
   ]
  },
  {
   "cell_type": "code",
   "execution_count": 17,
   "metadata": {},
   "outputs": [
    {
     "name": "stderr",
     "output_type": "stream",
     "text": [
      "Using TensorFlow backend.\n"
     ]
    }
   ],
   "source": [
    "from keras.models import Sequential, load_model\n",
    "from keras.layers import Dense, Dropout\n",
    "from keras.layers import LSTM, Activation, advanced_activations\n",
    "from keras.regularizers import l2\n",
    "from keras.callbacks import EarlyStopping, ModelCheckpoint"
   ]
  },
  {
   "cell_type": "code",
   "execution_count": 18,
   "metadata": {
    "scrolled": true
   },
   "outputs": [
    {
     "name": "stderr",
     "output_type": "stream",
     "text": [
      "/home/earneodo/.conda/envs/py35/lib/python3.5/site-packages/keras/models.py:851: UserWarning: The `nb_epoch` argument in `fit` has been renamed `epochs`.\n",
      "  warnings.warn('The `nb_epoch` argument in `fit` '\n"
     ]
    },
    {
     "name": "stdout",
     "output_type": "stream",
     "text": [
      "Train on 10154 samples, validate on 1129 samples\n",
      "Epoch 1/30\n",
      "10152/10154 [============================>.] - ETA: 0s - loss: 0.0237Epoch 00000: val_loss improved from inf to 0.01333, saving model to /mnt/cube/earneodo/bci_zf/ss_data/z007/day-2016-09-10/model_lstm_warptemp_bs03_hs20_te030.h5\n",
      "10154/10154 [==============================] - 705s - loss: 0.0237 - val_loss: 0.0133\n",
      "Epoch 2/30\n",
      "10152/10154 [============================>.] - ETA: 0s - loss: 0.0132Epoch 00001: val_loss did not improve\n",
      "10154/10154 [==============================] - 689s - loss: 0.0132 - val_loss: 0.0154\n",
      "Epoch 3/30\n",
      "10153/10154 [============================>.] - ETA: 0s - loss: 0.0130Epoch 00002: val_loss improved from 0.01333 to 0.01158, saving model to /mnt/cube/earneodo/bci_zf/ss_data/z007/day-2016-09-10/model_lstm_warptemp_bs03_hs20_te030.h5\n",
      "10154/10154 [==============================] - 713s - loss: 0.0130 - val_loss: 0.0116\n",
      "Epoch 4/30\n",
      "10153/10154 [============================>.] - ETA: 0s - loss: 0.0121Epoch 00003: val_loss did not improve\n",
      "10154/10154 [==============================] - 693s - loss: 0.0121 - val_loss: 0.0129\n",
      "Epoch 5/30\n",
      "10152/10154 [============================>.] - ETA: 0s - loss: 0.0115Epoch 00004: val_loss improved from 0.01158 to 0.00861, saving model to /mnt/cube/earneodo/bci_zf/ss_data/z007/day-2016-09-10/model_lstm_warptemp_bs03_hs20_te030.h5\n",
      "10154/10154 [==============================] - 694s - loss: 0.0115 - val_loss: 0.0086\n",
      "Epoch 6/30\n",
      "10153/10154 [============================>.] - ETA: 0s - loss: 0.0110Epoch 00005: val_loss did not improve\n",
      "10154/10154 [==============================] - 671s - loss: 0.0110 - val_loss: 0.0088\n",
      "Epoch 7/30\n",
      "10153/10154 [============================>.] - ETA: 0s - loss: 0.0107Epoch 00006: val_loss did not improve\n",
      "10154/10154 [==============================] - 708s - loss: 0.0107 - val_loss: 0.0100\n",
      "Epoch 8/30\n",
      "10153/10154 [============================>.] - ETA: 0s - loss: 0.0107Epoch 00007: val_loss did not improve\n",
      "10154/10154 [==============================] - 733s - loss: 0.0107 - val_loss: 0.0109\n",
      "Epoch 9/30\n",
      "10153/10154 [============================>.] - ETA: 0s - loss: 0.0103Epoch 00008: val_loss improved from 0.00861 to 0.00856, saving model to /mnt/cube/earneodo/bci_zf/ss_data/z007/day-2016-09-10/model_lstm_warptemp_bs03_hs20_te030.h5\n",
      "10154/10154 [==============================] - 729s - loss: 0.0103 - val_loss: 0.0086\n",
      "Epoch 10/30\n",
      "10153/10154 [============================>.] - ETA: 0s - loss: 0.0100- ETA: 0s - loss: 0.010Epoch 00009: val_loss did not improve\n",
      "10154/10154 [==============================] - 718s - loss: 0.0100 - val_loss: 0.0113\n",
      "Epoch 11/30\n",
      "10153/10154 [============================>.] - ETA: 0s - loss: 0.0104Epoch 00010: val_loss did not improve\n",
      "10154/10154 [==============================] - 544s - loss: 0.0104 - val_loss: 0.0089\n",
      "Epoch 12/30\n",
      "10152/10154 [============================>.] - ETA: 0s - loss: 0.0102Epoch 00011: val_loss did not improve\n",
      "10154/10154 [==============================] - 487s - loss: 0.0102 - val_loss: 0.0112\n",
      "Epoch 13/30\n",
      "10153/10154 [============================>.] - ETA: 0s - loss: 0.0094Epoch 00012: val_loss improved from 0.00856 to 0.00739, saving model to /mnt/cube/earneodo/bci_zf/ss_data/z007/day-2016-09-10/model_lstm_warptemp_bs03_hs20_te030.h5\n",
      "10154/10154 [==============================] - 711s - loss: 0.0094 - val_loss: 0.0074\n",
      "Epoch 14/30\n",
      "10153/10154 [============================>.] - ETA: 0s - loss: 0.0108Epoch 00013: val_loss did not improve\n",
      "10154/10154 [==============================] - 726s - loss: 0.0108 - val_loss: 0.0086\n",
      "Epoch 15/30\n",
      "10153/10154 [============================>.] - ETA: 0s - loss: 0.0090Epoch 00014: val_loss did not improve\n",
      "10154/10154 [==============================] - 720s - loss: 0.0090 - val_loss: 0.0120\n",
      "Epoch 16/30\n",
      "10153/10154 [============================>.] - ETA: 0s - loss: 0.0092Epoch 00015: val_loss did not improve\n",
      "10154/10154 [==============================] - 725s - loss: 0.0092 - val_loss: 0.0129\n",
      "Epoch 17/30\n",
      "10153/10154 [============================>.] - ETA: 0s - loss: 0.0092Epoch 00016: val_loss improved from 0.00739 to 0.00690, saving model to /mnt/cube/earneodo/bci_zf/ss_data/z007/day-2016-09-10/model_lstm_warptemp_bs03_hs20_te030.h5\n",
      "10154/10154 [==============================] - 723s - loss: 0.0092 - val_loss: 0.0069\n",
      "Epoch 18/30\n",
      "10153/10154 [============================>.] - ETA: 0s - loss: 0.0087Epoch 00017: val_loss did not improve\n",
      "10154/10154 [==============================] - 717s - loss: 0.0087 - val_loss: 0.0077\n",
      "Epoch 19/30\n",
      "10153/10154 [============================>.] - ETA: 0s - loss: 0.0090- ETEpoch 00018: val_loss improved from 0.00690 to 0.00652, saving model to /mnt/cube/earneodo/bci_zf/ss_data/z007/day-2016-09-10/model_lstm_warptemp_bs03_hs20_te030.h5\n",
      "10154/10154 [==============================] - 728s - loss: 0.0090 - val_loss: 0.0065\n",
      "Epoch 20/30\n",
      "10153/10154 [============================>.] - ETA: 0s - loss: 0.0088Epoch 00019: val_loss did not improve\n",
      "10154/10154 [==============================] - 709s - loss: 0.0088 - val_loss: 0.0077\n",
      "Epoch 21/30\n",
      "10153/10154 [============================>.] - ETA: 0s - loss: 0.0083Epoch 00020: val_loss did not improve\n",
      "10154/10154 [==============================] - 697s - loss: 0.0084 - val_loss: 0.0114\n",
      "Epoch 22/30\n",
      "10153/10154 [============================>.] - ETA: 0s - loss: 0.0091Epoch 00021: val_loss did not improve\n",
      "10154/10154 [==============================] - 697s - loss: 0.0091 - val_loss: 0.0101\n",
      "Epoch 23/30\n",
      "10153/10154 [============================>.] - ETA: 0s - loss: 0.0086Epoch 00022: val_loss did not improve\n",
      "10154/10154 [==============================] - 693s - loss: 0.0086 - val_loss: 0.0066\n",
      "Epoch 24/30\n",
      "10153/10154 [============================>.] - ETA: 0s - loss: 0.0086Epoch 00023: val_loss did not improve\n",
      "10154/10154 [==============================] - 693s - loss: 0.0086 - val_loss: 0.0075\n",
      "Epoch 00023: early stopping\n"
     ]
    }
   ],
   "source": [
    "n_feat = X.shape[2]\n",
    "n_test = 10\n",
    "l2_val = 0.001\n",
    "dropout_val = 0.2\n",
    "cross_valid = False\n",
    "num_neurons = [20, 30]\n",
    "num_ep = 30\n",
    "valid_split = 0.1\n",
    "\n",
    "model = Sequential()\n",
    "# Multi layer feedforward\n",
    "# model.add(Dense(n_feat//2, input_dim=n_feat, kernel_initializer='uniform', activation='relu'))\n",
    "# model.add(Dense(320, kernel_initializer='uniform', activation='relu'))\n",
    "# model.add(Dense(64, kernel_initializer='uniform', activation='relu'))\n",
    "# model.add(Dense(16, kernel_initializer='uniform', activation='relu'))\n",
    "# model.add(Dense(8, kernel_initializer='uniform', activation='relu'))\n",
    "# model.add(Dense(3, kernel_initializer='normal'))\n",
    "# model.compile(loss='mean_absolute_error', optimizer='rmsprop')\n",
    "\n",
    "# quick and dirty lstm\n",
    "model.add(LSTM(num_neurons[0], input_shape=(history_bins, n_feat),return_sequences=True, \n",
    "               kernel_regularizer=l2(l2_val)))\n",
    "model.add(Dropout(dropout_val))\n",
    "model.add(LSTM(num_neurons[1], kernel_regularizer=l2(l2_val)))\n",
    "model.add(Dropout(dropout_val))\n",
    "model.add(Dense(1, kernel_regularizer=l2(l2_val)))\n",
    "model.compile(loss = 'mean_squared_error', optimizer = 'adam')\n",
    "\n",
    "model_name = 'lstm_warptemp_bs{0:02d}_hs{1:02d}_te{2:03d}.h5'.format(bin_size, history_bins, num_ep)\n",
    "model_path = os.path.join(fn['folders']['ss'], 'model_' + model_name)\n",
    "weights_path = os.path.join(fn['folders']['ss'], 'weights_' + model_name)\n",
    "\n",
    "\n",
    "callbacks = [EarlyStopping(monitor='val_loss', patience=4, verbose=1),\n",
    "             ModelCheckpoint(filepath=model_path, monitor='val_loss', save_best_only=True, verbose=1)\n",
    "            ]\n",
    "if valid_split:\n",
    "    model.fit(X, Y[:,1], nb_epoch=num_ep, batch_size=1, verbose=1, \n",
    "              validation_split=valid_split, callbacks=callbacks)\n",
    "else:\n",
    "    model.fit(X, Y, nb_epoch=num_ep, batch_size=1, verbose=int(len(test_indeces)==1), \n",
    "              validation_data=(X_v, Y_v), callbacks=callbacks)\n",
    "\n",
    "model = load_model(model_path)\n"
   ]
  },
  {
   "cell_type": "code",
   "execution_count": 19,
   "metadata": {},
   "outputs": [
    {
     "data": {
      "text/plain": [
       "(1253, 3)"
      ]
     },
     "execution_count": 19,
     "metadata": {},
     "output_type": "execute_result"
    }
   ],
   "source": [
    "Y_t.shape"
   ]
  },
  {
   "cell_type": "code",
   "execution_count": null,
   "metadata": {
    "collapsed": true,
    "scrolled": true
   },
   "outputs": [],
   "source": [
    "score = model.evaluate(X_t, Y_t, batch_size=1)\n",
    "print(score)"
   ]
  },
  {
   "cell_type": "code",
   "execution_count": 20,
   "metadata": {},
   "outputs": [
    {
     "ename": "ValueError",
     "evalue": "Error when checking : expected lstm_4_input to have shape (None, 20, 32) but got array with shape (1253, 20, 64)",
     "output_type": "error",
     "traceback": [
      "\u001b[0;31m---------------------------------------------------------------------------\u001b[0m",
      "\u001b[0;31mValueError\u001b[0m                                Traceback (most recent call last)",
      "\u001b[0;32m<ipython-input-20-583fe442d908>\u001b[0m in \u001b[0;36m<module>\u001b[0;34m()\u001b[0m\n\u001b[0;32m----> 1\u001b[0;31m \u001b[0mmp\u001b[0m \u001b[0;34m=\u001b[0m \u001b[0mmodel\u001b[0m\u001b[0;34m.\u001b[0m\u001b[0mpredict\u001b[0m\u001b[0;34m(\u001b[0m\u001b[0mX_t\u001b[0m\u001b[0;34m,\u001b[0m \u001b[0mbatch_size\u001b[0m\u001b[0;34m=\u001b[0m\u001b[0;36m1\u001b[0m\u001b[0;34m)\u001b[0m\u001b[0;34m\u001b[0m\u001b[0m\n\u001b[0m\u001b[1;32m      2\u001b[0m \u001b[0mmp\u001b[0m\u001b[0;34m.\u001b[0m\u001b[0mshape\u001b[0m\u001b[0;34m\u001b[0m\u001b[0m\n",
      "\u001b[0;32m/home/earneodo/.conda/envs/py35/lib/python3.5/site-packages/keras/models.py\u001b[0m in \u001b[0;36mpredict\u001b[0;34m(self, x, batch_size, verbose)\u001b[0m\n\u001b[1;32m    914\u001b[0m         \u001b[0;32mif\u001b[0m \u001b[0mself\u001b[0m\u001b[0;34m.\u001b[0m\u001b[0mmodel\u001b[0m \u001b[0;32mis\u001b[0m \u001b[0;32mNone\u001b[0m\u001b[0;34m:\u001b[0m\u001b[0;34m\u001b[0m\u001b[0m\n\u001b[1;32m    915\u001b[0m             \u001b[0mself\u001b[0m\u001b[0;34m.\u001b[0m\u001b[0mbuild\u001b[0m\u001b[0;34m(\u001b[0m\u001b[0;34m)\u001b[0m\u001b[0;34m\u001b[0m\u001b[0m\n\u001b[0;32m--> 916\u001b[0;31m         \u001b[0;32mreturn\u001b[0m \u001b[0mself\u001b[0m\u001b[0;34m.\u001b[0m\u001b[0mmodel\u001b[0m\u001b[0;34m.\u001b[0m\u001b[0mpredict\u001b[0m\u001b[0;34m(\u001b[0m\u001b[0mx\u001b[0m\u001b[0;34m,\u001b[0m \u001b[0mbatch_size\u001b[0m\u001b[0;34m=\u001b[0m\u001b[0mbatch_size\u001b[0m\u001b[0;34m,\u001b[0m \u001b[0mverbose\u001b[0m\u001b[0;34m=\u001b[0m\u001b[0mverbose\u001b[0m\u001b[0;34m)\u001b[0m\u001b[0;34m\u001b[0m\u001b[0m\n\u001b[0m\u001b[1;32m    917\u001b[0m \u001b[0;34m\u001b[0m\u001b[0m\n\u001b[1;32m    918\u001b[0m     \u001b[0;32mdef\u001b[0m \u001b[0mpredict_on_batch\u001b[0m\u001b[0;34m(\u001b[0m\u001b[0mself\u001b[0m\u001b[0;34m,\u001b[0m \u001b[0mx\u001b[0m\u001b[0;34m)\u001b[0m\u001b[0;34m:\u001b[0m\u001b[0;34m\u001b[0m\u001b[0m\n",
      "\u001b[0;32m/home/earneodo/.conda/envs/py35/lib/python3.5/site-packages/keras/engine/training.py\u001b[0m in \u001b[0;36mpredict\u001b[0;34m(self, x, batch_size, verbose)\u001b[0m\n\u001b[1;32m   1574\u001b[0m         x = _standardize_input_data(x, self._feed_input_names,\n\u001b[1;32m   1575\u001b[0m                                     \u001b[0mself\u001b[0m\u001b[0;34m.\u001b[0m\u001b[0m_feed_input_shapes\u001b[0m\u001b[0;34m,\u001b[0m\u001b[0;34m\u001b[0m\u001b[0m\n\u001b[0;32m-> 1576\u001b[0;31m                                     check_batch_axis=False)\n\u001b[0m\u001b[1;32m   1577\u001b[0m         \u001b[0;32mif\u001b[0m \u001b[0mself\u001b[0m\u001b[0;34m.\u001b[0m\u001b[0mstateful\u001b[0m\u001b[0;34m:\u001b[0m\u001b[0;34m\u001b[0m\u001b[0m\n\u001b[1;32m   1578\u001b[0m             \u001b[0;32mif\u001b[0m \u001b[0mx\u001b[0m\u001b[0;34m[\u001b[0m\u001b[0;36m0\u001b[0m\u001b[0;34m]\u001b[0m\u001b[0;34m.\u001b[0m\u001b[0mshape\u001b[0m\u001b[0;34m[\u001b[0m\u001b[0;36m0\u001b[0m\u001b[0;34m]\u001b[0m \u001b[0;34m>\u001b[0m \u001b[0mbatch_size\u001b[0m \u001b[0;32mand\u001b[0m \u001b[0mx\u001b[0m\u001b[0;34m[\u001b[0m\u001b[0;36m0\u001b[0m\u001b[0;34m]\u001b[0m\u001b[0;34m.\u001b[0m\u001b[0mshape\u001b[0m\u001b[0;34m[\u001b[0m\u001b[0;36m0\u001b[0m\u001b[0;34m]\u001b[0m \u001b[0;34m%\u001b[0m \u001b[0mbatch_size\u001b[0m \u001b[0;34m!=\u001b[0m \u001b[0;36m0\u001b[0m\u001b[0;34m:\u001b[0m\u001b[0;34m\u001b[0m\u001b[0m\n",
      "\u001b[0;32m/home/earneodo/.conda/envs/py35/lib/python3.5/site-packages/keras/engine/training.py\u001b[0m in \u001b[0;36m_standardize_input_data\u001b[0;34m(data, names, shapes, check_batch_axis, exception_prefix)\u001b[0m\n\u001b[1;32m    137\u001b[0m                             \u001b[0;34m' to have shape '\u001b[0m \u001b[0;34m+\u001b[0m \u001b[0mstr\u001b[0m\u001b[0;34m(\u001b[0m\u001b[0mshapes\u001b[0m\u001b[0;34m[\u001b[0m\u001b[0mi\u001b[0m\u001b[0;34m]\u001b[0m\u001b[0;34m)\u001b[0m \u001b[0;34m+\u001b[0m\u001b[0;34m\u001b[0m\u001b[0m\n\u001b[1;32m    138\u001b[0m                             \u001b[0;34m' but got array with shape '\u001b[0m \u001b[0;34m+\u001b[0m\u001b[0;34m\u001b[0m\u001b[0m\n\u001b[0;32m--> 139\u001b[0;31m                             str(array.shape))\n\u001b[0m\u001b[1;32m    140\u001b[0m     \u001b[0;32mreturn\u001b[0m \u001b[0marrays\u001b[0m\u001b[0;34m\u001b[0m\u001b[0m\n\u001b[1;32m    141\u001b[0m \u001b[0;34m\u001b[0m\u001b[0m\n",
      "\u001b[0;31mValueError\u001b[0m: Error when checking : expected lstm_4_input to have shape (None, 20, 32) but got array with shape (1253, 20, 64)"
     ]
    }
   ],
   "source": [
    "mp = model.predict(X_t, batch_size=1)\n",
    "mp.shape"
   ]
  },
  {
   "cell_type": "code",
   "execution_count": 5,
   "metadata": {},
   "outputs": [
    {
     "ename": "NameError",
     "evalue": "name 'Y_t' is not defined",
     "output_type": "error",
     "traceback": [
      "\u001b[0;31m---------------------------------------------------------------------------\u001b[0m",
      "\u001b[0;31mNameError\u001b[0m                                 Traceback (most recent call last)",
      "\u001b[0;32m<ipython-input-5-c17b1304caf7>\u001b[0m in \u001b[0;36m<module>\u001b[0;34m()\u001b[0m\n\u001b[0;32m----> 1\u001b[0;31m \u001b[0mplt\u001b[0m\u001b[0;34m.\u001b[0m\u001b[0mplot\u001b[0m\u001b[0;34m(\u001b[0m\u001b[0;34m(\u001b[0m\u001b[0mY_t\u001b[0m\u001b[0;34m[\u001b[0m\u001b[0;34m:\u001b[0m\u001b[0;36m200\u001b[0m\u001b[0;34m,\u001b[0m\u001b[0;36m1\u001b[0m\u001b[0;34m]\u001b[0m\u001b[0;34m)\u001b[0m\u001b[0;34m,\u001b[0m \u001b[0;34m'k'\u001b[0m\u001b[0;34m)\u001b[0m\u001b[0;34m\u001b[0m\u001b[0m\n\u001b[0m\u001b[1;32m      2\u001b[0m \u001b[0mplt\u001b[0m\u001b[0;34m.\u001b[0m\u001b[0mplot\u001b[0m\u001b[0;34m(\u001b[0m\u001b[0;34m(\u001b[0m\u001b[0mmp\u001b[0m\u001b[0;34m[\u001b[0m\u001b[0;34m:\u001b[0m\u001b[0;36m200\u001b[0m\u001b[0;34m,\u001b[0m \u001b[0;36m0\u001b[0m\u001b[0;34m]\u001b[0m\u001b[0;34m)\u001b[0m\u001b[0;34m)\u001b[0m\u001b[0;34m\u001b[0m\u001b[0m\n",
      "\u001b[0;31mNameError\u001b[0m: name 'Y_t' is not defined"
     ]
    }
   ],
   "source": [
    "plt.plot((Y_t[:200,1]), 'k')\n",
    "plt.plot((mp[:200, 0]))"
   ]
  },
  {
   "cell_type": "code",
   "execution_count": 4,
   "metadata": {},
   "outputs": [
    {
     "ename": "NameError",
     "evalue": "name 'mp' is not defined",
     "output_type": "error",
     "traceback": [
      "\u001b[0;31m---------------------------------------------------------------------------\u001b[0m",
      "\u001b[0;31mNameError\u001b[0m                                 Traceback (most recent call last)",
      "\u001b[0;32m<ipython-input-4-4dd67740ff15>\u001b[0m in \u001b[0;36m<module>\u001b[0;34m()\u001b[0m\n\u001b[1;32m      1\u001b[0m \u001b[0;32mfor\u001b[0m \u001b[0mi\u001b[0m \u001b[0;32min\u001b[0m \u001b[0mrange\u001b[0m\u001b[0;34m(\u001b[0m\u001b[0;36m3\u001b[0m\u001b[0;34m)\u001b[0m\u001b[0;34m:\u001b[0m\u001b[0;34m\u001b[0m\u001b[0m\n\u001b[1;32m      2\u001b[0m     \u001b[0mplt\u001b[0m\u001b[0;34m.\u001b[0m\u001b[0mfigure\u001b[0m\u001b[0;34m(\u001b[0m\u001b[0;34m)\u001b[0m\u001b[0;34m\u001b[0m\u001b[0m\n\u001b[0;32m----> 3\u001b[0;31m     \u001b[0mplt\u001b[0m\u001b[0;34m.\u001b[0m\u001b[0mplot\u001b[0m\u001b[0;34m(\u001b[0m\u001b[0msyn\u001b[0m\u001b[0;34m.\u001b[0m\u001b[0mnp_mulog_inv\u001b[0m\u001b[0;34m(\u001b[0m\u001b[0mmp\u001b[0m\u001b[0;34m[\u001b[0m\u001b[0;34m:\u001b[0m\u001b[0;36m200\u001b[0m\u001b[0;34m,\u001b[0m\u001b[0mi\u001b[0m\u001b[0;34m]\u001b[0m\u001b[0;34m)\u001b[0m\u001b[0;34m)\u001b[0m\u001b[0;34m\u001b[0m\u001b[0m\n\u001b[0m\u001b[1;32m      4\u001b[0m     \u001b[0mplt\u001b[0m\u001b[0;34m.\u001b[0m\u001b[0mplot\u001b[0m\u001b[0;34m(\u001b[0m\u001b[0msyn\u001b[0m\u001b[0;34m.\u001b[0m\u001b[0mnp_mulog_inv\u001b[0m\u001b[0;34m(\u001b[0m\u001b[0mY_t\u001b[0m\u001b[0;34m[\u001b[0m\u001b[0;34m:\u001b[0m\u001b[0;36m200\u001b[0m\u001b[0;34m,\u001b[0m \u001b[0mi\u001b[0m\u001b[0;34m]\u001b[0m\u001b[0;34m)\u001b[0m\u001b[0;34m)\u001b[0m\u001b[0;34m\u001b[0m\u001b[0m\n",
      "\u001b[0;31mNameError\u001b[0m: name 'mp' is not defined"
     ]
    },
    {
     "data": {
      "text/plain": [
       "<matplotlib.figure.Figure at 0x7f3561da4748>"
      ]
     },
     "metadata": {},
     "output_type": "display_data"
    }
   ],
   "source": [
    "for i in range(3):\n",
    "    plt.figure()\n",
    "    plt.plot(syn.np_mulog_inv(mp[:200,i]))\n",
    "    plt.plot(syn.np_mulog_inv(Y_t[:200, i]))"
   ]
  },
  {
   "cell_type": "code",
   "execution_count": 137,
   "metadata": {
    "collapsed": true
   },
   "outputs": [],
   "source": [
    "epochs = 15;\n",
    "model_name = 'lstm_warptemp_bs{0:02d}_hs{1:02d}_te{2:03d}.h5'.format(bin_size, history_bins, epochs)\n",
    "model_path = os.path.join(fn['folders']['ss'], 'model_' + model_name)\n",
    "weights_path = os.path.join(fn['folders']['ss'], 'weights_' + model_name)\n",
    "model.save(model_path)\n",
    "model.save_weights(weights_path)"
   ]
  }
 ],
 "metadata": {
  "kernelspec": {
   "display_name": "Python [conda env:py35]",
   "language": "python",
   "name": "conda-env-py35-py"
  },
  "language_info": {
   "codemirror_mode": {
    "name": "ipython",
    "version": 3
   },
   "file_extension": ".py",
   "mimetype": "text/x-python",
   "name": "python",
   "nbconvert_exporter": "python",
   "pygments_lexer": "ipython3",
   "version": "3.5.3"
  }
 },
 "nbformat": 4,
 "nbformat_minor": 1
}
