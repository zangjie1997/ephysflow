{
 "cells": [
  {
   "cell_type": "code",
   "execution_count": 1,
   "metadata": {},
   "outputs": [
    {
     "name": "stderr",
     "output_type": "stream",
     "text": [
      "2017-05-24 18:25:28,420 root         INFO     Computer: passaro\n",
      "2017-05-24 18:25:28,435 root         INFO     All modules loaded\n"
     ]
    }
   ],
   "source": [
    "# tampering with the kwd file on passaro\n",
    "# the /experiment folder is on the ssd of passaro (/usr/local/experiment/raw_data)\n",
    "%matplotlib inline\n",
    "from __future__ import division\n",
    "import pdb\n",
    "import sys\n",
    "import pandas as pd\n",
    "import numpy as np\n",
    "import scipy.io as sio\n",
    "import matplotlib.pyplot as plt\n",
    "import matplotlib\n",
    "import scipy.signal as sg\n",
    "import math\n",
    "import scipy as sp\n",
    "import socket\n",
    "import os\n",
    "import wave\n",
    "import struct\n",
    "import h5py\n",
    "from scipy.signal import hilbert\n",
    "import glob\n",
    "import errno    \n",
    "import os\n",
    "import shutil as sh\n",
    "import yaml\n",
    "import logging\n",
    "#from importlib import reload\n",
    "\n",
    "logger = logging.getLogger()\n",
    "handler = logging.StreamHandler()\n",
    "formatter = logging.Formatter(\n",
    "        '%(asctime)s %(name)-12s %(levelname)-8s %(message)s')\n",
    "handler.setFormatter(formatter)\n",
    "logger.addHandler(handler)\n",
    "logger.setLevel(logging.DEBUG)\n",
    "\n",
    "# Check wihic computer to decide where the things are mounted\n",
    "comp_name=socket.gethostname()\n",
    "logger.info('Computer: ' + comp_name)\n",
    "if  comp_name == 'chim':\n",
    "    #sys.path.append('/Users/zeke/experiment/ephysDataManagement/ephysScripts')\n",
    "    experiment_folder = os.path.join(os.path.abspath('W:') , \"earneodo\", \"bci_zf\")\n",
    "elif  'lookfar' in comp_name:\n",
    "    repos_folder = os.path.abspath('/Users/zeke/reposs')\n",
    "    experiment_folder = os.path.join(os.path.abspath('/Volumes'), \n",
    "                                     'gentner', \n",
    "                                     'earneodo', \n",
    "                                     'bci_zf')\n",
    "\n",
    "elif 'lintu' in comp_name:\n",
    "    repos_folder = os.path.abspath('/mnt/cube/earneodo/repos')\n",
    "    experiment_folder = os.path.join('/mnt/cube/earneodo/bci_zf/')\n",
    "\n",
    "elif 'passaro' in comp_name:\n",
    "    repos_folder = os.path.abspath('/mnt/cube/earneodo/repos')\n",
    "    cube_experiment_folder = os.path.join('/mnt/cube/earneodo/bci_zf/')\n",
    "    store_experiment_folder = os.path.join('/Data/bci_zf/')\n",
    "    experiment_folder = os.path.join('/usr/local/experiment')\n",
    "\n",
    "sys.path.append(os.path.join(repos_folder, 'soundflow', 'sound_tools'))\n",
    "sys.path.append(os.path.join(repos_folder, 'ephysflow'))\n",
    "sys.path.append(os.path.join(repos_folder, 'swissknife'))\n",
    "\n",
    "#import soundtools as st\n",
    "from scipy.io import wavfile\n",
    "from swissknife.bci.core import expstruct as et\n",
    "from swissknife.bci import supersession as ss\n",
    "from swissknife.bci import stimalign as sa\n",
    "\n",
    "logger.info('All modules loaded')\n",
    "\n",
    "#for the kilosort\n",
    "import subprocess\n",
    "import paramiko\n",
    "import select\n",
    "\n",
    "\n",
    "sys.path.append(os.path.join(repos_folder, 'ephysflow', 'bci_pipeline'))\n",
    "from swissknife.bci.core.file import h5_functions as h5f\n",
    "from swissknife.bci.core import kwik_functions as kwkf\n",
    "from swissknife.bci.core.pipeline.core import kilosort\n",
    "\n",
    "#logger = logging.getLogger('sort_functions')\n",
    "\n",
    "def ssh_run(host, cmd):\n",
    "    #logger.info('Will run ssh command {} on {}'.format(host, cmd))\n",
    "    ssh = subprocess.Popen([\"ssh\", \"%s\" % host, '%s;' % cmd, 'exit;'],\n",
    "                      shell=False,\n",
    "                      stdout=subprocess.PIPE,\n",
    "                      stderr=subprocess.PIPE)\n",
    "\n",
    "    result = ssh.stdout.readlines()\n",
    "    if result == []:\n",
    "        error = ssh.stderr.readlines()\n",
    "        print >>sys.stderr, \"ERROR: %s\" % error\n",
    "        #logger.error('something went wrong')\n",
    "    else:\n",
    "        print (result)\n",
    "        #logger.info('finished')    \n",
    "    return (result)\n",
    "\n",
    "def ssh_paramiko(host, cmd):\n",
    "    ssh = paramiko.SSHClient()\n",
    "    ssh.set_missing_host_key_policy(paramiko.AutoAddPolicy())\n",
    "    ssh.connect(host)\n",
    "    print(\"Connected to %s\" % host)\n",
    "    stdin, stdout, stderr = ssh.exec_command(cmd)\n",
    "    msg = []\n",
    "    while not stdout.channel.exit_status_ready():\n",
    "        # Only print data if there is data to read in the channel\n",
    "        if stdout.channel.recv_ready():\n",
    "            rl, wl, xl = select.select([stdout.channel], [], [], 0.0)\n",
    "            if len(rl) > 0:\n",
    "                # Print data from stdout\n",
    "                print (msg.append(stdout.channel.recv(1024)))\n",
    "    print(\"finished command, returning\")\n",
    "    ssh.close()\n",
    "    return msg\n",
    "\n",
    "# Make one single binary file\n",
    "def make_binary(bird, sess):\n",
    "    print('Making binary')\n",
    "    fn = et.file_names(bird, sess)\n",
    "    params = et.get_parameters(bird, sess)\n",
    "    kwd_path = et.file_path(fn, 'ss', 'ss_raw')\n",
    "    bin_path = et.file_path(fn, 'ss', 'ss_bin')\n",
    "    chan_list = params['channel_config']['neural']\n",
    "    h5f.kwd_to_binary(kwd_path, bin_path, chan_list=chan_list)\n",
    "    print('done')\n",
    "#make all the parameters for sorting with kilosort\n",
    "\n",
    "# sort with a script in niao (scripts gets the data from cube, puts back in cube)\n",
    "def niao_kilosort(bird, sess):\n",
    "    print('Sending sort to niao')\n",
    "    return ssh_paramiko('niao', 'py_kilosort.sh {0} {1}'.format(bird, sess))\n",
    "\n",
    "def local_kilosort(bird, sess):\n",
    "    logger.info('Will sort using kilosort on local computer')\n",
    "    kilosort.run_kilosort(bird, sess, \n",
    "                          kilo_dir=os.path.abspath('/home/earneodo/repos/KiloSort'),\n",
    "                          npymat_dir=os.path.abspath('/home/earneodo/repos/npy-matlab'))\n",
    "\n",
    "#convert back to kwik file"
   ]
  },
  {
   "cell_type": "code",
   "execution_count": 3,
   "metadata": {
    "scrolled": true
   },
   "outputs": [
    {
     "name": "stdout",
     "output_type": "stream",
     "text": [
      "['/mnt/cube/earneodo/bci_zf/raw_data/z007/2016-09-09_08-48-48_100/experiment1_100.raw.kwd', '/mnt/cube/earneodo/bci_zf/raw_data/z007/2016-09-09_09-55-46_100/experiment0_100.raw.kwd', '/mnt/cube/earneodo/bci_zf/raw_data/z007/2016-09-09_11-12-35_100/experiment1_100.raw.kwd', '/mnt/cube/earneodo/bci_zf/raw_data/z007/2016-09-09_14-22-15_100/experiment1_100.raw.kwd', '/mnt/cube/earneodo/bci_zf/raw_data/z007/2016-09-09_14-58-10_100/experiment1_100.raw.kwd', '/mnt/cube/earneodo/bci_zf/raw_data/z007/2016-09-09_16-10-46_100/experiment1_100.raw.kwd', '/mnt/cube/earneodo/bci_zf/raw_data/z007/2016-09-09_17-12-20_100/experiment1_100.raw.kwd', '/mnt/cube/earneodo/bci_zf/raw_data/z007/2016-09-09_17-34-37_100/experiment1_100.raw.kwd', '/mnt/cube/earneodo/bci_zf/raw_data/z007/sleep_2016-09-09_00-57-51_100/experiment1_100.raw.kwd', '/mnt/cube/earneodo/bci_zf/raw_data/z007/sleep_2016-09-09_01-57-58_100/experiment1_100.raw.kwd', '/mnt/cube/earneodo/bci_zf/raw_data/z007/sleep_2016-09-09_02-58-06_100/experiment1_100.raw.kwd', '/mnt/cube/earneodo/bci_zf/raw_data/z007/sleep_2016-09-09_03-58-13_100/experiment1_100.raw.kwd', '/mnt/cube/earneodo/bci_zf/raw_data/z007/sleep_2016-09-09_04-58-20_100/experiment1_100.raw.kwd', '/mnt/cube/earneodo/bci_zf/raw_data/z007/sleep_2016-09-09_05-58-27_100/experiment1_100.raw.kwd']\n"
     ]
    }
   ],
   "source": [
    "bird_id = 'z007'\n",
    "sess_days = ['2016-09-09', 'sleep_2016-09-09']\n",
    "depth = '100'\n",
    "raw_location = 'rw' #raw in local, rw in cube\n",
    "# Make the super session and gather the list of sessions\n",
    "# get the sessions list of files\n",
    "raw_data_folder = et.file_names(bird_id)['folders'][raw_location]\n",
    "\n",
    "all_sessions = [glob.glob(os.path.join(raw_data_folder, sess_day + '*' + str(depth))) for sess_day in sess_days]\n",
    "sessions = [s for sl in all_sessions for s in sl]\n",
    "day_par_file_path = os.path.join(sessions[0], et.file_names(bird_id)['structure']['par'])\n",
    "sess_par = et.get_parameters(bird_id, os.path.split(sessions[0])[-1], location=raw_location)\n",
    "super_sess_par = sess_par.copy()\n",
    "data_processor = sess_par['rec_config']['processors']['data']\n",
    "experiments = ss.list_flatten([glob.glob(os.path.join(s, '*_{}.raw.kwd'.format(data_processor)))[:] for s in sessions ])\n",
    "experiments.sort()\n",
    "print(experiments)"
   ]
  },
  {
   "cell_type": "code",
   "execution_count": 2,
   "metadata": {
    "scrolled": true
   },
   "outputs": [
    {
     "name": "stderr",
     "output_type": "stream",
     "text": [
      "2017-05-24 18:25:49,136 supersession INFO     Super session path /mnt/cube/earneodo/bci_zf/ss_data/z007/day-all_2016-09-09_100/experiment.raw.kwd\n",
      "2017-05-24 18:25:49,155 supersession INFO     searching *_100.raw.kwd\n",
      "2017-05-24 18:25:49,175 supersession INFO     Making supersession day-all_2016-09-09_100\n",
      "2017-05-24 18:25:49,179 supersession INFO     super file path: /mnt/cube/earneodo/bci_zf/ss_data/z007/day-all_2016-09-09_100/experiment.raw.kwd\n",
      "2017-05-24 18:25:49,182 supersession INFO     Found 14 experiment files\n",
      "2017-05-24 18:25:49,184 bci.core.expstruct DEBUG    Creating directory /mnt/cube/earneodo/bci_zf/ss_data/z007/day-all_2016-09-09_100\n",
      "2017-05-24 18:25:49,197 supersession INFO     Inserting file /mnt/cube/earneodo/bci_zf/raw_data/z007/2016-09-09_08-48-48_100/experiment1_100.raw.kwd\n",
      "2017-05-24 18:25:49,228 root         DEBUG    H5 file: <HDF5 file \"experiment.raw.kwd\" (mode r+)>\n"
     ]
    },
    {
     "name": "stdout",
     "output_type": "stream",
     "text": [
      "['/mnt/cube/earneodo/bci_zf/raw_data/z007/sleep_2016-09-09_00-57-51_100', '/mnt/cube/earneodo/bci_zf/raw_data/z007/sleep_2016-09-09_01-57-58_100', '/mnt/cube/earneodo/bci_zf/raw_data/z007/2016-09-09_14-58-10_100', '/mnt/cube/earneodo/bci_zf/raw_data/z007/2016-09-09_17-12-20_100', '/mnt/cube/earneodo/bci_zf/raw_data/z007/sleep_2016-09-09_02-58-06_100', '/mnt/cube/earneodo/bci_zf/raw_data/z007/2016-09-09_16-10-46_100', '/mnt/cube/earneodo/bci_zf/raw_data/z007/2016-09-09_14-22-15_100', '/mnt/cube/earneodo/bci_zf/raw_data/z007/2016-09-09_09-55-46_100', '/mnt/cube/earneodo/bci_zf/raw_data/z007/sleep_2016-09-09_03-58-13_100', '/mnt/cube/earneodo/bci_zf/raw_data/z007/2016-09-09_11-12-35_100', '/mnt/cube/earneodo/bci_zf/raw_data/z007/2016-09-09_17-34-37_100', '/mnt/cube/earneodo/bci_zf/raw_data/z007/2016-09-09_08-48-48_100', '/mnt/cube/earneodo/bci_zf/raw_data/z007/sleep_2016-09-09_05-58-27_100', '/mnt/cube/earneodo/bci_zf/raw_data/z007/sleep_2016-09-09_04-58-20_100']\n",
      "['/mnt/cube/earneodo/bci_zf/raw_data/z007/sleep_2016-09-09_00-57-51_100/*_100.raw.kwd', '/mnt/cube/earneodo/bci_zf/raw_data/z007/sleep_2016-09-09_01-57-58_100/*_100.raw.kwd', '/mnt/cube/earneodo/bci_zf/raw_data/z007/2016-09-09_14-58-10_100/*_100.raw.kwd', '/mnt/cube/earneodo/bci_zf/raw_data/z007/2016-09-09_17-12-20_100/*_100.raw.kwd', '/mnt/cube/earneodo/bci_zf/raw_data/z007/sleep_2016-09-09_02-58-06_100/*_100.raw.kwd', '/mnt/cube/earneodo/bci_zf/raw_data/z007/2016-09-09_16-10-46_100/*_100.raw.kwd', '/mnt/cube/earneodo/bci_zf/raw_data/z007/2016-09-09_14-22-15_100/*_100.raw.kwd', '/mnt/cube/earneodo/bci_zf/raw_data/z007/2016-09-09_09-55-46_100/*_100.raw.kwd', '/mnt/cube/earneodo/bci_zf/raw_data/z007/sleep_2016-09-09_03-58-13_100/*_100.raw.kwd', '/mnt/cube/earneodo/bci_zf/raw_data/z007/2016-09-09_11-12-35_100/*_100.raw.kwd', '/mnt/cube/earneodo/bci_zf/raw_data/z007/2016-09-09_17-34-37_100/*_100.raw.kwd', '/mnt/cube/earneodo/bci_zf/raw_data/z007/2016-09-09_08-48-48_100/*_100.raw.kwd', '/mnt/cube/earneodo/bci_zf/raw_data/z007/sleep_2016-09-09_05-58-27_100/*_100.raw.kwd', '/mnt/cube/earneodo/bci_zf/raw_data/z007/sleep_2016-09-09_04-58-20_100/*_100.raw.kwd']\n"
     ]
    },
    {
     "name": "stderr",
     "output_type": "stream",
     "text": [
      "2017-05-24 18:25:59,019 root         DEBUG    H5 file: <HDF5 file \"experiment.lfp.kwd\" (mode r+)>\n",
      "2017-05-24 18:25:59,024 supersession DEBUG    frame size 19200\n",
      "/usr/local/anaconda/lib/python2.7/site-packages/scipy/signal/signaltools.py:3398: FutureWarning:  Note: Decimate's zero_phase keyword argument will default to True in a future release. Until then, decimate defaults to one-way filtering for backwards compatibility. Ideally, always set this argument explicitly.\n",
      "  \"explicitly.\", FutureWarning)\n",
      "2017-05-24 18:26:14,828 supersession INFO     Inserting file /mnt/cube/earneodo/bci_zf/raw_data/z007/2016-09-09_09-55-46_100/experiment0_100.raw.kwd\n",
      "2017-05-24 18:26:15,176 root         DEBUG    H5 file: <HDF5 file \"experiment.raw.kwd\" (mode r+)>\n",
      "2017-05-24 18:26:15,178 root         DEBUG    H5 file: <HDF5 file \"experiment.raw.kwd\" (mode r+)>\n",
      "2017-05-24 18:26:24,786 root         DEBUG    H5 file: <HDF5 file \"experiment.raw.kwd\" (mode r+)>\n",
      "2017-05-24 18:26:24,788 root         DEBUG    H5 file: <HDF5 file \"experiment.raw.kwd\" (mode r+)>\n",
      "2017-05-24 18:26:31,068 root         DEBUG    H5 file: <HDF5 file \"experiment.lfp.kwd\" (mode r+)>\n",
      "2017-05-24 18:26:31,070 root         DEBUG    H5 file: <HDF5 file \"experiment.lfp.kwd\" (mode r+)>\n",
      "2017-05-24 18:26:31,073 supersession DEBUG    frame size 19200\n",
      "2017-05-24 18:26:38,947 root         DEBUG    H5 file: <HDF5 file \"experiment.lfp.kwd\" (mode r+)>\n",
      "2017-05-24 18:26:38,948 root         DEBUG    H5 file: <HDF5 file \"experiment.lfp.kwd\" (mode r+)>\n",
      "2017-05-24 18:26:38,951 supersession DEBUG    frame size 19200\n",
      "2017-05-24 18:26:50,290 supersession INFO     Inserting file /mnt/cube/earneodo/bci_zf/raw_data/z007/2016-09-09_11-12-35_100/experiment1_100.raw.kwd\n",
      "2017-05-24 18:26:50,525 root         DEBUG    H5 file: <HDF5 file \"experiment.raw.kwd\" (mode r+)>\n",
      "2017-05-24 18:26:50,527 root         DEBUG    H5 file: <HDF5 file \"experiment.raw.kwd\" (mode r+)>\n",
      "2017-05-24 18:27:34,539 root         DEBUG    H5 file: <HDF5 file \"experiment.lfp.kwd\" (mode r+)>\n",
      "2017-05-24 18:27:34,541 root         DEBUG    H5 file: <HDF5 file \"experiment.lfp.kwd\" (mode r+)>\n",
      "2017-05-24 18:27:34,547 supersession DEBUG    frame size 19200\n",
      "2017-05-24 18:27:56,382 supersession INFO     Inserting file /mnt/cube/earneodo/bci_zf/raw_data/z007/2016-09-09_14-22-15_100/experiment1_100.raw.kwd\n",
      "2017-05-24 18:27:56,500 root         DEBUG    H5 file: <HDF5 file \"experiment.raw.kwd\" (mode r+)>\n",
      "2017-05-24 18:27:56,502 root         DEBUG    H5 file: <HDF5 file \"experiment.raw.kwd\" (mode r+)>\n",
      "2017-05-24 18:28:40,814 root         DEBUG    H5 file: <HDF5 file \"experiment.raw.kwd\" (mode r+)>\n",
      "2017-05-24 18:28:40,816 root         DEBUG    H5 file: <HDF5 file \"experiment.raw.kwd\" (mode r+)>\n",
      "2017-05-24 18:28:40,867 root         DEBUG    H5 file: <HDF5 file \"experiment.lfp.kwd\" (mode r+)>\n",
      "2017-05-24 18:28:40,868 root         DEBUG    H5 file: <HDF5 file \"experiment.lfp.kwd\" (mode r+)>\n",
      "2017-05-24 18:28:40,877 supersession DEBUG    frame size 19200\n",
      "2017-05-24 18:29:14,611 root         DEBUG    H5 file: <HDF5 file \"experiment.lfp.kwd\" (mode r+)>\n",
      "2017-05-24 18:29:14,612 root         DEBUG    H5 file: <HDF5 file \"experiment.lfp.kwd\" (mode r+)>\n",
      "2017-05-24 18:29:14,617 supersession DEBUG    frame size 19200\n",
      "2017-05-24 18:29:14,794 supersession INFO     Inserting file /mnt/cube/earneodo/bci_zf/raw_data/z007/2016-09-09_14-58-10_100/experiment1_100.raw.kwd\n",
      "2017-05-24 18:29:14,876 root         DEBUG    H5 file: <HDF5 file \"experiment.raw.kwd\" (mode r+)>\n",
      "2017-05-24 18:29:14,877 root         DEBUG    H5 file: <HDF5 file \"experiment.raw.kwd\" (mode r+)>\n",
      "2017-05-24 18:29:29,990 root         DEBUG    H5 file: <HDF5 file \"experiment.lfp.kwd\" (mode r+)>\n",
      "2017-05-24 18:29:29,992 root         DEBUG    H5 file: <HDF5 file \"experiment.lfp.kwd\" (mode r+)>\n",
      "2017-05-24 18:29:29,997 supersession DEBUG    frame size 19200\n",
      "2017-05-24 18:29:42,612 supersession INFO     Inserting file /mnt/cube/earneodo/bci_zf/raw_data/z007/2016-09-09_16-10-46_100/experiment1_100.raw.kwd\n",
      "2017-05-24 18:29:42,724 root         DEBUG    H5 file: <HDF5 file \"experiment.raw.kwd\" (mode r+)>\n",
      "2017-05-24 18:29:42,725 root         DEBUG    H5 file: <HDF5 file \"experiment.raw.kwd\" (mode r+)>\n",
      "2017-05-24 18:31:26,558 root         DEBUG    H5 file: <HDF5 file \"experiment.raw.kwd\" (mode r+)>\n",
      "2017-05-24 18:31:26,560 root         DEBUG    H5 file: <HDF5 file \"experiment.raw.kwd\" (mode r+)>\n",
      "2017-05-24 18:32:14,678 root         DEBUG    H5 file: <HDF5 file \"experiment.lfp.kwd\" (mode r+)>\n",
      "2017-05-24 18:32:14,680 root         DEBUG    H5 file: <HDF5 file \"experiment.lfp.kwd\" (mode r+)>\n",
      "2017-05-24 18:32:14,684 supersession DEBUG    frame size 19200\n",
      "2017-05-24 18:32:56,208 root         DEBUG    H5 file: <HDF5 file \"experiment.lfp.kwd\" (mode r+)>\n",
      "2017-05-24 18:32:56,209 root         DEBUG    H5 file: <HDF5 file \"experiment.lfp.kwd\" (mode r+)>\n",
      "2017-05-24 18:32:56,212 supersession DEBUG    frame size 19200\n",
      "2017-05-24 18:33:21,668 supersession INFO     Inserting file /mnt/cube/earneodo/bci_zf/raw_data/z007/2016-09-09_17-12-20_100/experiment1_100.raw.kwd\n",
      "2017-05-24 18:33:21,756 root         DEBUG    H5 file: <HDF5 file \"experiment.raw.kwd\" (mode r+)>\n",
      "2017-05-24 18:33:21,759 root         DEBUG    H5 file: <HDF5 file \"experiment.raw.kwd\" (mode r+)>\n",
      "2017-05-24 18:33:32,470 root         DEBUG    H5 file: <HDF5 file \"experiment.lfp.kwd\" (mode r+)>\n",
      "2017-05-24 18:33:32,472 root         DEBUG    H5 file: <HDF5 file \"experiment.lfp.kwd\" (mode r+)>\n",
      "2017-05-24 18:33:32,476 supersession DEBUG    frame size 19200\n",
      "2017-05-24 18:33:42,496 supersession INFO     Inserting file /mnt/cube/earneodo/bci_zf/raw_data/z007/2016-09-09_17-34-37_100/experiment1_100.raw.kwd\n",
      "2017-05-24 18:33:42,579 root         DEBUG    H5 file: <HDF5 file \"experiment.raw.kwd\" (mode r+)>\n",
      "2017-05-24 18:33:42,581 root         DEBUG    H5 file: <HDF5 file \"experiment.raw.kwd\" (mode r+)>\n",
      "2017-05-24 18:34:06,305 root         DEBUG    H5 file: <HDF5 file \"experiment.lfp.kwd\" (mode r+)>\n",
      "2017-05-24 18:34:06,307 root         DEBUG    H5 file: <HDF5 file \"experiment.lfp.kwd\" (mode r+)>\n",
      "2017-05-24 18:34:06,313 supersession DEBUG    frame size 19200\n",
      "2017-05-24 18:34:20,014 supersession INFO     Inserting file /mnt/cube/earneodo/bci_zf/raw_data/z007/sleep_2016-09-09_00-57-51_100/experiment1_100.raw.kwd\n",
      "2017-05-24 18:34:20,097 root         DEBUG    H5 file: <HDF5 file \"experiment.raw.kwd\" (mode r+)>\n",
      "2017-05-24 18:34:20,099 root         DEBUG    H5 file: <HDF5 file \"experiment.raw.kwd\" (mode r+)>\n",
      "2017-05-24 18:37:24,321 root         DEBUG    H5 file: <HDF5 file \"experiment.lfp.kwd\" (mode r+)>\n",
      "2017-05-24 18:37:24,323 root         DEBUG    H5 file: <HDF5 file \"experiment.lfp.kwd\" (mode r+)>\n",
      "2017-05-24 18:37:24,329 supersession DEBUG    frame size 19200\n",
      "2017-05-24 18:38:46,928 supersession INFO     Inserting file /mnt/cube/earneodo/bci_zf/raw_data/z007/sleep_2016-09-09_01-57-58_100/experiment1_100.raw.kwd\n",
      "2017-05-24 18:38:47,221 root         DEBUG    H5 file: <HDF5 file \"experiment.raw.kwd\" (mode r+)>\n",
      "2017-05-24 18:38:47,225 root         DEBUG    H5 file: <HDF5 file \"experiment.raw.kwd\" (mode r+)>\n",
      "2017-05-24 18:41:32,097 root         DEBUG    H5 file: <HDF5 file \"experiment.lfp.kwd\" (mode r+)>\n",
      "2017-05-24 18:41:32,099 root         DEBUG    H5 file: <HDF5 file \"experiment.lfp.kwd\" (mode r+)>\n",
      "2017-05-24 18:41:32,102 supersession DEBUG    frame size 19200\n",
      "2017-05-24 18:43:02,783 supersession INFO     Inserting file /mnt/cube/earneodo/bci_zf/raw_data/z007/sleep_2016-09-09_02-58-06_100/experiment1_100.raw.kwd\n",
      "2017-05-24 18:43:02,865 root         DEBUG    H5 file: <HDF5 file \"experiment.raw.kwd\" (mode r+)>\n",
      "2017-05-24 18:43:02,867 root         DEBUG    H5 file: <HDF5 file \"experiment.raw.kwd\" (mode r+)>\n",
      "2017-05-24 18:45:47,279 root         DEBUG    H5 file: <HDF5 file \"experiment.lfp.kwd\" (mode r+)>\n",
      "2017-05-24 18:45:47,280 root         DEBUG    H5 file: <HDF5 file \"experiment.lfp.kwd\" (mode r+)>\n",
      "2017-05-24 18:45:47,285 supersession DEBUG    frame size 19200\n",
      "2017-05-24 18:47:12,956 supersession INFO     Inserting file /mnt/cube/earneodo/bci_zf/raw_data/z007/sleep_2016-09-09_03-58-13_100/experiment1_100.raw.kwd\n",
      "2017-05-24 18:47:13,086 root         DEBUG    H5 file: <HDF5 file \"experiment.raw.kwd\" (mode r+)>\n",
      "2017-05-24 18:47:13,087 root         DEBUG    H5 file: <HDF5 file \"experiment.raw.kwd\" (mode r+)>\n"
     ]
    },
    {
     "name": "stderr",
     "output_type": "stream",
     "text": [
      "2017-05-24 18:50:07,406 root         DEBUG    H5 file: <HDF5 file \"experiment.lfp.kwd\" (mode r+)>\n",
      "2017-05-24 18:50:07,407 root         DEBUG    H5 file: <HDF5 file \"experiment.lfp.kwd\" (mode r+)>\n",
      "2017-05-24 18:50:07,411 supersession DEBUG    frame size 19200\n",
      "2017-05-24 18:51:28,212 supersession INFO     Inserting file /mnt/cube/earneodo/bci_zf/raw_data/z007/sleep_2016-09-09_04-58-20_100/experiment1_100.raw.kwd\n",
      "2017-05-24 18:51:28,333 root         DEBUG    H5 file: <HDF5 file \"experiment.raw.kwd\" (mode r+)>\n",
      "2017-05-24 18:51:28,335 root         DEBUG    H5 file: <HDF5 file \"experiment.raw.kwd\" (mode r+)>\n",
      "2017-05-24 18:53:50,290 root         DEBUG    H5 file: <HDF5 file \"experiment.lfp.kwd\" (mode r+)>\n",
      "2017-05-24 18:53:50,293 root         DEBUG    H5 file: <HDF5 file \"experiment.lfp.kwd\" (mode r+)>\n",
      "2017-05-24 18:53:50,298 supersession DEBUG    frame size 19200\n",
      "2017-05-24 18:55:12,505 supersession INFO     Inserting file /mnt/cube/earneodo/bci_zf/raw_data/z007/sleep_2016-09-09_05-58-27_100/experiment1_100.raw.kwd\n",
      "2017-05-24 18:55:12,675 root         DEBUG    H5 file: <HDF5 file \"experiment.raw.kwd\" (mode r+)>\n",
      "2017-05-24 18:55:12,677 root         DEBUG    H5 file: <HDF5 file \"experiment.raw.kwd\" (mode r+)>\n",
      "2017-05-24 18:57:44,025 root         DEBUG    H5 file: <HDF5 file \"experiment.lfp.kwd\" (mode r+)>\n",
      "2017-05-24 18:57:44,026 root         DEBUG    H5 file: <HDF5 file \"experiment.lfp.kwd\" (mode r+)>\n",
      "2017-05-24 18:57:44,029 supersession DEBUG    frame size 19200\n",
      "2017-05-24 18:59:06,428 supersession INFO     Data is already in experiment folder /mnt/cube/earneodo/bci_zf/raw_data/z007\n",
      "2017-05-24 18:59:06,430 supersession INFO     Data is not in local drive but in /mnt/cube/earneodo/bci_zf/raw_data/z007, doing nothing\n",
      "2017-05-24 18:59:06,446 supersession INFO     Extract mic chan to wav for recs [u'0', u'1', u'10', u'11', u'12', u'13', u'14', u'15', u'16', u'2', u'3', u'4', u'5', u'6', u'7', u'8', u'9']\n",
      "2017-05-24 18:59:06,498 supersession INFO     Rec 0: /mnt/cube/earneodo/bci_zf/ss_data/z007/day-all_2016-09-09_100/experiment-rec_000.mic.wav\n",
      "2017-05-24 18:59:20,328 supersession INFO     Rec 1: /mnt/cube/earneodo/bci_zf/ss_data/z007/day-all_2016-09-09_100/experiment-rec_001.mic.wav\n",
      "2017-05-24 18:59:28,975 supersession INFO     Rec 10: /mnt/cube/earneodo/bci_zf/ss_data/z007/day-all_2016-09-09_100/experiment-rec_010.mic.wav\n",
      "2017-05-24 18:59:44,888 supersession INFO     Rec 11: /mnt/cube/earneodo/bci_zf/ss_data/z007/day-all_2016-09-09_100/experiment-rec_011.mic.wav\n",
      "2017-05-24 19:01:30,623 supersession INFO     Rec 12: /mnt/cube/earneodo/bci_zf/ss_data/z007/day-all_2016-09-09_100/experiment-rec_012.mic.wav\n",
      "2017-05-24 19:03:17,856 supersession INFO     Rec 13: /mnt/cube/earneodo/bci_zf/ss_data/z007/day-all_2016-09-09_100/experiment-rec_013.mic.wav\n",
      "2017-05-24 19:04:58,180 supersession INFO     Rec 14: /mnt/cube/earneodo/bci_zf/ss_data/z007/day-all_2016-09-09_100/experiment-rec_014.mic.wav\n",
      "2017-05-24 19:06:34,828 supersession INFO     Rec 15: /mnt/cube/earneodo/bci_zf/ss_data/z007/day-all_2016-09-09_100/experiment-rec_015.mic.wav\n",
      "2017-05-24 19:08:11,018 supersession INFO     Rec 16: /mnt/cube/earneodo/bci_zf/ss_data/z007/day-all_2016-09-09_100/experiment-rec_016.mic.wav\n",
      "2017-05-24 19:09:41,378 supersession INFO     Rec 2: /mnt/cube/earneodo/bci_zf/ss_data/z007/day-all_2016-09-09_100/experiment-rec_002.mic.wav\n",
      "2017-05-24 19:09:49,792 supersession INFO     Rec 3: /mnt/cube/earneodo/bci_zf/ss_data/z007/day-all_2016-09-09_100/experiment-rec_003.mic.wav\n",
      "2017-05-24 19:10:16,662 supersession INFO     Rec 4: /mnt/cube/earneodo/bci_zf/ss_data/z007/day-all_2016-09-09_100/experiment-rec_004.mic.wav\n",
      "2017-05-24 19:10:58,457 supersession INFO     Rec 5: /mnt/cube/earneodo/bci_zf/ss_data/z007/day-all_2016-09-09_100/experiment-rec_005.mic.wav\n",
      "2017-05-24 19:10:58,548 supersession INFO     Rec 6: /mnt/cube/earneodo/bci_zf/ss_data/z007/day-all_2016-09-09_100/experiment-rec_006.mic.wav\n",
      "2017-05-24 19:11:15,304 supersession INFO     Rec 7: /mnt/cube/earneodo/bci_zf/ss_data/z007/day-all_2016-09-09_100/experiment-rec_007.mic.wav\n",
      "2017-05-24 19:12:05,303 supersession INFO     Rec 8: /mnt/cube/earneodo/bci_zf/ss_data/z007/day-all_2016-09-09_100/experiment-rec_008.mic.wav\n",
      "2017-05-24 19:12:36,158 supersession INFO     Rec 9: /mnt/cube/earneodo/bci_zf/ss_data/z007/day-all_2016-09-09_100/experiment-rec_009.mic.wav\n",
      "2017-05-24 19:12:49,122 supersession INFO     Done extracting channels\n",
      "2017-05-24 19:12:49,123 supersession INFO     Done making supersession\n"
     ]
    }
   ],
   "source": [
    "# Do the supersess\n",
    "reload(ss)\n",
    "bird_id = 'z007'\n",
    "depth = '100'\n",
    "sess_base_id = '2016-09-09'\n",
    "raw_location = 'rw'\n",
    "super_sess_name = ss.process_awake_recording(bird_id, sess_base_id, depth, \n",
    "                                             cond='*', raw_location=raw_location)"
   ]
  },
  {
   "cell_type": "code",
   "execution_count": 4,
   "metadata": {
    "collapsed": true
   },
   "outputs": [],
   "source": [
    "super_sess_name = 'day-all_2016-09-09_08_100'\n",
    "bird_id = 'z007'\n",
    "depth = '100'\n",
    "sess_base_id = '2016-09-09_08'\n",
    "raw_location = 'rw'"
   ]
  },
  {
   "cell_type": "code",
   "execution_count": 16,
   "metadata": {},
   "outputs": [
    {
     "data": {
      "text/plain": [
       "'day-all_2016-09-09_08_100'"
      ]
     },
     "execution_count": 16,
     "metadata": {},
     "output_type": "execute_result"
    }
   ],
   "source": [
    "super_sess_name"
   ]
  },
  {
   "cell_type": "code",
   "execution_count": 5,
   "metadata": {},
   "outputs": [
    {
     "name": "stderr",
     "output_type": "stream",
     "text": [
      "2017-05-25 08:24:56,029 paramiko.transport DEBUG    starting thread (client mode): 0x136b8910L\n",
      "2017-05-25 08:24:56,031 paramiko.transport DEBUG    Local version/idstring: SSH-2.0-paramiko_2.1.2\n",
      "2017-05-25 08:24:56,043 paramiko.transport DEBUG    Remote version/idstring: SSH-2.0-OpenSSH_6.6.1p1 Ubuntu-2ubuntu2.8\n",
      "2017-05-25 08:24:56,044 paramiko.transport INFO     Connected (version 2.0, client OpenSSH_6.6.1p1)\n",
      "2017-05-25 08:24:56,047 paramiko.transport DEBUG    kex algos:[u'curve25519-sha256@libssh.org', u'ecdh-sha2-nistp256', u'ecdh-sha2-nistp384', u'ecdh-sha2-nistp521', u'diffie-hellman-group-exchange-sha256', u'diffie-hellman-group-exchange-sha1', u'diffie-hellman-group14-sha1', u'diffie-hellman-group1-sha1'] server key:[u'ssh-rsa', u'ssh-dss', u'ecdsa-sha2-nistp256'] client encrypt:[u'aes128-ctr', u'aes192-ctr', u'aes256-ctr', u'arcfour256', u'arcfour128', u'aes128-gcm@openssh.com', u'aes256-gcm@openssh.com', u'chacha20-poly1305@openssh.com', u'aes128-cbc', u'3des-cbc', u'blowfish-cbc', u'cast128-cbc', u'aes192-cbc', u'aes256-cbc', u'arcfour', u'rijndael-cbc@lysator.liu.se'] server encrypt:[u'aes128-ctr', u'aes192-ctr', u'aes256-ctr', u'arcfour256', u'arcfour128', u'aes128-gcm@openssh.com', u'aes256-gcm@openssh.com', u'chacha20-poly1305@openssh.com', u'aes128-cbc', u'3des-cbc', u'blowfish-cbc', u'cast128-cbc', u'aes192-cbc', u'aes256-cbc', u'arcfour', u'rijndael-cbc@lysator.liu.se'] client mac:[u'hmac-md5-etm@openssh.com', u'hmac-sha1-etm@openssh.com', u'umac-64-etm@openssh.com', u'umac-128-etm@openssh.com', u'hmac-sha2-256-etm@openssh.com', u'hmac-sha2-512-etm@openssh.com', u'hmac-ripemd160-etm@openssh.com', u'hmac-sha1-96-etm@openssh.com', u'hmac-md5-96-etm@openssh.com', u'hmac-md5', u'hmac-sha1', u'umac-64@openssh.com', u'umac-128@openssh.com', u'hmac-sha2-256', u'hmac-sha2-512', u'hmac-ripemd160', u'hmac-ripemd160@openssh.com', u'hmac-sha1-96', u'hmac-md5-96'] server mac:[u'hmac-md5-etm@openssh.com', u'hmac-sha1-etm@openssh.com', u'umac-64-etm@openssh.com', u'umac-128-etm@openssh.com', u'hmac-sha2-256-etm@openssh.com', u'hmac-sha2-512-etm@openssh.com', u'hmac-ripemd160-etm@openssh.com', u'hmac-sha1-96-etm@openssh.com', u'hmac-md5-96-etm@openssh.com', u'hmac-md5', u'hmac-sha1', u'umac-64@openssh.com', u'umac-128@openssh.com', u'hmac-sha2-256', u'hmac-sha2-512', u'hmac-ripemd160', u'hmac-ripemd160@openssh.com', u'hmac-sha1-96', u'hmac-md5-96'] client compress:[u'none', u'zlib@openssh.com'] server compress:[u'none', u'zlib@openssh.com'] client lang:[u''] server lang:[u''] kex follows?False\n",
      "2017-05-25 08:24:56,049 paramiko.transport DEBUG    Kex agreed: diffie-hellman-group1-sha1\n",
      "2017-05-25 08:24:56,050 paramiko.transport DEBUG    Cipher agreed: aes128-ctr\n",
      "2017-05-25 08:24:56,052 paramiko.transport DEBUG    MAC agreed: hmac-sha2-256\n",
      "2017-05-25 08:24:56,053 paramiko.transport DEBUG    Compression agreed: none\n",
      "2017-05-25 08:24:56,106 paramiko.transport DEBUG    kex engine KexGroup1 specified hash_algo <built-in function openssl_sha1>\n",
      "2017-05-25 08:24:56,108 paramiko.transport DEBUG    Switch to new keys ...\n",
      "2017-05-25 08:24:56,130 paramiko.transport DEBUG    Adding ssh-rsa host key for niao: 1e3885242cd1c23558a6edc65e98ec0f\n",
      "2017-05-25 08:24:56,134 paramiko.transport DEBUG    Trying discovered key 2d26c02783ce5085540c46025bcca4f8 in /home/earneodo/.ssh/id_rsa\n",
      "2017-05-25 08:24:56,144 paramiko.transport DEBUG    userauth is OK\n",
      "2017-05-25 08:24:56,167 paramiko.transport INFO     Authentication (publickey) successful!\n",
      "2017-05-25 08:24:56,199 paramiko.transport DEBUG    [chan 0] Max packet in: 32768 bytes\n"
     ]
    },
    {
     "name": "stdout",
     "output_type": "stream",
     "text": [
      "sorting in niao\n",
      "Sending sort to niao\n",
      "Connected to niao\n"
     ]
    },
    {
     "name": "stderr",
     "output_type": "stream",
     "text": [
      "2017-05-25 08:24:57,802 paramiko.transport DEBUG    [chan 0] Max packet out: 32768 bytes\n",
      "2017-05-25 08:24:57,805 paramiko.transport DEBUG    Secsh channel 0 opened.\n",
      "2017-05-25 08:24:57,808 paramiko.transport DEBUG    [chan 0] Sesch channel 0 request ok\n"
     ]
    },
    {
     "name": "stdout",
     "output_type": "stream",
     "text": [
      "None\n"
     ]
    },
    {
     "name": "stderr",
     "output_type": "stream",
     "text": [
      "2017-05-25 11:38:57,645 paramiko.transport DEBUG    [chan 0] EOF received (0)\n",
      "2017-05-25 11:38:57,649 kwik_functions INFO     Creating kwik file for bird: z007 sess: day-all_2016-09-09_100\n",
      "2017-05-25 11:38:57,652 kwik_functions INFO     Found clu file, will attempt to unpack manual sorted data from kilosort\n",
      "2017-05-25 11:38:57,654 kwik_functions DEBUG    {'par': '/mnt/cube/earneodo/bci_zf/ss_data/z007/day-all_2016-09-09_100/params.py', 'spk': '/mnt/cube/earneodo/bci_zf/ss_data/z007/day-all_2016-09-09_100/spike_times.npy', 'kwd': '/mnt/cube/earneodo/bci_zf/ss_data/z007/day-all_2016-09-09_100/experiment.raw.kwd', 'grp': '/mnt/cube/earneodo/bci_zf/ss_data/z007/day-all_2016-09-09_100/cluster_groups.csv', 'clu': '/mnt/cube/earneodo/bci_zf/ss_data/z007/day-all_2016-09-09_100/spike_clusters.npy', 'temp': None, 'kwk': '/mnt/cube/earneodo/bci_zf/ss_data/z007/day-all_2016-09-09_100/experiment.kwik'}\n"
     ]
    },
    {
     "name": "stdout",
     "output_type": "stream",
     "text": [
      "finished command, returning\n",
      "['/mnt/cube/earneodo/bci_zf/templates\\nFinished \\n']\n",
      "getting back to kwik format\n",
      "No grp file found\n"
     ]
    },
    {
     "name": "stderr",
     "output_type": "stream",
     "text": [
      "2017-05-25 11:38:59,209 kwik_functions INFO     Making spike tables\n",
      "2017-05-25 11:38:59,212 root         DEBUG    H5 file: <HDF5 file \"experiment.raw.kwd\" (mode r)>\n",
      "2017-05-25 11:38:59,213 root         DEBUG    H5 file: <HDF5 file \"experiment.raw.kwd\" (mode r)>\n",
      "2017-05-25 11:38:59,214 root         DEBUG    H5 file: <HDF5 file \"experiment.raw.kwd\" (mode r)>\n",
      "2017-05-25 11:38:59,215 root         DEBUG    H5 file: <HDF5 file \"experiment.raw.kwd\" (mode r)>\n",
      "2017-05-25 11:38:59,216 root         DEBUG    Getting dataset from rec 0\n",
      "2017-05-25 11:38:59,218 root         DEBUG    H5 file: <HDF5 file \"experiment.raw.kwd\" (mode r)>\n",
      "2017-05-25 11:38:59,219 root         DEBUG    H5 file: <HDF5 file \"experiment.raw.kwd\" (mode r)>\n",
      "2017-05-25 11:38:59,220 root         DEBUG    Getting dataset from rec 1\n",
      "2017-05-25 11:38:59,221 root         DEBUG    H5 file: <HDF5 file \"experiment.raw.kwd\" (mode r)>\n",
      "2017-05-25 11:38:59,222 root         DEBUG    H5 file: <HDF5 file \"experiment.raw.kwd\" (mode r)>\n",
      "2017-05-25 11:38:59,223 root         DEBUG    Getting dataset from rec 2\n",
      "2017-05-25 11:38:59,224 root         DEBUG    H5 file: <HDF5 file \"experiment.raw.kwd\" (mode r)>\n",
      "2017-05-25 11:38:59,225 root         DEBUG    H5 file: <HDF5 file \"experiment.raw.kwd\" (mode r)>\n",
      "2017-05-25 11:38:59,226 root         DEBUG    Getting dataset from rec 3\n",
      "2017-05-25 11:38:59,227 root         DEBUG    H5 file: <HDF5 file \"experiment.raw.kwd\" (mode r)>\n",
      "2017-05-25 11:38:59,228 root         DEBUG    H5 file: <HDF5 file \"experiment.raw.kwd\" (mode r)>\n",
      "2017-05-25 11:38:59,229 root         DEBUG    Getting dataset from rec 4\n",
      "2017-05-25 11:38:59,230 root         DEBUG    H5 file: <HDF5 file \"experiment.raw.kwd\" (mode r)>\n",
      "2017-05-25 11:38:59,231 root         DEBUG    H5 file: <HDF5 file \"experiment.raw.kwd\" (mode r)>\n",
      "2017-05-25 11:38:59,232 root         DEBUG    Getting dataset from rec 5\n",
      "2017-05-25 11:38:59,233 root         DEBUG    H5 file: <HDF5 file \"experiment.raw.kwd\" (mode r)>\n",
      "2017-05-25 11:38:59,234 root         DEBUG    H5 file: <HDF5 file \"experiment.raw.kwd\" (mode r)>\n",
      "2017-05-25 11:38:59,235 root         DEBUG    Getting dataset from rec 6\n",
      "2017-05-25 11:38:59,236 root         DEBUG    H5 file: <HDF5 file \"experiment.raw.kwd\" (mode r)>\n",
      "2017-05-25 11:38:59,237 root         DEBUG    H5 file: <HDF5 file \"experiment.raw.kwd\" (mode r)>\n",
      "2017-05-25 11:38:59,238 root         DEBUG    Getting dataset from rec 7\n",
      "2017-05-25 11:38:59,239 root         DEBUG    H5 file: <HDF5 file \"experiment.raw.kwd\" (mode r)>\n",
      "2017-05-25 11:38:59,240 root         DEBUG    H5 file: <HDF5 file \"experiment.raw.kwd\" (mode r)>\n",
      "2017-05-25 11:38:59,241 root         DEBUG    Getting dataset from rec 8\n",
      "2017-05-25 11:38:59,242 root         DEBUG    H5 file: <HDF5 file \"experiment.raw.kwd\" (mode r)>\n",
      "2017-05-25 11:38:59,243 root         DEBUG    H5 file: <HDF5 file \"experiment.raw.kwd\" (mode r)>\n",
      "2017-05-25 11:38:59,244 root         DEBUG    Getting dataset from rec 9\n",
      "2017-05-25 11:38:59,245 root         DEBUG    H5 file: <HDF5 file \"experiment.raw.kwd\" (mode r)>\n",
      "2017-05-25 11:38:59,246 root         DEBUG    H5 file: <HDF5 file \"experiment.raw.kwd\" (mode r)>\n",
      "2017-05-25 11:38:59,247 root         DEBUG    Getting dataset from rec 10\n",
      "2017-05-25 11:38:59,248 root         DEBUG    H5 file: <HDF5 file \"experiment.raw.kwd\" (mode r)>\n",
      "2017-05-25 11:38:59,249 root         DEBUG    H5 file: <HDF5 file \"experiment.raw.kwd\" (mode r)>\n",
      "2017-05-25 11:38:59,250 root         DEBUG    Getting dataset from rec 11\n",
      "2017-05-25 11:38:59,252 root         DEBUG    H5 file: <HDF5 file \"experiment.raw.kwd\" (mode r)>\n",
      "2017-05-25 11:38:59,253 root         DEBUG    H5 file: <HDF5 file \"experiment.raw.kwd\" (mode r)>\n",
      "2017-05-25 11:38:59,254 root         DEBUG    Getting dataset from rec 12\n",
      "2017-05-25 11:38:59,255 root         DEBUG    H5 file: <HDF5 file \"experiment.raw.kwd\" (mode r)>\n",
      "2017-05-25 11:38:59,256 root         DEBUG    H5 file: <HDF5 file \"experiment.raw.kwd\" (mode r)>\n",
      "2017-05-25 11:38:59,257 root         DEBUG    Getting dataset from rec 13\n",
      "2017-05-25 11:38:59,259 root         DEBUG    H5 file: <HDF5 file \"experiment.raw.kwd\" (mode r)>\n",
      "2017-05-25 11:38:59,260 root         DEBUG    H5 file: <HDF5 file \"experiment.raw.kwd\" (mode r)>\n",
      "2017-05-25 11:38:59,261 root         DEBUG    Getting dataset from rec 14\n",
      "2017-05-25 11:38:59,262 root         DEBUG    H5 file: <HDF5 file \"experiment.raw.kwd\" (mode r)>\n",
      "2017-05-25 11:38:59,263 root         DEBUG    H5 file: <HDF5 file \"experiment.raw.kwd\" (mode r)>\n",
      "2017-05-25 11:38:59,264 root         DEBUG    Getting dataset from rec 15\n",
      "2017-05-25 11:38:59,265 root         DEBUG    H5 file: <HDF5 file \"experiment.raw.kwd\" (mode r)>\n",
      "2017-05-25 11:38:59,266 root         DEBUG    H5 file: <HDF5 file \"experiment.raw.kwd\" (mode r)>\n",
      "2017-05-25 11:38:59,267 root         DEBUG    Getting dataset from rec 16\n",
      "2017-05-25 11:39:03,366 kwik_functions INFO     Making rec tables\n",
      "2017-05-25 11:39:03,607 root         DEBUG    H5 file: <HDF5 file \"experiment.raw.kwd\" (mode r)>\n",
      "2017-05-25 11:39:03,609 root         DEBUG    H5 file: <HDF5 file \"experiment.raw.kwd\" (mode r)>\n",
      "2017-05-25 11:39:03,610 root         DEBUG    H5 file: <HDF5 file \"experiment.raw.kwd\" (mode r)>\n",
      "2017-05-25 11:39:03,612 root         DEBUG    H5 file: <HDF5 file \"experiment.raw.kwd\" (mode r)>\n",
      "2017-05-25 11:39:03,613 root         DEBUG    H5 file: <HDF5 file \"experiment.raw.kwd\" (mode r)>\n",
      "2017-05-25 11:39:03,614 root         DEBUG    Getting dataset from rec 0\n",
      "2017-05-25 11:39:03,616 root         DEBUG    H5 file: <HDF5 file \"experiment.raw.kwd\" (mode r)>\n",
      "2017-05-25 11:39:03,618 root         DEBUG    H5 file: <HDF5 file \"experiment.raw.kwd\" (mode r)>\n",
      "2017-05-25 11:39:03,619 root         DEBUG    Getting dataset from rec 1\n",
      "2017-05-25 11:39:03,621 root         DEBUG    H5 file: <HDF5 file \"experiment.raw.kwd\" (mode r)>\n",
      "2017-05-25 11:39:03,622 root         DEBUG    H5 file: <HDF5 file \"experiment.raw.kwd\" (mode r)>\n",
      "2017-05-25 11:39:03,623 root         DEBUG    Getting dataset from rec 2\n",
      "2017-05-25 11:39:03,624 root         DEBUG    H5 file: <HDF5 file \"experiment.raw.kwd\" (mode r)>\n",
      "2017-05-25 11:39:03,625 root         DEBUG    H5 file: <HDF5 file \"experiment.raw.kwd\" (mode r)>\n",
      "2017-05-25 11:39:03,626 root         DEBUG    Getting dataset from rec 3\n",
      "2017-05-25 11:39:03,627 root         DEBUG    H5 file: <HDF5 file \"experiment.raw.kwd\" (mode r)>\n",
      "2017-05-25 11:39:03,629 root         DEBUG    H5 file: <HDF5 file \"experiment.raw.kwd\" (mode r)>\n",
      "2017-05-25 11:39:03,630 root         DEBUG    Getting dataset from rec 4\n",
      "2017-05-25 11:39:03,631 root         DEBUG    H5 file: <HDF5 file \"experiment.raw.kwd\" (mode r)>\n",
      "2017-05-25 11:39:03,632 root         DEBUG    H5 file: <HDF5 file \"experiment.raw.kwd\" (mode r)>\n",
      "2017-05-25 11:39:03,633 root         DEBUG    Getting dataset from rec 5\n",
      "2017-05-25 11:39:03,634 root         DEBUG    H5 file: <HDF5 file \"experiment.raw.kwd\" (mode r)>\n",
      "2017-05-25 11:39:03,635 root         DEBUG    H5 file: <HDF5 file \"experiment.raw.kwd\" (mode r)>\n",
      "2017-05-25 11:39:03,636 root         DEBUG    Getting dataset from rec 6\n",
      "2017-05-25 11:39:03,637 root         DEBUG    H5 file: <HDF5 file \"experiment.raw.kwd\" (mode r)>\n",
      "2017-05-25 11:39:03,638 root         DEBUG    H5 file: <HDF5 file \"experiment.raw.kwd\" (mode r)>\n",
      "2017-05-25 11:39:03,639 root         DEBUG    Getting dataset from rec 7\n",
      "2017-05-25 11:39:03,640 root         DEBUG    H5 file: <HDF5 file \"experiment.raw.kwd\" (mode r)>\n",
      "2017-05-25 11:39:03,641 root         DEBUG    H5 file: <HDF5 file \"experiment.raw.kwd\" (mode r)>\n",
      "2017-05-25 11:39:03,642 root         DEBUG    Getting dataset from rec 8\n",
      "2017-05-25 11:39:03,644 root         DEBUG    H5 file: <HDF5 file \"experiment.raw.kwd\" (mode r)>\n",
      "2017-05-25 11:39:03,645 root         DEBUG    H5 file: <HDF5 file \"experiment.raw.kwd\" (mode r)>\n",
      "2017-05-25 11:39:03,646 root         DEBUG    Getting dataset from rec 9\n",
      "2017-05-25 11:39:03,647 root         DEBUG    H5 file: <HDF5 file \"experiment.raw.kwd\" (mode r)>\n",
      "2017-05-25 11:39:03,648 root         DEBUG    H5 file: <HDF5 file \"experiment.raw.kwd\" (mode r)>\n",
      "2017-05-25 11:39:03,649 root         DEBUG    Getting dataset from rec 10\n",
      "2017-05-25 11:39:03,650 root         DEBUG    H5 file: <HDF5 file \"experiment.raw.kwd\" (mode r)>\n"
     ]
    },
    {
     "name": "stderr",
     "output_type": "stream",
     "text": [
      "2017-05-25 11:39:03,651 root         DEBUG    H5 file: <HDF5 file \"experiment.raw.kwd\" (mode r)>\n",
      "2017-05-25 11:39:03,652 root         DEBUG    Getting dataset from rec 11\n",
      "2017-05-25 11:39:03,653 root         DEBUG    H5 file: <HDF5 file \"experiment.raw.kwd\" (mode r)>\n",
      "2017-05-25 11:39:03,654 root         DEBUG    H5 file: <HDF5 file \"experiment.raw.kwd\" (mode r)>\n",
      "2017-05-25 11:39:03,655 root         DEBUG    Getting dataset from rec 12\n",
      "2017-05-25 11:39:03,657 root         DEBUG    H5 file: <HDF5 file \"experiment.raw.kwd\" (mode r)>\n",
      "2017-05-25 11:39:03,658 root         DEBUG    H5 file: <HDF5 file \"experiment.raw.kwd\" (mode r)>\n",
      "2017-05-25 11:39:03,659 root         DEBUG    Getting dataset from rec 13\n",
      "2017-05-25 11:39:03,661 root         DEBUG    H5 file: <HDF5 file \"experiment.raw.kwd\" (mode r)>\n",
      "2017-05-25 11:39:03,662 root         DEBUG    H5 file: <HDF5 file \"experiment.raw.kwd\" (mode r)>\n",
      "2017-05-25 11:39:03,663 root         DEBUG    Getting dataset from rec 14\n",
      "2017-05-25 11:39:03,664 root         DEBUG    H5 file: <HDF5 file \"experiment.raw.kwd\" (mode r)>\n",
      "2017-05-25 11:39:03,665 root         DEBUG    H5 file: <HDF5 file \"experiment.raw.kwd\" (mode r)>\n",
      "2017-05-25 11:39:03,666 root         DEBUG    Getting dataset from rec 15\n",
      "2017-05-25 11:39:03,667 root         DEBUG    H5 file: <HDF5 file \"experiment.raw.kwd\" (mode r)>\n",
      "2017-05-25 11:39:03,669 root         DEBUG    H5 file: <HDF5 file \"experiment.raw.kwd\" (mode r)>\n",
      "2017-05-25 11:39:03,670 root         DEBUG    Getting dataset from rec 16\n",
      "2017-05-25 11:39:03,691 kwik_functions INFO     Making cluster group tables\n",
      "2017-05-25 11:39:03,709 kwik_functions INFO     Done\n"
     ]
    }
   ],
   "source": [
    "# Do the kilosort\n",
    "#super_sess_name = 'day-*2016-09-09_08_100'\n",
    "#super_sess_name = 'day-' + super_sess_name + '_' + depth\n",
    "#print \"making binary\"\n",
    "#make_binary(bird_id, super_sess_name)\n",
    "reload(kilosort)\n",
    "#reload(kwkf)\n",
    "print 'sorting in niao'\n",
    "niao_msg = niao_kilosort(bird_id, super_sess_name)\n",
    "print niao_msg\n",
    "print 'getting back to kwik format'\n",
    "kwkf.kilo_to_kwik(bird_id, super_sess_name)"
   ]
  },
  {
   "cell_type": "code",
   "execution_count": 7,
   "metadata": {},
   "outputs": [
    {
     "name": "stderr",
     "output_type": "stream",
     "text": [
      "2017-05-24 16:47:59,457 root         INFO     Will sort using kilosort on local computer\n",
      "2017-05-24 16:47:59,459 kilosort     INFO     will run bci_pipeline on bird z007 - session day-all_2016-09-09_08_100\n",
      "2017-05-24 16:47:59,463 kilosort     INFO     Saving output in log file: /mnt/cube/earneodo/bci_zf/ss_data/z007/day-all_2016-09-09_08_100/kilosort_py.log\n",
      "2017-05-24 16:47:59,464 kilosort     INFO     will run bci_pipeline on bird z007 - session day-all_2016-09-09_08_100\n",
      "2017-05-24 16:47:59,466 kilosort     INFO     Will not pull data from cube\n",
      "2017-05-24 16:47:59,467 kilosort     INFO     Will create the scripts\n",
      "2017-05-24 16:47:59,486 kilosort     DEBUG    local sort dir: /usr/local/experiment/tmp_data/z007/day-all_2016-09-09_08_100\n",
      "2017-05-24 16:47:59,489 root         DEBUG    H5 file: <HDF5 file \"experiment.raw.kwd\" (mode r)>\n",
      "2017-05-24 16:47:59,491 kilosort     DEBUG    n_chan: 32\n",
      "2017-05-24 16:47:59,492 kilosort     DEBUG    {'Nfilt': 64, 'datadir': '/usr/local/experiment/tmp_data/z007/day-all_2016-09-09_08_100', 'npy_matdir': '/home/earneodo/repos/npy-matlab', 'Nchan': 32, 'blockname': 'experiment', 'useGPU': 0, 'fs': 30000.0, 'kilodir': '/home/earneodo/repos/KiloSort'}\n",
      "2017-05-24 16:47:59,509 bci.core.expstruct DEBUG    Creating directory /usr/local/experiment/tmp_data/z007/day-all_2016-09-09_08_100\n",
      "2017-05-24 16:47:59,511 bci.core.expstruct DEBUG    Directory existed, doing nothing\n",
      "2017-05-24 16:47:59,513 kilosort     INFO     Will do the chanMap for matlab\n",
      "2017-05-24 16:47:59,515 kilosort     DEBUG    Making ChanMap file\n",
      "2017-05-24 16:47:59,528 kilosort     DEBUG    Probe serial specified: 6c89\n",
      "2017-05-24 16:47:59,530 kilosort     DEBUG    Probe rev specified: 1\n",
      "2017-05-24 16:47:59,532 kilosort     DEBUG    Probe should be /mnt/cube/earneodo/bci_zf/probes/6c89_1.prb\n",
      "2017-05-24 16:47:59,533 kilosort     INFO     probe file: /mnt/cube/earneodo/bci_zf/probes/6c89_1.prb\n",
      "2017-05-24 16:47:59,539 kilosort     INFO     Will do the sort\n",
      "2017-05-24 16:47:59,540 kilosort     INFO     Running kilosort on matlab\n",
      "2017-05-24 16:47:59,542 kilosort     DEBUG    Issue command -r \"cd('/usr/local/experiment/tmp_data/z007/day-all_2016-09-09_08_100'); dir; master; exit();\"\n",
      "2017-05-24 16:47:59,543 kilosort     INFO     output to /mnt/cube/earneodo/bci_zf/ss_data/z007/day-all_2016-09-09_08_100/kilosort_mat.log\n"
     ]
    },
    {
     "name": "stdout",
     "output_type": "stream",
     "text": [
      "/mnt/cube/earneodo/bci_zf/templates\n"
     ]
    },
    {
     "name": "stderr",
     "output_type": "stream",
     "text": [
      "2017-05-24 16:58:32,889 kilosort     INFO     Sorted MATLAB is selecting SOFTWARE OPENGL rendering.\n",
      "\n",
      "                            < M A T L A B (R) >\n",
      "                  Copyright 1984-2017 The MathWorks, Inc.\n",
      "                   R2017a (9.2.0.538062) 64-bit (glnxa64)\n",
      "                             February 23, 2017\n",
      "\n",
      " \n",
      "To get started, type one of these: helpwin, helpdesk, or demo.\n",
      "For product information, visit www.mathworks.com.\n",
      " \n",
      "    ----------------------------------------------------\n",
      "\tYour MATLAB license will expire in 38 days.\n",
      "\tPlease contact your system administrator or\n",
      "\tMathWorks to renew this license.\n",
      "    ----------------------------------------------------\n",
      "\n",
      ".               chanMap.mat     experiment.dat  temp_wh.dat     \n",
      "..              config.m        master.m        \n",
      "\n",
      "/home/earneodo/repos/KiloSort\n",
      "\n",
      "fpath =\n",
      "\n",
      "    '/usr/local/experiment/tmp_data/z007/day-all_2016-09-09_08_100'\n",
      "\n",
      "\n",
      "ops = \n",
      "\n",
      "  struct with fields:\n",
      "\n",
      "            GPU: 0\n",
      "         parfor: 1\n",
      "        verbose: 1\n",
      "    showfigures: 1\n",
      "       datatype: 'dat'\n",
      "        fbinary: '/usr/local/experiment/tmp_data/z007/day-all_2016-09-09_08_100/experiment.dat'\n",
      "          fproc: '/usr/local/experiment/tmp_data/z007/day-all_2016-09-09_08_100/temp_wh.dat'\n",
      "           root: '/usr/local/experiment/tmp_data/z007/day-all_2016-09-09_08_100'\n",
      "        chanMap: '/usr/local/experiment/tmp_data/z007/day-all_2016-09-09_08_100/chanMap.mat'\n",
      "             fs: 30000\n",
      "\n",
      "Time   0s. Loading raw data... \n",
      "Time   6s. Channel-whitening filters computed. \n",
      "Time   6s. Loading raw data and applying filters... \n",
      "Time 93.06. Whitened data written to disk... \n",
      "Time 93.06. Preprocessing complete!\n",
      "Starting parallel pool (parpool) using the 'local' profile ...\n",
      "[\bWarning: The system time zone setting, 'US/Pacific', does not specify a single\n",
      "time zone unambiguously. It will be treated as 'America/Los_Angeles'. See the\n",
      "<a href=\"matlab:doc('datetime.TimeZone')\">datetime.TimeZone property</a> for\n",
      "details about specifying time zones.]\b \n",
      "[\b> In verifyTimeZone (line 23)\n",
      "  In datetime (line 515)\n",
      "  In parallel.internal.cluster.FileSerializer>iLoadDate (line 345)\n",
      "  In parallel.internal.cluster.FileSerializer/getFields (line 100)\n",
      "  In parallel.internal.cluster.CJSSupport/getProperties (line 261)\n",
      "  In parallel.internal.cluster.CJSSupport/getJobProperties (line 472)\n",
      "  In parallel.internal.cluster.CJSJobMixin/hGetProperty (line 75)\n",
      "  In parallel.internal.cluster.CJSJobMixin/hSetTerminalStateFromCluster (line 106)\n",
      "  In parallel.cluster.CJSCluster/hGetJobState (line 361)\n",
      "  In parallel.internal.cluster.CJSJobMixin/getStateEnum (line 144)\n",
      "  In parallel.Job/get.StateEnum (line 215)\n",
      "  In parallel.Job/get.State (line 207)\n",
      "  In parallel.internal.customattr.CustomGetSet>iVectorisedGetHelper (line 107)\n",
      "  In parallel.internal.customattr.CustomGetSet>@(a,b,c)iVectorisedGetHelper(obj,a,b,c) (line 89)\n",
      "  In parallel.internal.customattr.CustomGetSet/doVectorisedGet (line 90)\n",
      "  In parallel.internal.customattr.CustomGetSet/hVectorisedGet (line 64)\n",
      "  In parallel.internal.customattr.GetSetImpl>iAccessProperties (line 289)\n",
      "  In parallel.internal.customattr.GetSetImpl>iGetAllProperties (line 250)\n",
      "  In parallel.internal.customattr.GetSetImpl.getImpl (line 124)\n",
      "  In parallel.internal.customattr.CustomGetSet/get (line 30)\n",
      "  In parallel.internal.pool.InteractiveClient/pRemoveOldJobs (line 465)\n",
      "  In parallel.internal.pool.InteractiveClient/start (line 311)\n",
      "  In parallel.Pool>iStartClient (line 593)\n",
      "  In parallel.Pool.hBuildPool (line 472)\n",
      "  In parallel.internal.pool.doParpool (line 18)\n",
      "  In parpool (line 89)\n",
      "  In parallel.internal.pool.PoolArrayManager.getOrAutoCreateWithCleanup (line 49)\n",
      "  In pctTryCreatePoolIfNecessary (line 23)\n",
      "  In distcomp.remoteparfor.tryRemoteParfor\n",
      "  In parallel_function (line 433)\n",
      "  In decompose_dWU (line 12)\n",
      "  In fitTemplates (line 56)\n",
      "  In master (line 28)]\b \n",
      "connected to 6 workers.\n",
      "Time 113s. Optimizing templates ...\n",
      "Time 113.24, batch 1/2766, mu 14.48, neg-err 51.905041, NTOT 370, n100 0, n200 0, n300 0, n400 0\n",
      "\b\b\b\b\b\b\b\b\b\b\b\b\b\b\b\b\b\b\b\b\b\b\b\b\b\b\b\b\b\b\b\b\b\b\b\b\b\b\b\b\b\b\b\b\b\b\b\b\b\b\b\b\b\b\b\b\b\b\b\b\b\b\b\b\b\b\b\b\b\b\b\b\b\b\b\b\b\b\b\b\b\b\b\b\b\b\b\b\b\b\b\b\b\b\b\b\bTime 115.99, batch 21/2766, mu 14.48, neg-err 64.305832, NTOT 7837, n100 1, n200 1, n300 1, n400 1\n",
      "\b\b\b\b\b\b\b\b\b\b\b\b\b\b\b\b\b\b\b\b\b\b\b\b\b\b\b\b\b\b\b\b\b\b\b\b\b\b\b\b\b\b\b\b\b\b\b\b\b\b\b\b\b\b\b\b\b\b\b\b\b\b\b\b\b\b\b\b\b\b\b\b\b\b\b\b\b\b\b\b\b\b\b\b\b\b\b\b\b\b\b\b\b\b\b\b\b\b\bTime 118.59, batch 41/2766, mu 14.48, neg-err 66.935326, NTOT 15388, n100 3, n200 3, n300 3, n400 3\n",
      "\b\b\b\b\b\b\b\b\b\b\b\b\b\b\b\b\b\b\b\b\b\b\b\b\b\b\b\b\b\b\b\b\b\b\b\b\b\b\b\b\b\b\b\b\b\b\b\b\b\b\b\b\b\b\b\b\b\b\b\b\b\b\b\b\b\b\b\b\b\b\b\b\b\b\b\b\b\b\b\b\b\b\b\b\b\b\b\b\b\b\b\b\b\b\b\b\b\b\b\bTime 121.21, batch 61/2766, mu 14.48, neg-err 65.739178, NTOT 22744, n100 6, n200 6, n300 6, n400 6\n",
      "\b\b\b\b\b\b\b\b\b\b\b\b\b\b\b\b\b\b\b\b\b\b\b\b\b\b\b\b\b\b\b\b\b\b\b\b\b\b\b\b\b\b\b\b\b\b\b\b\b\b\b\b\b\b\b\b\b\b\b\b\b\b\b\b\b\b\b\b\b\b\b\b\b\b\b\b\b\b\b\b\b\b\b\b\b\b\b\b\b\b\b\b\b\b\b\b\b\b\b\bTime 123.78, batch 81/2766, mu 14.48, neg-err 66.537108, NTOT 30407, n100 11, n200 11, n300 11, n400 11\n",
      "\b\b\b\b\b\b\b\b\b\b\b\b\b\b\b\b\b\b\b\b\b\b\b\b\b\b\b\b\b\b\b\b\b\b\b\b\b\b\b\b\b\b\b\b\b\b\b\b\b\b\b\b\b\b\b\b\b\b\b\b\b\b\b\b\b\b\b\b\b\b\b\b\b\b\b\b\b\b\b\b\b\b\b\b\b\b\b\b\b\b\b\b\b\b\b\b\b\b\b\b\b\b\b\bTime 126.36, batch 101/2766, mu 14.48, neg-err 67.693877, NTOT 37969, n100 16, n200 16, n300 16, n400 16\n",
      "\b\b\b\b\b\b\b\b\b\b\b\b\b\b\b\b\b\b\b\b\b\b\b\b\b\b\b\b\b\b\b\b\b\b\b\b\b\b\b\b\b\b\b\b\b\b\b\b\b\b\b\b\b\b\b\b\b\b\b\b\b\b\b\b\b\b\b\b\b\b\b\b\b\b\b\b\b\b\b\b\b\b\b\b\b\b\b\b\b\b\b\b\b\b\b\b\b\b\b\b\b\b\b\b\bTime 128.86, batch 121/2766, mu 14.48, neg-err 67.034897, NTOT 45192, n100 18, n200 18, n300 18, n400 18\n",
      "\b\b\b\b\b\b\b\b\b\b\b\b\b\b\b\b\b\b\b\b\b\b\b\b\b\b\b\b\b\b\b\b\b\b\b\b\b\b\b\b\b\b\b\b\b\b\b\b\b\b\b\b\b\b\b\b\b\b\b\b\b\b\b\b\b\b\b\b\b\b\b\b\b\b\b\b\b\b\b\b\b\b\b\b\b\b\b\b\b\b\b\b\b\b\b\b\b\b\b\b\b\b\b\b\bTime 131.44, batch 141/2766, mu 14.48, neg-err 66.675775, NTOT 52495, n100 19, n200 19, n300 19, n400 19\n",
      "\b\b\b\b\b\b\b\b\b\b\b\b\b\b\b\b\b\b\b\b\b\b\b\b\b\b\b\b\b\b\b\b\b\b\b\b\b\b\b\b\b\b\b\b\b\b\b\b\b\b\b\b\b\b\b\b\b\b\b\b\b\b\b\b\b\b\b\b\b\b\b\b\b\b\b\b\b\b\b\b\b\b\b\b\b\b\b\b\b\b\b\b\b\b\b\b\b\b\b\b\b\b\b\b\bTime 133.92, batch 161/2766, mu 14.48, neg-err 66.750174, NTOT 59779, n100 23, n200 23, n300 23, n400 23\n",
      "\b\b\b\b\b\b\b\b\b\b\b\b\b\b\b\b\b\b\b\b\b\b\b\b\b\b\b\b\b\b\b\b\b\b\b\b\b\b\b\b\b\b\b\b\b\b\b\b\b\b\b\b\b\b\b\b\b\b\b\b\b\b\b\b\b\b\b\b\b\b\b\b\b\b\b\b\b\b\b\b\b\b\b\b\b\b\b\b\b\b\b\b\b\b\b\b\b\b\b\b\b\b\b\b\bTime 136.46, batch 181/2766, mu 14.48, neg-err 66.191072, NTOT 67065, n100 26, n200 26, n300 26, n400 26\n",
      "\b\b\b\b\b\b\b\b\b\b\b\b\b\b\b\b\b\b\b\b\b\b\b\b\b\b\b\b\b\b\b\b\b\b\b\b\b\b\b\b\b\b\b\b\b\b\b\b\b\b\b\b\b\b\b\b\b\b\b\b\b\b\b\b\b\b\b\b\b\b\b\b\b\b\b\b\b\b\b\b\b\b\b\b\b\b\b\b\b\b\b\b\b\b\b\b\b\b\b\b\b\b\b\b\bTime 139.11, batch 201/2766, mu 14.48, neg-err 67.462853, NTOT 74372, n100 28, n200 28, n300 28, n400 28\n",
      "\b\b\b\b\b\b\b\b\b\b\b\b\b\b\b\b\b\b\b\b\b\b\b\b\b\b\b\b\b\b\b\b\b\b\b\b\b\b\b\b\b\b\b\b\b\b\b\b\b\b\b\b\b\b\b\b\b\b\b\b\b\b\b\b\b\b\b\b\b\b\b\b\b\b\b\b\b\b\b\b\b\b\b\b\b\b\b\b\b\b\b\b\b\b\b\b\b\b\b\b\b\b\b\b\bTime 141.74, batch 221/2766, mu 14.48, neg-err 66.952706, NTOT 81496, n100 30, n200 30, n300 30, n400 30\n",
      "\b\b\b\b\b\b\b\b\b\b\b\b\b\b\b\b\b\b\b\b\b\b\b\b\b\b\b\b\b\b\b\b\b\b\b\b\b\b\b\b\b\b\b\b\b\b\b\b\b\b\b\b\b\b\b\b\b\b\b\b\b\b\b\b\b\b\b\b\b\b\b\b\b\b\b\b\b\b\b\b\b\b\b\b\b\b\b\b\b\b\b\b\b\b\b\b\b\b\b\b\b\b\b\b\bTime 144.34, batch 241/2766, mu 14.48, neg-err 67.417204, NTOT 88680, n100 34, n200 34, n300 34, n400 34\n",
      "\b\b\b\b\b\b\b\b\b\b\b\b\b\b\b\b\b\b\b\b\b\b\b\b\b\b\b\b\b\b\b\b\b\b\b\b\b\b\b\b\b\b\b\b\b\b\b\b\b\b\b\b\b\b\b\b\b\b\b\b\b\b\b\b\b\b\b\b\b\b\b\b\b\b\b\b\b\b\b\b\b\b\b\b\b\b\b\b\b\b\b\b\b\b\b\b\b\b\b\b\b\b\b\b\bTime 146.91, batch 261/2766, mu 14.48, neg-err 67.751038, NTOT 95765, n100 36, n200 36, n300 36, n400 36\n",
      "\b\b\b\b\b\b\b\b\b\b\b\b\b\b\b\b\b\b\b\b\b\b\b\b\b\b\b\b\b\b\b\b\b\b\b\b\b\b\b\b\b\b\b\b\b\b\b\b\b\b\b\b\b\b\b\b\b\b\b\b\b\b\b\b\b\b\b\b\b\b\b\b\b\b\b\b\b\b\b\b\b\b\b\b\b\b\b\b\b\b\b\b\b\b\b\b\b\b\b\b\b\b\b\b\bTime 149.51, batch 281/2766, mu 14.48, neg-err 67.412277, NTOT 102838, n100 37, n200 37, n300 37, n400 37\n",
      "\b\b\b\b\b\b\b\b\b\b\b\b\b\b\b\b\b\b\b\b\b\b\b\b\b\b\b\b\b\b\b\b\b\b\b\b\b\b\b\b\b\b\b\b\b\b\b\b\b\b\b\b\b\b\b\b\b\b\b\b\b\b\b\b\b\b\b\b\b\b\b\b\b\b\b\b\b\b\b\b\b\b\b\b\b\b\b\b\b\b\b\b\b\b\b\b\b\b\b\b\b\b\b\b\b\bTime 152.18, batch 301/2766, mu 14.48, neg-err 67.603616, NTOT 109968, n100 40, n200 40, n300 40, n400 40\n",
      "\b\b\b\b\b\b\b\b\b\b\b\b\b\b\b\b\b\b\b\b\b\b\b\b\b\b\b\b\b\b\b\b\b\b\b\b\b\b\b\b\b\b\b\b\b\b\b\b\b\b\b\b\b\b\b\b\b\b\b\b\b\b\b\b\b\b\b\b\b\b\b\b\b\b\b\b\b\b\b\b\b\b\b\b\b\b\b\b\b\b\b\b\b\b\b\b\b\b\b\b\b\b\b\b\b\bTime 154.90, batch 321/2766, mu 14.48, neg-err 68.194050, NTOT 117193, n100 43, n200 43, n300 43, n400 43\n",
      "\b\b\b\b\b\b\b\b\b\b\b\b\b\b\b\b\b\b\b\b\b\b\b\b\b\b\b\b\b\b\b\b\b\b\b\b\b\b\b\b\b\b\b\b\b\b\b\b\b\b\b\b\b\b\b\b\b\b\b\b\b\b\b\b\b\b\b\b\b\b\b\b\b\b\b\b\b\b\b\b\b\b\b\b\b\b\b\b\b\b\b\b\b\b\b\b\b\b\b\b\b\b\b\b\b\bTime 157.47, batch 341/2766, mu 14.48, neg-err 68.470689, NTOT 124281, n100 44, n200 44, n300 44, n400 44\n",
      "\b\b\b\b\b\b\b\b\b\b\b\b\b\b\b\b\b\b\b\b\b\b\b\b\b\b\b\b\b\b\b\b\b\b\b\b\b\b\b\b\b\b\b\b\b\b\b\b\b\b\b\b\b\b\b\b\b\b\b\b\b\b\b\b\b\b\b\b\b\b\b\b\b\b\b\b\b\b\b\b\b\b\b\b\b\b\b\b\b\b\b\b\b\b\b\b\b\b\b\b\b\b\b\b\b\bTime 160.05, batch 361/2766, mu 14.48, neg-err 68.282217, NTOT 131183, n100 45, n200 45, n300 45, n400 45\n",
      "\b\b\b\b\b\b\b\b\b\b\b\b\b\b\b\b\b\b\b\b\b\b\b\b\b\b\b\b\b\b\b\b\b\b\b\b\b\b\b\b\b\b\b\b\b\b\b\b\b\b\b\b\b\b\b\b\b\b\b\b\b\b\b\b\b\b\b\b\b\b\b\b\b\b\b\b\b\b\b\b\b\b\b\b\b\b\b\b\b\b\b\b\b\b\b\b\b\b\b\b\b\b\b\b\b\bTime 162.62, batch 381/2766, mu 14.48, neg-err 68.406298, NTOT 138067, n100 50, n200 50, n300 50, n400 50\n",
      "[\bWarning: MATLAB has disabled some advanced graphics rendering features by\n",
      "switching to software OpenGL. For more information, click <a\n",
      "href=\"matlab:opengl('problems')\">here</a>.]\b \n",
      "\b\b\b\b\b\b\b\b\b\b\b\b\b\b\b\b\b\b\b\b\b\b\b\b\b\b\b\b\b\b\b\b\b\b\b\b\b\b\b\b\b\b\b\b\b\b\b\b\b\b\b\b\b\b\b\b\b\b\b\b\b\b\b\b\b\b\b\b\b\b\b\b\b\b\b\b\b\b\b\b\b\b\b\b\b\b\b\b\b\b\b\b\b\b\b\b\b\b\b\b\b\b\b\b\b\bTime 167.33, batch 401/2766, mu 16.60, neg-err 68.138984, NTOT 144781, n100 52, n200 52, n300 52, n400 52\n",
      "\b\b\b\b\b\b\b\b\b\b\b\b\b\b\b\b\b\b\b\b\b\b\b\b\b\b\b\b\b\b\b\b\b\b\b\b\b\b\b\b\b\b\b\b\b\b\b\b\b\b\b\b\b\b\b\b\b\b\b\b\b\b\b\b\b\b\b\b\b\b\b\b\b\b\b\b\b\b\b\b\b\b\b\b\b\b\b\b\b\b\b\b\b\b\b\b\b\b\b\b\b\b\b\b\b\bTime 170.26, batch 421/2766, mu 16.60, neg-err 69.267518, NTOT 151991, n100 56, n200 56, n300 56, n400 56\n",
      "\b\b\b\b\b\b\b\b\b\b\b\b\b\b\b\b\b\b\b\b\b\b\b\b\b\b\b\b\b\b\b\b\b\b\b\b\b\b\b\b\b\b\b\b\b\b\b\b\b\b\b\b\b\b\b\b\b\b\b\b\b\b\b\b\b\b\b\b\b\b\b\b\b\b\b\b\b\b\b\b\b\b\b\b\b\b\b\b\b\b\b\b\b\b\b\b\b\b\b\b\b\b\b\b\b\bTime 172.98, batch 441/2766, mu 16.60, neg-err 70.560846, NTOT 159302, n100 56, n200 56, n300 56, n400 56\n",
      "\b\b\b\b\b\b\b\b\b\b\b\b\b\b\b\b\b\b\b\b\b\b\b\b\b\b\b\b\b\b\b\b\b\b\b\b\b\b\b\b\b\b\b\b\b\b\b\b\b\b\b\b\b\b\b\b\b\b\b\b\b\b\b\b\b\b\b\b\b\b\b\b\b\b\b\b\b\b\b\b\b\b\b\b\b\b\b\b\b\b\b\b\b\b\b\b\b\b\b\b\b\b\b\b\b\bTime 175.66, batch 461/2766, mu 16.60, neg-err 71.580617, NTOT 166438, n100 58, n200 58, n300 58, n400 58\n",
      "\b\b\b\b\b\b\b\b\b\b\b\b\b\b\b\b\b\b\b\b\b\b\b\b\b\b\b\b\b\b\b\b\b\b\b\b\b\b\b\b\b\b\b\b\b\b\b\b\b\b\b\b\b\b\b\b\b\b\b\b\b\b\b\b\b\b\b\b\b\b\b\b\b\b\b\b\b\b\b\b\b\b\b\b\b\b\b\b\b\b\b\b\b\b\b\b\b\b\b\b\b\b\b\b\b\bTime 178.73, batch 481/2766, mu 17.36, neg-err 73.080296, NTOT 147466, n100 155, n200 155, n300 155, n400 155\n",
      "\b\b\b\b\b\b\b\b\b\b\b\b\b\b\b\b\b\b\b\b\b\b\b\b\b\b\b\b\b\b\b\b\b\b\b\b\b\b\b\b\b\b\b\b\b\b\b\b\b\b\b\b\b\b\b\b\b\b\b\b\b\b\b\b\b\b\b\b\b\b\b\b\b\b\b\b\b\b\b\b\b\b\b\b\b\b\b\b\b\b\b\b\b\b\b\b\b\b\b\b\b\b\b\b\b\b\b\b\b\bTime 181.29, batch 501/2766, mu 17.36, neg-err 74.611001, NTOT 148005, n100 153, n200 153, n300 153, n400 153\n",
      "\b\b\b\b\b\b\b\b\b\b\b\b\b\b\b\b\b\b\b\b\b\b\b\b\b\b\b\b\b\b\b\b\b\b\b\b\b\b\b\b\b\b\b\b\b\b\b\b\b\b\b\b\b\b\b\b\b\b\b\b\b\b\b\b\b\b\b\b\b\b\b\b\b\b\b\b\b\b\b\b\b\b\b\b\b\b\b\b\b\b\b\b\b\b\b\b\b\b\b\b\b\b\b\b\b\b\b\b\b\bTime 183.91, batch 521/2766, mu 17.36, neg-err 76.156189, NTOT 148599, n100 149, n200 149, n300 149, n400 149\n",
      "\b\b\b\b\b\b\b\b\b\b\b\b\b\b\b\b\b\b\b\b\b\b\b\b\b\b\b\b\b\b\b\b\b\b\b\b\b\b\b\b\b\b\b\b\b\b\b\b\b\b\b\b\b\b\b\b\b\b\b\b\b\b\b\b\b\b\b\b\b\b\b\b\b\b\b\b\b\b\b\b\b\b\b\b\b\b\b\b\b\b\b\b\b\b\b\b\b\b\b\b\b\b\b\b\b\b\b\b\b\bTime 186.41, batch 541/2766, mu 17.36, neg-err 77.744035, NTOT 149297, n100 145, n200 145, n300 145, n400 145\n",
      "\b\b\b\b\b\b\b\b\b\b\b\b\b\b\b\b\b\b\b\b\b\b\b\b\b\b\b\b\b\b\b\b\b\b\b\b\b\b\b\b\b\b\b\b\b\b\b\b\b\b\b\b\b\b\b\b\b\b\b\b\b\b\b\b\b\b\b\b\b\b\b\b\b\b\b\b\b\b\b\b\b\b\b\b\b\b\b\b\b\b\b\b\b\b\b\b\b\b\b\b\b\b\b\b\b\b\b\b\b\bTime 189.11, batch 561/2766, mu 17.36, neg-err 79.367999, NTOT 150025, n100 144, n200 144, n300 144, n400 144\n",
      "\b\b\b\b\b\b\b\b\b\b\b\b\b\b\b\b\b\b\b\b\b\b\b\b\b\b\b\b\b\b\b\b\b\b\b\b\b\b\b\b\b\b\b\b\b\b\b\b\b\b\b\b\b\b\b\b\b\b\b\b\b\b\b\b\b\b\b\b\b\b\b\b\b\b\b\b\b\b\b\b\b\b\b\b\b\b\b\b\b\b\b\b\b\b\b\b\b\b\b\b\b\b\b\b\b\b\b\b\b\bTime 191.69, batch 581/2766, mu 17.36, neg-err 80.899527, NTOT 150675, n100 138, n200 138, n300 138, n400 138\n",
      "\b\b\b\b\b\b\b\b\b\b\b\b\b\b\b\b\b\b\b\b\b\b\b\b\b\b\b\b\b\b\b\b\b\b\b\b\b\b\b\b\b\b\b\b\b\b\b\b\b\b\b\b\b\b\b\b\b\b\b\b\b\b\b\b\b\b\b\b\b\b\b\b\b\b\b\b\b\b\b\b\b\b\b\b\b\b\b\b\b\b\b\b\b\b\b\b\b\b\b\b\b\b\b\b\b\b\b\b\b\bTime 194.25, batch 601/2766, mu 17.36, neg-err 82.464909, NTOT 151240, n100 137, n200 137, n300 137, n400 137\n",
      "\b\b\b\b\b\b\b\b\b\b\b\b\b\b\b\b\b\b\b\b\b\b\b\b\b\b\b\b\b\b\b\b\b\b\b\b\b\b\b\b\b\b\b\b\b\b\b\b\b\b\b\b\b\b\b\b\b\b\b\b\b\b\b\b\b\b\b\b\b\b\b\b\b\b\b\b\b\b\b\b\b\b\b\b\b\b\b\b\b\b\b\b\b\b\b\b\b\b\b\b\b\b\b\b\b\b\b\b\b\bTime 196.77, batch 621/2766, mu 17.36, neg-err 84.008293, NTOT 151889, n100 130, n200 130, n300 130, n400 130\n",
      "\b\b\b\b\b\b\b\b\b\b\b\b\b\b\b\b\b\b\b\b\b\b\b\b\b\b\b\b\b\b\b\b\b\b\b\b\b\b\b\b\b\b\b\b\b\b\b\b\b\b\b\b\b\b\b\b\b\b\b\b\b\b\b\b\b\b\b\b\b\b\b\b\b\b\b\b\b\b\b\b\b\b\b\b\b\b\b\b\b\b\b\b\b\b\b\b\b\b\b\b\b\b\b\b\b\b\b\b\b\bTime 199.38, batch 641/2766, mu 17.36, neg-err 85.562529, NTOT 152595, n100 126, n200 126, n300 126, n400 126\n",
      "\b\b\b\b\b\b\b\b\b\b\b\b\b\b\b\b\b\b\b\b\b\b\b\b\b\b\b\b\b\b\b\b\b\b\b\b\b\b\b\b\b\b\b\b\b\b\b\b\b\b\b\b\b\b\b\b\b\b\b\b\b\b\b\b\b\b\b\b\b\b\b\b\b\b\b\b\b\b\b\b\b\b\b\b\b\b\b\b\b\b\b\b\b\b\b\b\b\b\b\b\b\b\b\b\b\b\b\b\b\bTime 201.92, batch 661/2766, mu 17.36, neg-err 87.290775, NTOT 153146, n100 122, n200 122, n300 122, n400 122\n",
      "\b\b\b\b\b\b\b\b\b\b\b\b\b\b\b\b\b\b\b\b\b\b\b\b\b\b\b\b\b\b\b\b\b\b\b\b\b\b\b\b\b\b\b\b\b\b\b\b\b\b\b\b\b\b\b\b\b\b\b\b\b\b\b\b\b\b\b\b\b\b\b\b\b\b\b\b\b\b\b\b\b\b\b\b\b\b\b\b\b\b\b\b\b\b\b\b\b\b\b\b\b\b\b\b\b\b\b\b\b\bTime 204.44, batch 681/2766, mu 17.36, neg-err 88.785518, NTOT 153803, n100 117, n200 117, n300 117, n400 117\n",
      "\b\b\b\b\b\b\b\b\b\b\b\b\b\b\b\b\b\b\b\b\b\b\b\b\b\b\b\b\b\b\b\b\b\b\b\b\b\b\b\b\b\b\b\b\b\b\b\b\b\b\b\b\b\b\b\b\b\b\b\b\b\b\b\b\b\b\b\b\b\b\b\b\b\b\b\b\b\b\b\b\b\b\b\b\b\b\b\b\b\b\b\b\b\b\b\b\b\b\b\b\b\b\b\b\b\b\b\b\b\bTime 206.99, batch 701/2766, mu 17.36, neg-err 90.430108, NTOT 154419, n100 110, n200 110, n300 110, n400 110\n",
      "\b\b\b\b\b\b\b\b\b\b\b\b\b\b\b\b\b\b\b\b\b\b\b\b\b\b\b\b\b\b\b\b\b\b\b\b\b\b\b\b\b\b\b\b\b\b\b\b\b\b\b\b\b\b\b\b\b\b\b\b\b\b\b\b\b\b\b\b\b\b\b\b\b\b\b\b\b\b\b\b\b\b\b\b\b\b\b\b\b\b\b\b\b\b\b\b\b\b\b\b\b\b\b\b\b\b\b\b\b\bTime 209.53, batch 721/2766, mu 17.36, neg-err 92.030567, NTOT 154941, n100 100, n200 100, n300 100, n400 100\n",
      "\b\b\b\b\b\b\b\b\b\b\b\b\b\b\b\b\b\b\b\b\b\b\b\b\b\b\b\b\b\b\b\b\b\b\b\b\b\b\b\b\b\b\b\b\b\b\b\b\b\b\b\b\b\b\b\b\b\b\b\b\b\b\b\b\b\b\b\b\b\b\b\b\b\b\b\b\b\b\b\b\b\b\b\b\b\b\b\b\b\b\b\b\b\b\b\b\b\b\b\b\b\b\b\b\b\b\b\b\b\bTime 212.08, batch 741/2766, mu 17.36, neg-err 93.529182, NTOT 155509, n100 93, n200 93, n300 93, n400 93\n",
      "\b\b\b\b\b\b\b\b\b\b\b\b\b\b\b\b\b\b\b\b\b\b\b\b\b\b\b\b\b\b\b\b\b\b\b\b\b\b\b\b\b\b\b\b\b\b\b\b\b\b\b\b\b\b\b\b\b\b\b\b\b\b\b\b\b\b\b\b\b\b\b\b\b\b\b\b\b\b\b\b\b\b\b\b\b\b\b\b\b\b\b\b\b\b\b\b\b\b\b\b\b\b\b\b\b\bTime 214.64, batch 761/2766, mu 17.36, neg-err 95.109747, NTOT 156103, n100 86, n200 86, n300 86, n400 86\n",
      "\b\b\b\b\b\b\b\b\b\b\b\b\b\b\b\b\b\b\b\b\b\b\b\b\b\b\b\b\b\b\b\b\b\b\b\b\b\b\b\b\b\b\b\b\b\b\b\b\b\b\b\b\b\b\b\b\b\b\b\b\b\b\b\b\b\b\b\b\b\b\b\b\b\b\b\b\b\b\b\b\b\b\b\b\b\b\b\b\b\b\b\b\b\b\b\b\b\b\b\b\b\b\b\b\b\bTime 217.25, batch 781/2766, mu 17.36, neg-err 96.843131, NTOT 156695, n100 78, n200 78, n300 78, n400 78\n",
      "\b\b\b\b\b\b\b\b\b\b\b\b\b\b\b\b\b\b\b\b\b\b\b\b\b\b\b\b\b\b\b\b\b\b\b\b\b\b\b\b\b\b\b\b\b\b\b\b\b\b\b\b\b\b\b\b\b\b\b\b\b\b\b\b\b\b\b\b\b\b\b\b\b\b\b\b\b\b\b\b\b\b\b\b\b\b\b\b\b\b\b\b\b\b\b\b\b\b\b\b\b\b\b\b\b\bTime 219.84, batch 801/2766, mu 17.36, neg-err 98.482291, NTOT 157326, n100 77, n200 77, n300 77, n400 77\n",
      "\b\b\b\b\b\b\b\b\b\b\b\b\b\b\b\b\b\b\b\b\b\b\b\b\b\b\b\b\b\b\b\b\b\b\b\b\b\b\b\b\b\b\b\b\b\b\b\b\b\b\b\b\b\b\b\b\b\b\b\b\b\b\b\b\b\b\b\b\b\b\b\b\b\b\b\b\b\b\b\b\b\b\b\b\b\b\b\b\b\b\b\b\b\b\b\b\b\b\b\b\b\b\b\b\b\bTime 222.46, batch 821/2766, mu 17.36, neg-err 99.998985, NTOT 157898, n100 69, n200 69, n300 69, n400 69\n",
      "\b\b\b\b\b\b\b\b\b\b\b\b\b\b\b\b\b\b\b\b\b\b\b\b\b\b\b\b\b\b\b\b\b\b\b\b\b\b\b\b\b\b\b\b\b\b\b\b\b\b\b\b\b\b\b\b\b\b\b\b\b\b\b\b\b\b\b\b\b\b\b\b\b\b\b\b\b\b\b\b\b\b\b\b\b\b\b\b\b\b\b\b\b\b\b\b\b\b\b\b\b\b\b\b\b\bTime 225.09, batch 841/2766, mu 17.36, neg-err 101.621237, NTOT 158479, n100 65, n200 65, n300 65, n400 65\n",
      "\b\b\b\b\b\b\b\b\b\b\b\b\b\b\b\b\b\b\b\b\b\b\b\b\b\b\b\b\b\b\b\b\b\b\b\b\b\b\b\b\b\b\b\b\b\b\b\b\b\b\b\b\b\b\b\b\b\b\b\b\b\b\b\b\b\b\b\b\b\b\b\b\b\b\b\b\b\b\b\b\b\b\b\b\b\b\b\b\b\b\b\b\b\b\b\b\b\b\b\b\b\b\b\b\b\b\bTime 227.73, batch 861/2766, mu 17.36, neg-err 103.052619, NTOT 159058, n100 58, n200 58, n300 58, n400 58\n",
      "\b\b\b\b\b\b\b\b\b\b\b\b\b\b\b\b\b\b\b\b\b\b\b\b\b\b\b\b\b\b\b\b\b\b\b\b\b\b\b\b\b\b\b\b\b\b\b\b\b\b\b\b\b\b\b\b\b\b\b\b\b\b\b\b\b\b\b\b\b\b\b\b\b\b\b\b\b\b\b\b\b\b\b\b\b\b\b\b\b\b\b\b\b\b\b\b\b\b\b\b\b\b\b\b\b\b\bTime 230.64, batch 881/2766, mu 18.77, neg-err 103.694716, NTOT 159116, n100 45, n200 45, n300 45, n400 45\n",
      "\b\b\b\b\b\b\b\b\b\b\b\b\b\b\b\b\b\b\b\b\b\b\b\b\b\b\b\b\b\b\b\b\b\b\b\b\b\b\b\b\b\b\b\b\b\b\b\b\b\b\b\b\b\b\b\b\b\b\b\b\b\b\b\b\b\b\b\b\b\b\b\b\b\b\b\b\b\b\b\b\b\b\b\b\b\b\b\b\b\b\b\b\b\b\b\b\b\b\b\b\b\b\b\b\b\b\bTime 233.31, batch 901/2766, mu 18.77, neg-err 104.084984, NTOT 159167, n100 35, n200 35, n300 35, n400 35\n",
      "\b\b\b\b\b\b\b\b\b\b\b\b\b\b\b\b\b\b\b\b\b\b\b\b\b\b\b\b\b\b\b\b\b\b\b\b\b\b\b\b\b\b\b\b\b\b\b\b\b\b\b\b\b\b\b\b\b\b\b\b\b\b\b\b\b\b\b\b\b\b\b\b\b\b\b\b\b\b\b\b\b\b\b\b\b\b\b\b\b\b\b\b\b\b\b\b\b\b\b\b\b\b\b\b\b\b\bTime 236.06, batch 921/2766, mu 18.77, neg-err 104.415452, NTOT 159189, n100 25, n200 25, n300 25, n400 25\n",
      "\b\b\b\b\b\b\b\b\b\b\b\b\b\b\b\b\b\b\b\b\b\b\b\b\b\b\b\b\b\b\b\b\b\b\b\b\b\b\b\b\b\b\b\b\b\b\b\b\b\b\b\b\b\b\b\b\b\b\b\b\b\b\b\b\b\b\b\b\b\b\b\b\b\b\b\b\b\b\b\b\b\b\b\b\b\b\b\b\b\b\b\b\b\b\b\b\b\b\b\b\b\b\b\b\b\b\bTime 239.23, batch 941/2766, mu 18.75, neg-err 104.472713, NTOT 150373, n100 19, n200 19, n300 19, n400 19\n",
      "\b\b\b\b\b\b\b\b\b\b\b\b\b\b\b\b\b\b\b\b\b\b\b\b\b\b\b\b\b\b\b\b\b\b\b\b\b\b\b\b\b\b\b\b\b\b\b\b\b\b\b\b\b\b\b\b\b\b\b\b\b\b\b\b\b\b\b\b\b\b\b\b\b\b\b\b\b\b\b\b\b\b\b\b\b\b\b\b\b\b\b\b\b\b\b\b\b\b\b\b\b\b\b\b\b\b\bTime 241.98, batch 961/2766, mu 18.75, neg-err 104.818439, NTOT 149872, n100 26, n200 26, n300 26, n400 26\n",
      "\b\b\b\b\b\b\b\b\b\b\b\b\b\b\b\b\b\b\b\b\b\b\b\b\b\b\b\b\b\b\b\b\b\b\b\b\b\b\b\b\b\b\b\b\b\b\b\b\b\b\b\b\b\b\b\b\b\b\b\b\b\b\b\b\b\b\b\b\b\b\b\b\b\b\b\b\b\b\b\b\b\b\b\b\b\b\b\b\b\b\b\b\b\b\b\b\b\b\b\b\b\b\b\b\b\b\bTime 244.77, batch 981/2766, mu 18.75, neg-err 105.599525, NTOT 149417, n100 30, n200 30, n300 30, n400 30\n",
      "\b\b\b\b\b\b\b\b\b\b\b\b\b\b\b\b\b\b\b\b\b\b\b\b\b\b\b\b\b\b\b\b\b\b\b\b\b\b\b\b\b\b\b\b\b\b\b\b\b\b\b\b\b\b\b\b\b\b\b\b\b\b\b\b\b\b\b\b\b\b\b\b\b\b\b\b\b\b\b\b\b\b\b\b\b\b\b\b\b\b\b\b\b\b\b\b\b\b\b\b\b\b\b\b\b\b\bTime 247.62, batch 1001/2766, mu 18.75, neg-err 105.792662, NTOT 148959, n100 40, n200 40, n300 40, n400 40\n",
      "\b\b\b\b\b\b\b\b\b\b\b\b\b\b\b\b\b\b\b\b\b\b\b\b\b\b\b\b\b\b\b\b\b\b\b\b\b\b\b\b\b\b\b\b\b\b\b\b\b\b\b\b\b\b\b\b\b\b\b\b\b\b\b\b\b\b\b\b\b\b\b\b\b\b\b\b\b\b\b\b\b\b\b\b\b\b\b\b\b\b\b\b\b\b\b\b\b\b\b\b\b\b\b\b\b\b\b\bTime 250.45, batch 1021/2766, mu 18.75, neg-err 105.892062, NTOT 148491, n100 47, n200 47, n300 47, n400 47\n",
      "\b\b\b\b\b\b\b\b\b\b\b\b\b\b\b\b\b\b\b\b\b\b\b\b\b\b\b\b\b\b\b\b\b\b\b\b\b\b\b\b\b\b\b\b\b\b\b\b\b\b\b\b\b\b\b\b\b\b\b\b\b\b\b\b\b\b\b\b\b\b\b\b\b\b\b\b\b\b\b\b\b\b\b\b\b\b\b\b\b\b\b\b\b\b\b\b\b\b\b\b\b\b\b\b\b\b\b\bTime 253.22, batch 1041/2766, mu 18.75, neg-err 106.800167, NTOT 148054, n100 54, n200 54, n300 54, n400 54\n",
      "\b\b\b\b\b\b\b\b\b\b\b\b\b\b\b\b\b\b\b\b\b\b\b\b\b\b\b\b\b\b\b\b\b\b\b\b\b\b\b\b\b\b\b\b\b\b\b\b\b\b\b\b\b\b\b\b\b\b\b\b\b\b\b\b\b\b\b\b\b\b\b\b\b\b\b\b\b\b\b\b\b\b\b\b\b\b\b\b\b\b\b\b\b\b\b\b\b\b\b\b\b\b\b\b\b\b\b\bTime 255.95, batch 1061/2766, mu 18.75, neg-err 107.069470, NTOT 147574, n100 58, n200 58, n300 58, n400 58\n",
      "\b\b\b\b\b\b\b\b\b\b\b\b\b\b\b\b\b\b\b\b\b\b\b\b\b\b\b\b\b\b\b\b\b\b\b\b\b\b\b\b\b\b\b\b\b\b\b\b\b\b\b\b\b\b\b\b\b\b\b\b\b\b\b\b\b\b\b\b\b\b\b\b\b\b\b\b\b\b\b\b\b\b\b\b\b\b\b\b\b\b\b\b\b\b\b\b\b\b\b\b\b\b\b\b\b\b\b\bTime 258.88, batch 1081/2766, mu 18.75, neg-err 107.162888, NTOT 147151, n100 63, n200 63, n300 63, n400 63\n",
      "\b\b\b\b\b\b\b\b\b\b\b\b\b\b\b\b\b\b\b\b\b\b\b\b\b\b\b\b\b\b\b\b\b\b\b\b\b\b\b\b\b\b\b\b\b\b\b\b\b\b\b\b\b\b\b\b\b\b\b\b\b\b\b\b\b\b\b\b\b\b\b\b\b\b\b\b\b\b\b\b\b\b\b\b\b\b\b\b\b\b\b\b\b\b\b\b\b\b\b\b\b\b\b\b\b\b\b\bTime 261.65, batch 1101/2766, mu 18.75, neg-err 108.320884, NTOT 146658, n100 70, n200 70, n300 70, n400 70\n",
      "\b\b\b\b\b\b\b\b\b\b\b\b\b\b\b\b\b\b\b\b\b\b\b\b\b\b\b\b\b\b\b\b\b\b\b\b\b\b\b\b\b\b\b\b\b\b\b\b\b\b\b\b\b\b\b\b\b\b\b\b\b\b\b\b\b\b\b\b\b\b\b\b\b\b\b\b\b\b\b\b\b\b\b\b\b\b\b\b\b\b\b\b\b\b\b\b\b\b\b\b\b\b\b\b\b\b\b\bTime 264.43, batch 1121/2766, mu 18.75, neg-err 108.519830, NTOT 146235, n100 72, n200 72, n300 72, n400 72\n",
      "\b\b\b\b\b\b\b\b\b\b\b\b\b\b\b\b\b\b\b\b\b\b\b\b\b\b\b\b\b\b\b\b\b\b\b\b\b\b\b\b\b\b\b\b\b\b\b\b\b\b\b\b\b\b\b\b\b\b\b\b\b\b\b\b\b\b\b\b\b\b\b\b\b\b\b\b\b\b\b\b\b\b\b\b\b\b\b\b\b\b\b\b\b\b\b\b\b\b\b\b\b\b\b\b\b\b\b\bTime 267.31, batch 1141/2766, mu 18.75, neg-err 108.997906, NTOT 145725, n100 77, n200 77, n300 77, n400 77\n",
      "\b\b\b\b\b\b\b\b\b\b\b\b\b\b\b\b\b\b\b\b\b\b\b\b\b\b\b\b\b\b\b\b\b\b\b\b\b\b\b\b\b\b\b\b\b\b\b\b\b\b\b\b\b\b\b\b\b\b\b\b\b\b\b\b\b\b\b\b\b\b\b\b\b\b\b\b\b\b\b\b\b\b\b\b\b\b\b\b\b\b\b\b\b\b\b\b\b\b\b\b\b\b\b\b\b\b\b\bTime 269.93, batch 1161/2766, mu 18.75, neg-err 110.644316, NTOT 145296, n100 83, n200 83, n300 83, n400 83\n",
      "\b\b\b\b\b\b\b\b\b\b\b\b\b\b\b\b\b\b\b\b\b\b\b\b\b\b\b\b\b\b\b\b\b\b\b\b\b\b\b\b\b\b\b\b\b\b\b\b\b\b\b\b\b\b\b\b\b\b\b\b\b\b\b\b\b\b\b\b\b\b\b\b\b\b\b\b\b\b\b\b\b\b\b\b\b\b\b\b\b\b\b\b\b\b\b\b\b\b\b\b\b\b\b\b\b\b\b\bTime 272.66, batch 1181/2766, mu 18.75, neg-err 110.734390, NTOT 144877, n100 86, n200 86, n300 86, n400 86\n",
      "\b\b\b\b\b\b\b\b\b\b\b\b\b\b\b\b\b\b\b\b\b\b\b\b\b\b\b\b\b\b\b\b\b\b\b\b\b\b\b\b\b\b\b\b\b\b\b\b\b\b\b\b\b\b\b\b\b\b\b\b\b\b\b\b\b\b\b\b\b\b\b\b\b\b\b\b\b\b\b\b\b\b\b\b\b\b\b\b\b\b\b\b\b\b\b\b\b\b\b\b\b\b\b\b\b\b\b\bTime 275.55, batch 1201/2766, mu 18.75, neg-err 110.935614, NTOT 144420, n100 90, n200 90, n300 90, n400 90\n",
      "\b\b\b\b\b\b\b\b\b\b\b\b\b\b\b\b\b\b\b\b\b\b\b\b\b\b\b\b\b\b\b\b\b\b\b\b\b\b\b\b\b\b\b\b\b\b\b\b\b\b\b\b\b\b\b\b\b\b\b\b\b\b\b\b\b\b\b\b\b\b\b\b\b\b\b\b\b\b\b\b\b\b\b\b\b\b\b\b\b\b\b\b\b\b\b\b\b\b\b\b\b\b\b\b\b\b\b\bTime 278.41, batch 1221/2766, mu 18.75, neg-err 111.009875, NTOT 144033, n100 94, n200 94, n300 94, n400 94\n",
      "\b\b\b\b\b\b\b\b\b\b\b\b\b\b\b\b\b\b\b\b\b\b\b\b\b\b\b\b\b\b\b\b\b\b\b\b\b\b\b\b\b\b\b\b\b\b\b\b\b\b\b\b\b\b\b\b\b\b\b\b\b\b\b\b\b\b\b\b\b\b\b\b\b\b\b\b\b\b\b\b\b\b\b\b\b\b\b\b\b\b\b\b\b\b\b\b\b\b\b\b\b\b\b\b\b\b\b\bTime 281.27, batch 1241/2766, mu 18.75, neg-err 111.528314, NTOT 143630, n100 95, n200 95, n300 95, n400 95\n",
      "\b\b\b\b\b\b\b\b\b\b\b\b\b\b\b\b\b\b\b\b\b\b\b\b\b\b\b\b\b\b\b\b\b\b\b\b\b\b\b\b\b\b\b\b\b\b\b\b\b\b\b\b\b\b\b\b\b\b\b\b\b\b\b\b\b\b\b\b\b\b\b\b\b\b\b\b\b\b\b\b\b\b\b\b\b\b\b\b\b\b\b\b\b\b\b\b\b\b\b\b\b\b\b\b\b\b\b\bTime 284.23, batch 1261/2766, mu 18.75, neg-err 112.124503, NTOT 143209, n100 98, n200 98, n300 98, n400 98\n",
      "\b\b\b\b\b\b\b\b\b\b\b\b\b\b\b\b\b\b\b\b\b\b\b\b\b\b\b\b\b\b\b\b\b\b\b\b\b\b\b\b\b\b\b\b\b\b\b\b\b\b\b\b\b\b\b\b\b\b\b\b\b\b\b\b\b\b\b\b\b\b\b\b\b\b\b\b\b\b\b\b\b\b\b\b\b\b\b\b\b\b\b\b\b\b\b\b\b\b\b\b\b\b\b\b\b\b\b\bTime 287.10, batch 1281/2766, mu 18.75, neg-err 112.435266, NTOT 142786, n100 102, n200 102, n300 102, n400 102\n",
      "\b\b\b\b\b\b\b\b\b\b\b\b\b\b\b\b\b\b\b\b\b\b\b\b\b\b\b\b\b\b\b\b\b\b\b\b\b\b\b\b\b\b\b\b\b\b\b\b\b\b\b\b\b\b\b\b\b\b\b\b\b\b\b\b\b\b\b\b\b\b\b\b\b\b\b\b\b\b\b\b\b\b\b\b\b\b\b\b\b\b\b\b\b\b\b\b\b\b\b\b\b\b\b\b\b\b\b\b\b\b\b\bTime 289.94, batch 1301/2766, mu 18.75, neg-err 112.516051, NTOT 142338, n100 106, n200 106, n300 106, n400 106\n",
      "\b\b\b\b\b\b\b\b\b\b\b\b\b\b\b\b\b\b\b\b\b\b\b\b\b\b\b\b\b\b\b\b\b\b\b\b\b\b\b\b\b\b\b\b\b\b\b\b\b\b\b\b\b\b\b\b\b\b\b\b\b\b\b\b\b\b\b\b\b\b\b\b\b\b\b\b\b\b\b\b\b\b\b\b\b\b\b\b\b\b\b\b\b\b\b\b\b\b\b\b\b\b\b\b\b\b\b\b\b\b\b\bTime 292.72, batch 1321/2766, mu 18.75, neg-err 112.896071, NTOT 141929, n100 110, n200 110, n300 110, n400 110\n",
      "\b\b\b\b\b\b\b\b\b\b\b\b\b\b\b\b\b\b\b\b\b\b\b\b\b\b\b\b\b\b\b\b\b\b\b\b\b\b\b\b\b\b\b\b\b\b\b\b\b\b\b\b\b\b\b\b\b\b\b\b\b\b\b\b\b\b\b\b\b\b\b\b\b\b\b\b\b\b\b\b\b\b\b\b\b\b\b\b\b\b\b\b\b\b\b\b\b\b\b\b\b\b\b\b\b\b\b\b\b\b\b\bTime 295.52, batch 1341/2766, mu 19.92, neg-err 112.965327, NTOT 141580, n100 112, n200 112, n300 112, n400 112\n",
      "\b\b\b\b\b\b\b\b\b\b\b\b\b\b\b\b\b\b\b\b\b\b\b\b\b\b\b\b\b\b\b\b\b\b\b\b\b\b\b\b\b\b\b\b\b\b\b\b\b\b\b\b\b\b\b\b\b\b\b\b\b\b\b\b\b\b\b\b\b\b\b\b\b\b\b\b\b\b\b\b\b\b\b\b\b\b\b\b\b\b\b\b\b\b\b\b\b\b\b\b\b\b\b\b\b\b\b\b\b\b\b\bTime 297.98, batch 1361/2766, mu 19.92, neg-err 112.948330, NTOT 141213, n100 106, n200 106, n300 106, n400 106\n",
      "\b\b\b\b\b\b\b\b\b\b\b\b\b\b\b\b\b\b\b\b\b\b\b\b\b\b\b\b\b\b\b\b\b\b\b\b\b\b\b\b\b\b\b\b\b\b\b\b\b\b\b\b\b\b\b\b\b\b\b\b\b\b\b\b\b\b\b\b\b\b\b\b\b\b\b\b\b\b\b\b\b\b\b\b\b\b\b\b\b\b\b\b\b\b\b\b\b\b\b\b\b\b\b\b\b\b\b\b\b\b\b\bTime 300.49, batch 1381/2766, mu 19.92, neg-err 112.891252, NTOT 140850, n100 50, n200 50, n300 50, n400 50\n",
      "\b\b\b\b\b\b\b\b\b\b\b\b\b\b\b\b\b\b\b\b\b\b\b\b\b\b\b\b\b\b\b\b\b\b\b\b\b\b\b\b\b\b\b\b\b\b\b\b\b\b\b\b\b\b\b\b\b\b\b\b\b\b\b\b\b\b\b\b\b\b\b\b\b\b\b\b\b\b\b\b\b\b\b\b\b\b\b\b\b\b\b\b\b\b\b\b\b\b\b\b\b\b\b\b\b\b\b\bTime 303.19, batch 1401/2766, mu 20.04, neg-err 112.826320, NTOT 138191, n100 109, n200 109, n300 109, n400 109\n",
      "\b\b\b\b\b\b\b\b\b\b\b\b\b\b\b\b\b\b\b\b\b\b\b\b\b\b\b\b\b\b\b\b\b\b\b\b\b\b\b\b\b\b\b\b\b\b\b\b\b\b\b\b\b\b\b\b\b\b\b\b\b\b\b\b\b\b\b\b\b\b\b\b\b\b\b\b\b\b\b\b\b\b\b\b\b\b\b\b\b\b\b\b\b\b\b\b\b\b\b\b\b\b\b\b\b\b\b\b\b\b\b\bTime 305.80, batch 1421/2766, mu 20.04, neg-err 112.860440, NTOT 137825, n100 102, n200 102, n300 102, n400 102\n",
      "\b\b\b\b\b\b\b\b\b\b\b\b\b\b\b\b\b\b\b\b\b\b\b\b\b\b\b\b\b\b\b\b\b\b\b\b\b\b\b\b\b\b\b\b\b\b\b\b\b\b\b\b\b\b\b\b\b\b\b\b\b\b\b\b\b\b\b\b\b\b\b\b\b\b\b\b\b\b\b\b\b\b\b\b\b\b\b\b\b\b\b\b\b\b\b\b\b\b\b\b\b\b\b\b\b\b\b\b\b\b\b\bTime 308.41, batch 1441/2766, mu 20.04, neg-err 112.772841, NTOT 137404, n100 107, n200 107, n300 107, n400 107\n",
      "\b\b\b\b\b\b\b\b\b\b\b\b\b\b\b\b\b\b\b\b\b\b\b\b\b\b\b\b\b\b\b\b\b\b\b\b\b\b\b\b\b\b\b\b\b\b\b\b\b\b\b\b\b\b\b\b\b\b\b\b\b\b\b\b\b\b\b\b\b\b\b\b\b\b\b\b\b\b\b\b\b\b\b\b\b\b\b\b\b\b\b\b\b\b\b\b\b\b\b\b\b\b\b\b\b\b\b\b\b\b\b\bTime 311.09, batch 1461/2766, mu 20.04, neg-err 112.727692, NTOT 136953, n100 98, n200 98, n300 98, n400 98\n",
      "\b\b\b\b\b\b\b\b\b\b\b\b\b\b\b\b\b\b\b\b\b\b\b\b\b\b\b\b\b\b\b\b\b\b\b\b\b\b\b\b\b\b\b\b\b\b\b\b\b\b\b\b\b\b\b\b\b\b\b\b\b\b\b\b\b\b\b\b\b\b\b\b\b\b\b\b\b\b\b\b\b\b\b\b\b\b\b\b\b\b\b\b\b\b\b\b\b\b\b\b\b\b\b\b\b\b\b\bTime 313.77, batch 1481/2766, mu 20.04, neg-err 112.685403, NTOT 136490, n100 95, n200 95, n300 95, n400 95\n",
      "\b\b\b\b\b\b\b\b\b\b\b\b\b\b\b\b\b\b\b\b\b\b\b\b\b\b\b\b\b\b\b\b\b\b\b\b\b\b\b\b\b\b\b\b\b\b\b\b\b\b\b\b\b\b\b\b\b\b\b\b\b\b\b\b\b\b\b\b\b\b\b\b\b\b\b\b\b\b\b\b\b\b\b\b\b\b\b\b\b\b\b\b\b\b\b\b\b\b\b\b\b\b\b\b\b\b\b\bTime 316.39, batch 1501/2766, mu 20.04, neg-err 112.440095, NTOT 136046, n100 99, n200 99, n300 99, n400 99\n",
      "\b\b\b\b\b\b\b\b\b\b\b\b\b\b\b\b\b\b\b\b\b\b\b\b\b\b\b\b\b\b\b\b\b\b\b\b\b\b\b\b\b\b\b\b\b\b\b\b\b\b\b\b\b\b\b\b\b\b\b\b\b\b\b\b\b\b\b\b\b\b\b\b\b\b\b\b\b\b\b\b\b\b\b\b\b\b\b\b\b\b\b\b\b\b\b\b\b\b\b\b\b\b\b\b\b\b\b\bTime 318.98, batch 1521/2766, mu 20.04, neg-err 112.543991, NTOT 135631, n100 99, n200 99, n300 99, n400 99\n",
      "\b\b\b\b\b\b\b\b\b\b\b\b\b\b\b\b\b\b\b\b\b\b\b\b\b\b\b\b\b\b\b\b\b\b\b\b\b\b\b\b\b\b\b\b\b\b\b\b\b\b\b\b\b\b\b\b\b\b\b\b\b\b\b\b\b\b\b\b\b\b\b\b\b\b\b\b\b\b\b\b\b\b\b\b\b\b\b\b\b\b\b\b\b\b\b\b\b\b\b\b\b\b\b\b\b\b\b\bTime 321.62, batch 1541/2766, mu 20.04, neg-err 112.467165, NTOT 135152, n100 101, n200 101, n300 101, n400 101\n",
      "\b\b\b\b\b\b\b\b\b\b\b\b\b\b\b\b\b\b\b\b\b\b\b\b\b\b\b\b\b\b\b\b\b\b\b\b\b\b\b\b\b\b\b\b\b\b\b\b\b\b\b\b\b\b\b\b\b\b\b\b\b\b\b\b\b\b\b\b\b\b\b\b\b\b\b\b\b\b\b\b\b\b\b\b\b\b\b\b\b\b\b\b\b\b\b\b\b\b\b\b\b\b\b\b\b\b\b\b\b\b\b\bTime 324.17, batch 1561/2766, mu 20.04, neg-err 112.858947, NTOT 134734, n100 105, n200 105, n300 105, n400 105\n",
      "\b\b\b\b\b\b\b\b\b\b\b\b\b\b\b\b\b\b\b\b\b\b\b\b\b\b\b\b\b\b\b\b\b\b\b\b\b\b\b\b\b\b\b\b\b\b\b\b\b\b\b\b\b\b\b\b\b\b\b\b\b\b\b\b\b\b\b\b\b\b\b\b\b\b\b\b\b\b\b\b\b\b\b\b\b\b\b\b\b\b\b\b\b\b\b\b\b\b\b\b\b\b\b\b\b\b\b\b\b\b\b\bTime 326.75, batch 1581/2766, mu 20.04, neg-err 112.860702, NTOT 134322, n100 107, n200 107, n300 107, n400 107\n",
      "\b\b\b\b\b\b\b\b\b\b\b\b\b\b\b\b\b\b\b\b\b\b\b\b\b\b\b\b\b\b\b\b\b\b\b\b\b\b\b\b\b\b\b\b\b\b\b\b\b\b\b\b\b\b\b\b\b\b\b\b\b\b\b\b\b\b\b\b\b\b\b\b\b\b\b\b\b\b\b\b\b\b\b\b\b\b\b\b\b\b\b\b\b\b\b\b\b\b\b\b\b\b\b\b\b\b\b\b\b\b\b\bTime 329.33, batch 1601/2766, mu 20.04, neg-err 112.946589, NTOT 133883, n100 110, n200 110, n300 110, n400 110\n",
      "\b\b\b\b\b\b\b\b\b\b\b\b\b\b\b\b\b\b\b\b\b\b\b\b\b\b\b\b\b\b\b\b\b\b\b\b\b\b\b\b\b\b\b\b\b\b\b\b\b\b\b\b\b\b\b\b\b\b\b\b\b\b\b\b\b\b\b\b\b\b\b\b\b\b\b\b\b\b\b\b\b\b\b\b\b\b\b\b\b\b\b\b\b\b\b\b\b\b\b\b\b\b\b\b\b\b\b\b\b\b\b\bTime 331.98, batch 1621/2766, mu 20.04, neg-err 113.651228, NTOT 133487, n100 111, n200 111, n300 111, n400 111\n",
      "\b\b\b\b\b\b\b\b\b\b\b\b\b\b\b\b\b\b\b\b\b\b\b\b\b\b\b\b\b\b\b\b\b\b\b\b\b\b\b\b\b\b\b\b\b\b\b\b\b\b\b\b\b\b\b\b\b\b\b\b\b\b\b\b\b\b\b\b\b\b\b\b\b\b\b\b\b\b\b\b\b\b\b\b\b\b\b\b\b\b\b\b\b\b\b\b\b\b\b\b\b\b\b\b\b\b\b\b\b\b\b\bTime 334.54, batch 1641/2766, mu 20.04, neg-err 113.597636, NTOT 133082, n100 111, n200 111, n300 111, n400 111\n",
      "\b\b\b\b\b\b\b\b\b\b\b\b\b\b\b\b\b\b\b\b\b\b\b\b\b\b\b\b\b\b\b\b\b\b\b\b\b\b\b\b\b\b\b\b\b\b\b\b\b\b\b\b\b\b\b\b\b\b\b\b\b\b\b\b\b\b\b\b\b\b\b\b\b\b\b\b\b\b\b\b\b\b\b\b\b\b\b\b\b\b\b\b\b\b\b\b\b\b\b\b\b\b\b\b\b\b\b\b\b\b\b\bTime 337.23, batch 1661/2766, mu 20.04, neg-err 113.544686, NTOT 132616, n100 115, n200 115, n300 115, n400 115\n",
      "\b\b\b\b\b\b\b\b\b\b\b\b\b\b\b\b\b\b\b\b\b\b\b\b\b\b\b\b\b\b\b\b\b\b\b\b\b\b\b\b\b\b\b\b\b\b\b\b\b\b\b\b\b\b\b\b\b\b\b\b\b\b\b\b\b\b\b\b\b\b\b\b\b\b\b\b\b\b\b\b\b\b\b\b\b\b\b\b\b\b\b\b\b\b\b\b\b\b\b\b\b\b\b\b\b\b\b\b\b\b\b\bTime 339.80, batch 1681/2766, mu 20.04, neg-err 113.498645, NTOT 132176, n100 122, n200 122, n300 122, n400 122\n",
      "\b\b\b\b\b\b\b\b\b\b\b\b\b\b\b\b\b\b\b\b\b\b\b\b\b\b\b\b\b\b\b\b\b\b\b\b\b\b\b\b\b\b\b\b\b\b\b\b\b\b\b\b\b\b\b\b\b\b\b\b\b\b\b\b\b\b\b\b\b\b\b\b\b\b\b\b\b\b\b\b\b\b\b\b\b\b\b\b\b\b\b\b\b\b\b\b\b\b\b\b\b\b\b\b\b\b\b\b\b\b\b\bTime 342.33, batch 1701/2766, mu 20.04, neg-err 113.652909, NTOT 131821, n100 116, n200 116, n300 116, n400 116\n",
      "\b\b\b\b\b\b\b\b\b\b\b\b\b\b\b\b\b\b\b\b\b\b\b\b\b\b\b\b\b\b\b\b\b\b\b\b\b\b\b\b\b\b\b\b\b\b\b\b\b\b\b\b\b\b\b\b\b\b\b\b\b\b\b\b\b\b\b\b\b\b\b\b\b\b\b\b\b\b\b\b\b\b\b\b\b\b\b\b\b\b\b\b\b\b\b\b\b\b\b\b\b\b\b\b\b\b\b\b\b\b\b\bTime 344.83, batch 1721/2766, mu 20.04, neg-err 113.618783, NTOT 131397, n100 112, n200 112, n300 112, n400 112\n",
      "\b\b\b\b\b\b\b\b\b\b\b\b\b\b\b\b\b\b\b\b\b\b\b\b\b\b\b\b\b\b\b\b\b\b\b\b\b\b\b\b\b\b\b\b\b\b\b\b\b\b\b\b\b\b\b\b\b\b\b\b\b\b\b\b\b\b\b\b\b\b\b\b\b\b\b\b\b\b\b\b\b\b\b\b\b\b\b\b\b\b\b\b\b\b\b\b\b\b\b\b\b\b\b\b\b\b\b\b\b\b\b\bTime 347.32, batch 1741/2766, mu 20.04, neg-err 113.554894, NTOT 130956, n100 98, n200 98, n300 98, n400 98\n",
      "\b\b\b\b\b\b\b\b\b\b\b\b\b\b\b\b\b\b\b\b\b\b\b\b\b\b\b\b\b\b\b\b\b\b\b\b\b\b\b\b\b\b\b\b\b\b\b\b\b\b\b\b\b\b\b\b\b\b\b\b\b\b\b\b\b\b\b\b\b\b\b\b\b\b\b\b\b\b\b\b\b\b\b\b\b\b\b\b\b\b\b\b\b\b\b\b\b\b\b\b\b\b\b\b\b\b\b\bTime 349.86, batch 1761/2766, mu 20.04, neg-err 113.497028, NTOT 130482, n100 99, n200 99, n300 99, n400 99\n",
      "\b\b\b\b\b\b\b\b\b\b\b\b\b\b\b\b\b\b\b\b\b\b\b\b\b\b\b\b\b\b\b\b\b\b\b\b\b\b\b\b\b\b\b\b\b\b\b\b\b\b\b\b\b\b\b\b\b\b\b\b\b\b\b\b\b\b\b\b\b\b\b\b\b\b\b\b\b\b\b\b\b\b\b\b\b\b\b\b\b\b\b\b\b\b\b\b\b\b\b\b\b\b\b\b\b\b\b\bTime 352.34, batch 1781/2766, mu 20.04, neg-err 113.548445, NTOT 129980, n100 102, n200 102, n300 102, n400 102\n",
      "\b\b\b\b\b\b\b\b\b\b\b\b\b\b\b\b\b\b\b\b\b\b\b\b\b\b\b\b\b\b\b\b\b\b\b\b\b\b\b\b\b\b\b\b\b\b\b\b\b\b\b\b\b\b\b\b\b\b\b\b\b\b\b\b\b\b\b\b\b\b\b\b\b\b\b\b\b\b\b\b\b\b\b\b\b\b\b\b\b\b\b\b\b\b\b\b\b\b\b\b\b\b\b\b\b\b\b\b\b\b\b\bTime 355.30, batch 1801/2766, mu 20.76, neg-err 113.467486, NTOT 129533, n100 103, n200 103, n300 103, n400 103\n",
      "\b\b\b\b\b\b\b\b\b\b\b\b\b\b\b\b\b\b\b\b\b\b\b\b\b\b\b\b\b\b\b\b\b\b\b\b\b\b\b\b\b\b\b\b\b\b\b\b\b\b\b\b\b\b\b\b\b\b\b\b\b\b\b\b\b\b\b\b\b\b\b\b\b\b\b\b\b\b\b\b\b\b\b\b\b\b\b\b\b\b\b\b\b\b\b\b\b\b\b\b\b\b\b\b\b\b\b\b\b\b\b\bTime 358.05, batch 1821/2766, mu 20.76, neg-err 113.412913, NTOT 129117, n100 88, n200 88, n300 88, n400 88\n",
      "\b\b\b\b\b\b\b\b\b\b\b\b\b\b\b\b\b\b\b\b\b\b\b\b\b\b\b\b\b\b\b\b\b\b\b\b\b\b\b\b\b\b\b\b\b\b\b\b\b\b\b\b\b\b\b\b\b\b\b\b\b\b\b\b\b\b\b\b\b\b\b\b\b\b\b\b\b\b\b\b\b\b\b\b\b\b\b\b\b\b\b\b\b\b\b\b\b\b\b\b\b\b\b\b\b\b\b\bTime 360.67, batch 1841/2766, mu 20.76, neg-err 113.328821, NTOT 128693, n100 90, n200 90, n300 90, n400 90\n",
      "\b\b\b\b\b\b\b\b\b\b\b\b\b\b\b\b\b\b\b\b\b\b\b\b\b\b\b\b\b\b\b\b\b\b\b\b\b\b\b\b\b\b\b\b\b\b\b\b\b\b\b\b\b\b\b\b\b\b\b\b\b\b\b\b\b\b\b\b\b\b\b\b\b\b\b\b\b\b\b\b\b\b\b\b\b\b\b\b\b\b\b\b\b\b\b\b\b\b\b\b\b\b\b\b\b\b\b\bTime 363.42, batch 1861/2766, mu 20.35, neg-err 113.269788, NTOT 128098, n100 95, n200 95, n300 95, n400 95\n",
      "\b\b\b\b\b\b\b\b\b\b\b\b\b\b\b\b\b\b\b\b\b\b\b\b\b\b\b\b\b\b\b\b\b\b\b\b\b\b\b\b\b\b\b\b\b\b\b\b\b\b\b\b\b\b\b\b\b\b\b\b\b\b\b\b\b\b\b\b\b\b\b\b\b\b\b\b\b\b\b\b\b\b\b\b\b\b\b\b\b\b\b\b\b\b\b\b\b\b\b\b\b\b\b\b\b\b\b\bTime 365.93, batch 1881/2766, mu 20.35, neg-err 113.234723, NTOT 127718, n100 99, n200 99, n300 99, n400 99\n",
      "\b\b\b\b\b\b\b\b\b\b\b\b\b\b\b\b\b\b\b\b\b\b\b\b\b\b\b\b\b\b\b\b\b\b\b\b\b\b\b\b\b\b\b\b\b\b\b\b\b\b\b\b\b\b\b\b\b\b\b\b\b\b\b\b\b\b\b\b\b\b\b\b\b\b\b\b\b\b\b\b\b\b\b\b\b\b\b\b\b\b\b\b\b\b\b\b\b\b\b\b\b\b\b\b\b\b\b\bTime 368.48, batch 1901/2766, mu 20.35, neg-err 113.239659, NTOT 127325, n100 104, n200 104, n300 104, n400 104\n",
      "\b\b\b\b\b\b\b\b\b\b\b\b\b\b\b\b\b\b\b\b\b\b\b\b\b\b\b\b\b\b\b\b\b\b\b\b\b\b\b\b\b\b\b\b\b\b\b\b\b\b\b\b\b\b\b\b\b\b\b\b\b\b\b\b\b\b\b\b\b\b\b\b\b\b\b\b\b\b\b\b\b\b\b\b\b\b\b\b\b\b\b\b\b\b\b\b\b\b\b\b\b\b\b\b\b\b\b\b\b\b\b\bTime 371.00, batch 1921/2766, mu 20.35, neg-err 113.188836, NTOT 126929, n100 106, n200 106, n300 106, n400 106\n",
      "\b\b\b\b\b\b\b\b\b\b\b\b\b\b\b\b\b\b\b\b\b\b\b\b\b\b\b\b\b\b\b\b\b\b\b\b\b\b\b\b\b\b\b\b\b\b\b\b\b\b\b\b\b\b\b\b\b\b\b\b\b\b\b\b\b\b\b\b\b\b\b\b\b\b\b\b\b\b\b\b\b\b\b\b\b\b\b\b\b\b\b\b\b\b\b\b\b\b\b\b\b\b\b\b\b\b\b\b\b\b\b\bTime 373.49, batch 1941/2766, mu 20.35, neg-err 113.155936, NTOT 126567, n100 113, n200 113, n300 113, n400 113\n",
      "\b\b\b\b\b\b\b\b\b\b\b\b\b\b\b\b\b\b\b\b\b\b\b\b\b\b\b\b\b\b\b\b\b\b\b\b\b\b\b\b\b\b\b\b\b\b\b\b\b\b\b\b\b\b\b\b\b\b\b\b\b\b\b\b\b\b\b\b\b\b\b\b\b\b\b\b\b\b\b\b\b\b\b\b\b\b\b\b\b\b\b\b\b\b\b\b\b\b\b\b\b\b\b\b\b\b\b\b\b\b\b\bTime 376.08, batch 1961/2766, mu 20.35, neg-err 113.094849, NTOT 126256, n100 117, n200 117, n300 117, n400 117\n",
      "\b\b\b\b\b\b\b\b\b\b\b\b\b\b\b\b\b\b\b\b\b\b\b\b\b\b\b\b\b\b\b\b\b\b\b\b\b\b\b\b\b\b\b\b\b\b\b\b\b\b\b\b\b\b\b\b\b\b\b\b\b\b\b\b\b\b\b\b\b\b\b\b\b\b\b\b\b\b\b\b\b\b\b\b\b\b\b\b\b\b\b\b\b\b\b\b\b\b\b\b\b\b\b\b\b\b\b\b\b\b\b\bTime 378.74, batch 1981/2766, mu 20.35, neg-err 113.071743, NTOT 125960, n100 122, n200 122, n300 122, n400 122\n",
      "\b\b\b\b\b\b\b\b\b\b\b\b\b\b\b\b\b\b\b\b\b\b\b\b\b\b\b\b\b\b\b\b\b\b\b\b\b\b\b\b\b\b\b\b\b\b\b\b\b\b\b\b\b\b\b\b\b\b\b\b\b\b\b\b\b\b\b\b\b\b\b\b\b\b\b\b\b\b\b\b\b\b\b\b\b\b\b\b\b\b\b\b\b\b\b\b\b\b\b\b\b\b\b\b\b\b\b\b\b\b\b\bTime 381.30, batch 2001/2766, mu 20.35, neg-err 113.045943, NTOT 125653, n100 127, n200 127, n300 127, n400 127\n",
      "\b\b\b\b\b\b\b\b\b\b\b\b\b\b\b\b\b\b\b\b\b\b\b\b\b\b\b\b\b\b\b\b\b\b\b\b\b\b\b\b\b\b\b\b\b\b\b\b\b\b\b\b\b\b\b\b\b\b\b\b\b\b\b\b\b\b\b\b\b\b\b\b\b\b\b\b\b\b\b\b\b\b\b\b\b\b\b\b\b\b\b\b\b\b\b\b\b\b\b\b\b\b\b\b\b\b\b\b\b\b\b\bTime 383.87, batch 2021/2766, mu 20.35, neg-err 113.074695, NTOT 125378, n100 133, n200 133, n300 133, n400 133\n",
      "\b\b\b\b\b\b\b\b\b\b\b\b\b\b\b\b\b\b\b\b\b\b\b\b\b\b\b\b\b\b\b\b\b\b\b\b\b\b\b\b\b\b\b\b\b\b\b\b\b\b\b\b\b\b\b\b\b\b\b\b\b\b\b\b\b\b\b\b\b\b\b\b\b\b\b\b\b\b\b\b\b\b\b\b\b\b\b\b\b\b\b\b\b\b\b\b\b\b\b\b\b\b\b\b\b\b\b\b\b\b\b\bTime 386.55, batch 2041/2766, mu 20.35, neg-err 113.062942, NTOT 125156, n100 137, n200 137, n300 137, n400 137\n",
      "\b\b\b\b\b\b\b\b\b\b\b\b\b\b\b\b\b\b\b\b\b\b\b\b\b\b\b\b\b\b\b\b\b\b\b\b\b\b\b\b\b\b\b\b\b\b\b\b\b\b\b\b\b\b\b\b\b\b\b\b\b\b\b\b\b\b\b\b\b\b\b\b\b\b\b\b\b\b\b\b\b\b\b\b\b\b\b\b\b\b\b\b\b\b\b\b\b\b\b\b\b\b\b\b\b\b\b\b\b\b\b\bTime 389.18, batch 2061/2766, mu 20.35, neg-err 113.059143, NTOT 124930, n100 139, n200 139, n300 139, n400 139\n",
      "\b\b\b\b\b\b\b\b\b\b\b\b\b\b\b\b\b\b\b\b\b\b\b\b\b\b\b\b\b\b\b\b\b\b\b\b\b\b\b\b\b\b\b\b\b\b\b\b\b\b\b\b\b\b\b\b\b\b\b\b\b\b\b\b\b\b\b\b\b\b\b\b\b\b\b\b\b\b\b\b\b\b\b\b\b\b\b\b\b\b\b\b\b\b\b\b\b\b\b\b\b\b\b\b\b\b\b\b\b\b\b\bTime 391.75, batch 2081/2766, mu 20.35, neg-err 113.058770, NTOT 124693, n100 140, n200 140, n300 140, n400 140\n",
      "\b\b\b\b\b\b\b\b\b\b\b\b\b\b\b\b\b\b\b\b\b\b\b\b\b\b\b\b\b\b\b\b\b\b\b\b\b\b\b\b\b\b\b\b\b\b\b\b\b\b\b\b\b\b\b\b\b\b\b\b\b\b\b\b\b\b\b\b\b\b\b\b\b\b\b\b\b\b\b\b\b\b\b\b\b\b\b\b\b\b\b\b\b\b\b\b\b\b\b\b\b\b\b\b\b\b\b\b\b\b\b\bTime 394.25, batch 2101/2766, mu 20.35, neg-err 113.063064, NTOT 124534, n100 145, n200 145, n300 145, n400 145\n",
      "\b\b\b\b\b\b\b\b\b\b\b\b\b\b\b\b\b\b\b\b\b\b\b\b\b\b\b\b\b\b\b\b\b\b\b\b\b\b\b\b\b\b\b\b\b\b\b\b\b\b\b\b\b\b\b\b\b\b\b\b\b\b\b\b\b\b\b\b\b\b\b\b\b\b\b\b\b\b\b\b\b\b\b\b\b\b\b\b\b\b\b\b\b\b\b\b\b\b\b\b\b\b\b\b\b\b\b\b\b\b\b\bTime 396.82, batch 2121/2766, mu 20.35, neg-err 112.985799, NTOT 124361, n100 147, n200 147, n300 147, n400 147\n",
      "\b\b\b\b\b\b\b\b\b\b\b\b\b\b\b\b\b\b\b\b\b\b\b\b\b\b\b\b\b\b\b\b\b\b\b\b\b\b\b\b\b\b\b\b\b\b\b\b\b\b\b\b\b\b\b\b\b\b\b\b\b\b\b\b\b\b\b\b\b\b\b\b\b\b\b\b\b\b\b\b\b\b\b\b\b\b\b\b\b\b\b\b\b\b\b\b\b\b\b\b\b\b\b\b\b\b\b\b\b\b\b\bTime 399.37, batch 2141/2766, mu 20.35, neg-err 112.986852, NTOT 124232, n100 151, n200 151, n300 151, n400 151\n",
      "\b\b\b\b\b\b\b\b\b\b\b\b\b\b\b\b\b\b\b\b\b\b\b\b\b\b\b\b\b\b\b\b\b\b\b\b\b\b\b\b\b\b\b\b\b\b\b\b\b\b\b\b\b\b\b\b\b\b\b\b\b\b\b\b\b\b\b\b\b\b\b\b\b\b\b\b\b\b\b\b\b\b\b\b\b\b\b\b\b\b\b\b\b\b\b\b\b\b\b\b\b\b\b\b\b\b\b\b\b\b\b\bTime 401.92, batch 2161/2766, mu 20.35, neg-err 112.976759, NTOT 124114, n100 159, n200 159, n300 159, n400 159\n",
      "\b\b\b\b\b\b\b\b\b\b\b\b\b\b\b\b\b\b\b\b\b\b\b\b\b\b\b\b\b\b\b\b\b\b\b\b\b\b\b\b\b\b\b\b\b\b\b\b\b\b\b\b\b\b\b\b\b\b\b\b\b\b\b\b\b\b\b\b\b\b\b\b\b\b\b\b\b\b\b\b\b\b\b\b\b\b\b\b\b\b\b\b\b\b\b\b\b\b\b\b\b\b\b\b\b\b\b\b\b\b\b\bTime 404.37, batch 2181/2766, mu 20.35, neg-err 112.996629, NTOT 123990, n100 159, n200 159, n300 159, n400 159\n",
      "\b\b\b\b\b\b\b\b\b\b\b\b\b\b\b\b\b\b\b\b\b\b\b\b\b\b\b\b\b\b\b\b\b\b\b\b\b\b\b\b\b\b\b\b\b\b\b\b\b\b\b\b\b\b\b\b\b\b\b\b\b\b\b\b\b\b\b\b\b\b\b\b\b\b\b\b\b\b\b\b\b\b\b\b\b\b\b\b\b\b\b\b\b\b\b\b\b\b\b\b\b\b\b\b\b\b\b\b\b\b\b\bTime 406.89, batch 2201/2766, mu 20.35, neg-err 112.958190, NTOT 123927, n100 164, n200 164, n300 164, n400 164\n",
      "\b\b\b\b\b\b\b\b\b\b\b\b\b\b\b\b\b\b\b\b\b\b\b\b\b\b\b\b\b\b\b\b\b\b\b\b\b\b\b\b\b\b\b\b\b\b\b\b\b\b\b\b\b\b\b\b\b\b\b\b\b\b\b\b\b\b\b\b\b\b\b\b\b\b\b\b\b\b\b\b\b\b\b\b\b\b\b\b\b\b\b\b\b\b\b\b\b\b\b\b\b\b\b\b\b\b\b\b\b\b\b\bTime 409.37, batch 2221/2766, mu 20.35, neg-err 112.973686, NTOT 123869, n100 169, n200 169, n300 169, n400 169\n",
      "\b\b\b\b\b\b\b\b\b\b\b\b\b\b\b\b\b\b\b\b\b\b\b\b\b\b\b\b\b\b\b\b\b\b\b\b\b\b\b\b\b\b\b\b\b\b\b\b\b\b\b\b\b\b\b\b\b\b\b\b\b\b\b\b\b\b\b\b\b\b\b\b\b\b\b\b\b\b\b\b\b\b\b\b\b\b\b\b\b\b\b\b\b\b\b\b\b\b\b\b\b\b\b\b\b\b\b\b\b\b\b\bTime 411.89, batch 2241/2766, mu 20.35, neg-err 113.019902, NTOT 123823, n100 172, n200 172, n300 172, n400 172\n",
      "\b\b\b\b\b\b\b\b\b\b\b\b\b\b\b\b\b\b\b\b\b\b\b\b\b\b\b\b\b\b\b\b\b\b\b\b\b\b\b\b\b\b\b\b\b\b\b\b\b\b\b\b\b\b\b\b\b\b\b\b\b\b\b\b\b\b\b\b\b\b\b\b\b\b\b\b\b\b\b\b\b\b\b\b\b\b\b\b\b\b\b\b\b\b\b\b\b\b\b\b\b\b\b\b\b\b\b\b\b\b\b\bTime 414.84, batch 2261/2766, mu 20.94, neg-err 113.030096, NTOT 123778, n100 173, n200 173, n300 173, n400 173\n",
      "\b\b\b\b\b\b\b\b\b\b\b\b\b\b\b\b\b\b\b\b\b\b\b\b\b\b\b\b\b\b\b\b\b\b\b\b\b\b\b\b\b\b\b\b\b\b\b\b\b\b\b\b\b\b\b\b\b\b\b\b\b\b\b\b\b\b\b\b\b\b\b\b\b\b\b\b\b\b\b\b\b\b\b\b\b\b\b\b\b\b\b\b\b\b\b\b\b\b\b\b\b\b\b\b\b\b\b\b\b\b\b\bTime 417.46, batch 2281/2766, mu 20.94, neg-err 113.047738, NTOT 123780, n100 177, n200 177, n300 177, n400 177\n",
      "\b\b\b\b\b\b\b\b\b\b\b\b\b\b\b\b\b\b\b\b\b\b\b\b\b\b\b\b\b\b\b\b\b\b\b\b\b\b\b\b\b\b\b\b\b\b\b\b\b\b\b\b\b\b\b\b\b\b\b\b\b\b\b\b\b\b\b\b\b\b\b\b\b\b\b\b\b\b\b\b\b\b\b\b\b\b\b\b\b\b\b\b\b\b\b\b\b\b\b\b\b\b\b\b\b\b\b\b\b\b\b\bTime 420.09, batch 2301/2766, mu 20.94, neg-err 113.072355, NTOT 123808, n100 181, n200 181, n300 181, n400 181\n",
      "\b\b\b\b\b\b\b\b\b\b\b\b\b\b\b\b\b\b\b\b\b\b\b\b\b\b\b\b\b\b\b\b\b\b\b\b\b\b\b\b\b\b\b\b\b\b\b\b\b\b\b\b\b\b\b\b\b\b\b\b\b\b\b\b\b\b\b\b\b\b\b\b\b\b\b\b\b\b\b\b\b\b\b\b\b\b\b\b\b\b\b\b\b\b\b\b\b\b\b\b\b\b\b\b\b\b\b\b\b\b\b\bTime 422.87, batch 2321/2766, mu 20.61, neg-err 113.092671, NTOT 123658, n100 115, n200 115, n300 115, n400 115\n",
      "\b\b\b\b\b\b\b\b\b\b\b\b\b\b\b\b\b\b\b\b\b\b\b\b\b\b\b\b\b\b\b\b\b\b\b\b\b\b\b\b\b\b\b\b\b\b\b\b\b\b\b\b\b\b\b\b\b\b\b\b\b\b\b\b\b\b\b\b\b\b\b\b\b\b\b\b\b\b\b\b\b\b\b\b\b\b\b\b\b\b\b\b\b\b\b\b\b\b\b\b\b\b\b\b\b\b\b\b\b\b\b\bTime 425.37, batch 2341/2766, mu 20.61, neg-err 113.119982, NTOT 123688, n100 113, n200 113, n300 113, n400 113\n",
      "\b\b\b\b\b\b\b\b\b\b\b\b\b\b\b\b\b\b\b\b\b\b\b\b\b\b\b\b\b\b\b\b\b\b\b\b\b\b\b\b\b\b\b\b\b\b\b\b\b\b\b\b\b\b\b\b\b\b\b\b\b\b\b\b\b\b\b\b\b\b\b\b\b\b\b\b\b\b\b\b\b\b\b\b\b\b\b\b\b\b\b\b\b\b\b\b\b\b\b\b\b\b\b\b\b\b\b\b\b\b\b\bTime 427.85, batch 2361/2766, mu 20.61, neg-err 113.134934, NTOT 123693, n100 112, n200 112, n300 112, n400 112\n",
      "\b\b\b\b\b\b\b\b\b\b\b\b\b\b\b\b\b\b\b\b\b\b\b\b\b\b\b\b\b\b\b\b\b\b\b\b\b\b\b\b\b\b\b\b\b\b\b\b\b\b\b\b\b\b\b\b\b\b\b\b\b\b\b\b\b\b\b\b\b\b\b\b\b\b\b\b\b\b\b\b\b\b\b\b\b\b\b\b\b\b\b\b\b\b\b\b\b\b\b\b\b\b\b\b\b\b\b\b\b\b\b\bTime 430.31, batch 2381/2766, mu 20.61, neg-err 113.160816, NTOT 123699, n100 102, n200 102, n300 102, n400 102\n",
      "\b\b\b\b\b\b\b\b\b\b\b\b\b\b\b\b\b\b\b\b\b\b\b\b\b\b\b\b\b\b\b\b\b\b\b\b\b\b\b\b\b\b\b\b\b\b\b\b\b\b\b\b\b\b\b\b\b\b\b\b\b\b\b\b\b\b\b\b\b\b\b\b\b\b\b\b\b\b\b\b\b\b\b\b\b\b\b\b\b\b\b\b\b\b\b\b\b\b\b\b\b\b\b\b\b\b\b\b\b\b\b\bTime 432.73, batch 2401/2766, mu 20.61, neg-err 113.189682, NTOT 123746, n100 98, n200 98, n300 98, n400 98\n",
      "\b\b\b\b\b\b\b\b\b\b\b\b\b\b\b\b\b\b\b\b\b\b\b\b\b\b\b\b\b\b\b\b\b\b\b\b\b\b\b\b\b\b\b\b\b\b\b\b\b\b\b\b\b\b\b\b\b\b\b\b\b\b\b\b\b\b\b\b\b\b\b\b\b\b\b\b\b\b\b\b\b\b\b\b\b\b\b\b\b\b\b\b\b\b\b\b\b\b\b\b\b\b\b\b\b\b\b\bTime 435.18, batch 2421/2766, mu 20.61, neg-err 113.156069, NTOT 123768, n100 103, n200 103, n300 103, n400 103\n",
      "\b\b\b\b\b\b\b\b\b\b\b\b\b\b\b\b\b\b\b\b\b\b\b\b\b\b\b\b\b\b\b\b\b\b\b\b\b\b\b\b\b\b\b\b\b\b\b\b\b\b\b\b\b\b\b\b\b\b\b\b\b\b\b\b\b\b\b\b\b\b\b\b\b\b\b\b\b\b\b\b\b\b\b\b\b\b\b\b\b\b\b\b\b\b\b\b\b\b\b\b\b\b\b\b\b\b\b\b\b\b\b\bTime 437.60, batch 2441/2766, mu 20.61, neg-err 113.151488, NTOT 123812, n100 103, n200 103, n300 103, n400 103\n",
      "\b\b\b\b\b\b\b\b\b\b\b\b\b\b\b\b\b\b\b\b\b\b\b\b\b\b\b\b\b\b\b\b\b\b\b\b\b\b\b\b\b\b\b\b\b\b\b\b\b\b\b\b\b\b\b\b\b\b\b\b\b\b\b\b\b\b\b\b\b\b\b\b\b\b\b\b\b\b\b\b\b\b\b\b\b\b\b\b\b\b\b\b\b\b\b\b\b\b\b\b\b\b\b\b\b\b\b\b\b\b\b\bTime 440.21, batch 2461/2766, mu 20.61, neg-err 113.168469, NTOT 123837, n100 107, n200 107, n300 107, n400 107\n",
      "\b\b\b\b\b\b\b\b\b\b\b\b\b\b\b\b\b\b\b\b\b\b\b\b\b\b\b\b\b\b\b\b\b\b\b\b\b\b\b\b\b\b\b\b\b\b\b\b\b\b\b\b\b\b\b\b\b\b\b\b\b\b\b\b\b\b\b\b\b\b\b\b\b\b\b\b\b\b\b\b\b\b\b\b\b\b\b\b\b\b\b\b\b\b\b\b\b\b\b\b\b\b\b\b\b\b\b\b\b\b\b\bTime 442.76, batch 2481/2766, mu 20.61, neg-err 113.215457, NTOT 123878, n100 110, n200 110, n300 110, n400 110\n",
      "\b\b\b\b\b\b\b\b\b\b\b\b\b\b\b\b\b\b\b\b\b\b\b\b\b\b\b\b\b\b\b\b\b\b\b\b\b\b\b\b\b\b\b\b\b\b\b\b\b\b\b\b\b\b\b\b\b\b\b\b\b\b\b\b\b\b\b\b\b\b\b\b\b\b\b\b\b\b\b\b\b\b\b\b\b\b\b\b\b\b\b\b\b\b\b\b\b\b\b\b\b\b\b\b\b\b\b\b\b\b\b\bTime 445.48, batch 2501/2766, mu 20.61, neg-err 113.242854, NTOT 123901, n100 112, n200 112, n300 112, n400 112\n",
      "\b\b\b\b\b\b\b\b\b\b\b\b\b\b\b\b\b\b\b\b\b\b\b\b\b\b\b\b\b\b\b\b\b\b\b\b\b\b\b\b\b\b\b\b\b\b\b\b\b\b\b\b\b\b\b\b\b\b\b\b\b\b\b\b\b\b\b\b\b\b\b\b\b\b\b\b\b\b\b\b\b\b\b\b\b\b\b\b\b\b\b\b\b\b\b\b\b\b\b\b\b\b\b\b\b\b\b\b\b\b\b\bTime 448.13, batch 2521/2766, mu 20.61, neg-err 113.254123, NTOT 123907, n100 115, n200 115, n300 115, n400 115\n",
      "\b\b\b\b\b\b\b\b\b\b\b\b\b\b\b\b\b\b\b\b\b\b\b\b\b\b\b\b\b\b\b\b\b\b\b\b\b\b\b\b\b\b\b\b\b\b\b\b\b\b\b\b\b\b\b\b\b\b\b\b\b\b\b\b\b\b\b\b\b\b\b\b\b\b\b\b\b\b\b\b\b\b\b\b\b\b\b\b\b\b\b\b\b\b\b\b\b\b\b\b\b\b\b\b\b\b\b\b\b\b\b\bTime 450.68, batch 2541/2766, mu 20.61, neg-err 113.244683, NTOT 123952, n100 117, n200 117, n300 117, n400 117\n",
      "\b\b\b\b\b\b\b\b\b\b\b\b\b\b\b\b\b\b\b\b\b\b\b\b\b\b\b\b\b\b\b\b\b\b\b\b\b\b\b\b\b\b\b\b\b\b\b\b\b\b\b\b\b\b\b\b\b\b\b\b\b\b\b\b\b\b\b\b\b\b\b\b\b\b\b\b\b\b\b\b\b\b\b\b\b\b\b\b\b\b\b\b\b\b\b\b\b\b\b\b\b\b\b\b\b\b\b\b\b\b\b\bTime 453.37, batch 2561/2766, mu 20.61, neg-err 113.259317, NTOT 123994, n100 118, n200 118, n300 118, n400 118\n",
      "\b\b\b\b\b\b\b\b\b\b\b\b\b\b\b\b\b\b\b\b\b\b\b\b\b\b\b\b\b\b\b\b\b\b\b\b\b\b\b\b\b\b\b\b\b\b\b\b\b\b\b\b\b\b\b\b\b\b\b\b\b\b\b\b\b\b\b\b\b\b\b\b\b\b\b\b\b\b\b\b\b\b\b\b\b\b\b\b\b\b\b\b\b\b\b\b\b\b\b\b\b\b\b\b\b\b\b\b\b\b\b\bTime 455.93, batch 2581/2766, mu 20.61, neg-err 113.290843, NTOT 124022, n100 119, n200 119, n300 119, n400 119\n",
      "\b\b\b\b\b\b\b\b\b\b\b\b\b\b\b\b\b\b\b\b\b\b\b\b\b\b\b\b\b\b\b\b\b\b\b\b\b\b\b\b\b\b\b\b\b\b\b\b\b\b\b\b\b\b\b\b\b\b\b\b\b\b\b\b\b\b\b\b\b\b\b\b\b\b\b\b\b\b\b\b\b\b\b\b\b\b\b\b\b\b\b\b\b\b\b\b\b\b\b\b\b\b\b\b\b\b\b\b\b\b\b\bTime 458.49, batch 2601/2766, mu 20.61, neg-err 113.316155, NTOT 124047, n100 123, n200 123, n300 123, n400 123\n",
      "\b\b\b\b\b\b\b\b\b\b\b\b\b\b\b\b\b\b\b\b\b\b\b\b\b\b\b\b\b\b\b\b\b\b\b\b\b\b\b\b\b\b\b\b\b\b\b\b\b\b\b\b\b\b\b\b\b\b\b\b\b\b\b\b\b\b\b\b\b\b\b\b\b\b\b\b\b\b\b\b\b\b\b\b\b\b\b\b\b\b\b\b\b\b\b\b\b\b\b\b\b\b\b\b\b\b\b\b\b\b\b\bTime 461.05, batch 2621/2766, mu 20.61, neg-err 113.343323, NTOT 124072, n100 117, n200 117, n300 117, n400 117\n",
      "\b\b\b\b\b\b\b\b\b\b\b\b\b\b\b\b\b\b\b\b\b\b\b\b\b\b\b\b\b\b\b\b\b\b\b\b\b\b\b\b\b\b\b\b\b\b\b\b\b\b\b\b\b\b\b\b\b\b\b\b\b\b\b\b\b\b\b\b\b\b\b\b\b\b\b\b\b\b\b\b\b\b\b\b\b\b\b\b\b\b\b\b\b\b\b\b\b\b\b\b\b\b\b\b\b\b\b\b\b\b\b\bTime 463.64, batch 2641/2766, mu 20.61, neg-err 113.379421, NTOT 124085, n100 112, n200 112, n300 112, n400 112\n",
      "\b\b\b\b\b\b\b\b\b\b\b\b\b\b\b\b\b\b\b\b\b\b\b\b\b\b\b\b\b\b\b\b\b\b\b\b\b\b\b\b\b\b\b\b\b\b\b\b\b\b\b\b\b\b\b\b\b\b\b\b\b\b\b\b\b\b\b\b\b\b\b\b\b\b\b\b\b\b\b\b\b\b\b\b\b\b\b\b\b\b\b\b\b\b\b\b\b\b\b\b\b\b\b\b\b\b\b\b\b\b\b\bTime 466.28, batch 2661/2766, mu 20.61, neg-err 113.408453, NTOT 124130, n100 98, n200 98, n300 98, n400 98\n",
      "\b\b\b\b\b\b\b\b\b\b\b\b\b\b\b\b\b\b\b\b\b\b\b\b\b\b\b\b\b\b\b\b\b\b\b\b\b\b\b\b\b\b\b\b\b\b\b\b\b\b\b\b\b\b\b\b\b\b\b\b\b\b\b\b\b\b\b\b\b\b\b\b\b\b\b\b\b\b\b\b\b\b\b\b\b\b\b\b\b\b\b\b\b\b\b\b\b\b\b\b\b\b\b\b\b\b\b\bTime 468.91, batch 2681/2766, mu 20.61, neg-err 113.435542, NTOT 124140, n100 103, n200 103, n300 103, n400 103\n",
      "\b\b\b\b\b\b\b\b\b\b\b\b\b\b\b\b\b\b\b\b\b\b\b\b\b\b\b\b\b\b\b\b\b\b\b\b\b\b\b\b\b\b\b\b\b\b\b\b\b\b\b\b\b\b\b\b\b\b\b\b\b\b\b\b\b\b\b\b\b\b\b\b\b\b\b\b\b\b\b\b\b\b\b\b\b\b\b\b\b\b\b\b\b\b\b\b\b\b\b\b\b\b\b\b\b\b\b\b\b\b\b\bTime 471.43, batch 2701/2766, mu 20.61, neg-err 113.460722, NTOT 124135, n100 106, n200 106, n300 106, n400 106\n",
      "\b\b\b\b\b\b\b\b\b\b\b\b\b\b\b\b\b\b\b\b\b\b\b\b\b\b\b\b\b\b\b\b\b\b\b\b\b\b\b\b\b\b\b\b\b\b\b\b\b\b\b\b\b\b\b\b\b\b\b\b\b\b\b\b\b\b\b\b\b\b\b\b\b\b\b\b\b\b\b\b\b\b\b\b\b\b\b\b\b\b\b\b\b\b\b\b\b\b\b\b\b\b\b\b\b\b\b\b\b\b\b\bTime 474.24, batch 2721/2766, mu 21.11, neg-err 113.454150, NTOT 124118, n100 106, n200 106, n300 106, n400 106\n",
      "\b\b\b\b\b\b\b\b\b\b\b\b\b\b\b\b\b\b\b\b\b\b\b\b\b\b\b\b\b\b\b\b\b\b\b\b\b\b\b\b\b\b\b\b\b\b\b\b\b\b\b\b\b\b\b\b\b\b\b\b\b\b\b\b\b\b\b\b\b\b\b\b\b\b\b\b\b\b\b\b\b\b\b\b\b\b\b\b\b\b\b\b\b\b\b\b\b\b\b\b\b\b\b\b\b\b\b\b\b\b\b\bTime 476.87, batch 2741/2766, mu 21.11, neg-err 113.439664, NTOT 124086, n100 91, n200 91, n300 91, n400 91\n",
      "\b\b\b\b\b\b\b\b\b\b\b\b\b\b\b\b\b\b\b\b\b\b\b\b\b\b\b\b\b\b\b\b\b\b\b\b\b\b\b\b\b\b\b\b\b\b\b\b\b\b\b\b\b\b\b\b\b\b\b\b\b\b\b\b\b\b\b\b\b\b\b\b\b\b\b\b\b\b\b\b\b\b\b\b\b\b\b\b\b\b\b\b\b\b\b\b\b\b\b\b\b\b\b\b\b\b\b\bTime 479.51, batch 2761/2766, mu 21.11, neg-err 113.414681, NTOT 124053, n100 92, n200 92, n300 92, n400 92\n",
      "Time 481s. Running the final template matching pass...\n",
      "Time 480.78, batch 1/461,  NTOT 405\n",
      "\b\b\b\b\b\b\b\b\b\b\b\b\b\b\b\b\b\b\b\b\b\b\b\b\b\b\b\b\b\b\b\b\b\b\b\bTime 513.20, batch 101/461,  NTOT 72874\n",
      "\b\b\b\b\b\b\b\b\b\b\b\b\b\b\b\b\b\b\b\b\b\b\b\b\b\b\b\b\b\b\b\b\b\b\b\b\b\b\b\bTime 542.65, batch 201/461,  NTOT 128887\n",
      "\b\b\b\b\b\b\b\b\b\b\b\b\b\b\b\b\b\b\b\b\b\b\b\b\b\b\b\b\b\b\b\b\b\b\b\b\b\b\b\b\bTime 570.26, batch 301/461,  NTOT 174136\n",
      "\b\b\b\b\b\b\b\b\b\b\b\b\b\b\b\b\b\b\b\b\b\b\b\b\b\b\b\b\b\b\b\b\b\b\b\b\b\b\b\b\bTime 598.80, batch 401/461,  NTOT 217136\n",
      "[\bWarning: Matrix is close to singular or badly scaled. Results may be\n",
      "inaccurate. RCOND =  4.636823e-19.]\b \n",
      "[\b> In matlab.internal.math.mpower.viaMtimes (line 35)\n",
      "  In fullMPMU (line 264)\n",
      "  In master (line 29)]\b \n",
      "[\bWarning: Matrix is close to singular or badly scaled. Results may be\n",
      "inaccurate. RCOND =  4.636823e-19.]\b \n",
      "[\b> In matlab.internal.math.mpower.viaMtimes (line 35)\n",
      "  In rezToPhy (line 95)\n",
      "  In master (line 60)]\b \n",
      "\n"
     ]
    },
    {
     "name": "stderr",
     "output_type": "stream",
     "text": [
      "2017-05-24 16:58:32,924 kilosort     INFO     Pushing back bci_pipeline data\n",
      "2017-05-24 16:58:33,513 kilosort     INFO     Pushed back to cube [None, None, None, None, None, None, None, None, None, None, None, None, None, None, None, None]\n"
     ]
    },
    {
     "name": "stdout",
     "output_type": "stream",
     "text": [
      "Finished \n"
     ]
    }
   ],
   "source": [
    "reload(kilosort)\n",
    "def local_kilosort(bird, sess):\n",
    "    logger.info('Will sort using kilosort on local computer')\n",
    "    kilosort.run_kilosort(bird, sess, \n",
    "                          kilo_dir=os.path.abspath('/home/earneodo/repos/KiloSort'),\n",
    "                          npymat_dir=os.path.abspath('/home/earneodo/repos/npy-matlab'),\n",
    "                          no_copy=False,\n",
    "                          use_gpu=False)\n",
    "\n",
    "passaro_msg = local_kilosort(bird_id, super_sess_name)"
   ]
  },
  {
   "cell_type": "code",
   "execution_count": 10,
   "metadata": {
    "collapsed": true
   },
   "outputs": [],
   "source": [
    "usegpu=True"
   ]
  },
  {
   "cell_type": "code",
   "execution_count": 18,
   "metadata": {},
   "outputs": [
    {
     "data": {
      "text/plain": [
       "'day-all2016-09-09_08_100tuvieja'"
      ]
     },
     "execution_count": 18,
     "metadata": {},
     "output_type": "execute_result"
    }
   ],
   "source": [
    "(super_sess_name + 'tuvieja').replace('*', 'all')"
   ]
  },
  {
   "cell_type": "code",
   "execution_count": 17,
   "metadata": {},
   "outputs": [
    {
     "data": {
      "text/plain": [
       "'day-*2016-09-09_08_100'"
      ]
     },
     "execution_count": 17,
     "metadata": {},
     "output_type": "execute_result"
    }
   ],
   "source": [
    "super_sess_name"
   ]
  },
  {
   "cell_type": "code",
   "execution_count": 8,
   "metadata": {
    "scrolled": true
   },
   "outputs": [
    {
     "name": "stderr",
     "output_type": "stream",
     "text": [
      "2017-05-24 16:59:39,501 kwik_functions INFO     Creating kwik file for bird: z007 sess: day-all_2016-09-09_08_100\n",
      "2017-05-24 16:59:39,504 kwik_functions INFO     Found clu file, will attempt to unpack manual sorted data from kilosort\n",
      "2017-05-24 16:59:39,505 kwik_functions DEBUG    {'par': '/mnt/cube/earneodo/bci_zf/ss_data/z007/day-all_2016-09-09_08_100/params.py', 'spk': '/mnt/cube/earneodo/bci_zf/ss_data/z007/day-all_2016-09-09_08_100/spike_times.npy', 'kwd': '/mnt/cube/earneodo/bci_zf/ss_data/z007/day-all_2016-09-09_08_100/experiment.raw.kwd', 'grp': '/mnt/cube/earneodo/bci_zf/ss_data/z007/day-all_2016-09-09_08_100/cluster_groups.csv', 'clu': '/mnt/cube/earneodo/bci_zf/ss_data/z007/day-all_2016-09-09_08_100/spike_clusters.npy', 'temp': None, 'kwk': '/mnt/cube/earneodo/bci_zf/ss_data/z007/day-all_2016-09-09_08_100/experiment.kwik'}\n",
      "2017-05-24 16:59:39,527 kwik_functions INFO     Making spike tables\n",
      "2017-05-24 16:59:39,529 root         DEBUG    H5 file: <HDF5 file \"experiment.raw.kwd\" (mode r)>\n",
      "2017-05-24 16:59:39,531 root         DEBUG    H5 file: <HDF5 file \"experiment.raw.kwd\" (mode r)>\n",
      "2017-05-24 16:59:39,532 root         DEBUG    H5 file: <HDF5 file \"experiment.raw.kwd\" (mode r)>\n",
      "2017-05-24 16:59:39,533 root         DEBUG    H5 file: <HDF5 file \"experiment.raw.kwd\" (mode r)>\n",
      "2017-05-24 16:59:39,535 root         DEBUG    Getting dataset from rec 0\n",
      "2017-05-24 16:59:39,619 kwik_functions INFO     Making rec tables\n",
      "2017-05-24 16:59:39,628 root         DEBUG    H5 file: <HDF5 file \"experiment.raw.kwd\" (mode r)>\n",
      "2017-05-24 16:59:39,630 root         DEBUG    H5 file: <HDF5 file \"experiment.raw.kwd\" (mode r)>\n",
      "2017-05-24 16:59:39,631 root         DEBUG    H5 file: <HDF5 file \"experiment.raw.kwd\" (mode r)>\n",
      "2017-05-24 16:59:39,633 root         DEBUG    H5 file: <HDF5 file \"experiment.raw.kwd\" (mode r)>\n",
      "2017-05-24 16:59:39,634 root         DEBUG    H5 file: <HDF5 file \"experiment.raw.kwd\" (mode r)>\n",
      "2017-05-24 16:59:39,635 root         DEBUG    Getting dataset from rec 0\n",
      "2017-05-24 16:59:39,644 kwik_functions INFO     Making cluster group tables\n"
     ]
    },
    {
     "ename": "TypeError",
     "evalue": "'NoneType' object is not iterable",
     "output_type": "error",
     "traceback": [
      "\u001b[0;31m\u001b[0m",
      "\u001b[0;31mTypeError\u001b[0mTraceback (most recent call last)",
      "\u001b[0;32m<ipython-input-8-26e54415422c>\u001b[0m in \u001b[0;36m<module>\u001b[0;34m()\u001b[0m\n\u001b[0;32m----> 1\u001b[0;31m \u001b[0mkwkf\u001b[0m\u001b[0;34m.\u001b[0m\u001b[0mkilo_to_kwik\u001b[0m\u001b[0;34m(\u001b[0m\u001b[0mbird_id\u001b[0m\u001b[0;34m,\u001b[0m \u001b[0msuper_sess_name\u001b[0m\u001b[0;34m)\u001b[0m\u001b[0;34m\u001b[0m\u001b[0m\n\u001b[0m",
      "\u001b[0;32m/mnt/cube/earneodo/repos/swissknife/swissknife/bci/core/kwik_functions.pyc\u001b[0m in \u001b[0;36mkilo_to_kwik\u001b[0;34m(bird, sess, file_names, location)\u001b[0m\n\u001b[1;32m    401\u001b[0m     \u001b[0mk\u001b[0m\u001b[0;34m.\u001b[0m\u001b[0mmake_rec_groups\u001b[0m\u001b[0;34m(\u001b[0m\u001b[0;34m)\u001b[0m\u001b[0;34m\u001b[0m\u001b[0m\n\u001b[1;32m    402\u001b[0m     \u001b[0mmodule_logger\u001b[0m\u001b[0;34m.\u001b[0m\u001b[0minfo\u001b[0m\u001b[0;34m(\u001b[0m\u001b[0;34m'Making cluster group tables'\u001b[0m\u001b[0;34m)\u001b[0m\u001b[0;34m\u001b[0m\u001b[0m\n\u001b[0;32m--> 403\u001b[0;31m     \u001b[0mk\u001b[0m\u001b[0;34m.\u001b[0m\u001b[0mmake_clu_groups\u001b[0m\u001b[0;34m(\u001b[0m\u001b[0;34m)\u001b[0m\u001b[0;34m\u001b[0m\u001b[0m\n\u001b[0m\u001b[1;32m    404\u001b[0m     \u001b[0mmodule_logger\u001b[0m\u001b[0;34m.\u001b[0m\u001b[0minfo\u001b[0m\u001b[0;34m(\u001b[0m\u001b[0;34m'Done'\u001b[0m\u001b[0;34m)\u001b[0m\u001b[0;34m\u001b[0m\u001b[0m\n",
      "\u001b[0;32m/mnt/cube/earneodo/repos/swissknife/swissknife/bci/core/kwik_functions.pyc\u001b[0m in \u001b[0;36mmake_clu_groups\u001b[0;34m(self, name)\u001b[0m\n\u001b[1;32m    308\u001b[0m             \u001b[0mdesc_group\u001b[0m \u001b[0;34m=\u001b[0m \u001b[0mclusters_group\u001b[0m\u001b[0;34m.\u001b[0m\u001b[0mrequire_group\u001b[0m\u001b[0;34m(\u001b[0m\u001b[0mname\u001b[0m\u001b[0;34m)\u001b[0m\u001b[0;34m\u001b[0m\u001b[0m\n\u001b[1;32m    309\u001b[0m \u001b[0;34m\u001b[0m\u001b[0m\n\u001b[0;32m--> 310\u001b[0;31m             \u001b[0;32mfor\u001b[0m \u001b[0mclu\u001b[0m \u001b[0;32min\u001b[0m \u001b[0mself\u001b[0m\u001b[0;34m.\u001b[0m\u001b[0mgrp\u001b[0m\u001b[0;34m:\u001b[0m\u001b[0;34m\u001b[0m\u001b[0m\n\u001b[0m\u001b[1;32m    311\u001b[0m                 attribs = [{'name': 'cluster_group',\n\u001b[1;32m    312\u001b[0m                             \u001b[0;34m'data'\u001b[0m\u001b[0;34m:\u001b[0m \u001b[0mclu_grp_dict\u001b[0m\u001b[0;34m[\u001b[0m\u001b[0mclu\u001b[0m\u001b[0;34m[\u001b[0m\u001b[0;36m1\u001b[0m\u001b[0;34m]\u001b[0m\u001b[0;34m]\u001b[0m\u001b[0;34m,\u001b[0m\u001b[0;34m\u001b[0m\u001b[0m\n",
      "\u001b[0;31mTypeError\u001b[0m: 'NoneType' object is not iterable"
     ]
    }
   ],
   "source": [
    "kwkf.kilo_to_kwik(bird_id, super_sess_name)"
   ]
  },
  {
   "cell_type": "code",
   "execution_count": 73,
   "metadata": {
    "collapsed": true
   },
   "outputs": [],
   "source": [
    "from bci import stimalign as sa"
   ]
  },
  {
   "cell_type": "code",
   "execution_count": 74,
   "metadata": {
    "collapsed": true
   },
   "outputs": [],
   "source": [
    "from bci.core.file import h5_functions as h5f"
   ]
  },
  {
   "cell_type": "code",
   "execution_count": 86,
   "metadata": {},
   "outputs": [
    {
     "data": {
      "text/plain": [
       "'/mnt/cube/earneodo/bci_zf/ss_data/b1114/day-singing_2017-02-23_50/experiment.raw.kwd'"
      ]
     },
     "execution_count": 86,
     "metadata": {},
     "output_type": "execute_result"
    }
   ],
   "source": [
    "# make the supersession file\n",
    "super_sess_name = 'day-' + sess_day + '_' + depth\n",
    "fn = et.file_names(bird_id, super_sess_name, 0)\n",
    "super_sess_path = fn['folders']['ss']\n",
    "super_file_path = os.path.join(super_sess_path, fn['structure']['ss_raw'])\n",
    "super_file_path"
   ]
  },
  {
   "cell_type": "code",
   "execution_count": 76,
   "metadata": {},
   "outputs": [
    {
     "name": "stderr",
     "output_type": "stream",
     "text": [
      "2017-02-23 09:53:41,735 supersession INFO     searching *_100.raw.kwd\n"
     ]
    }
   ],
   "source": [
    "reload(ss)\n",
    "\n",
    "exp_list = ss.list_experiment_files(bird_id, sess_day, depth, raw_location=raw_location)"
   ]
  },
  {
   "cell_type": "code",
   "execution_count": 16,
   "metadata": {},
   "outputs": [
    {
     "data": {
      "text/plain": [
       "<module 'basic_viewing.structure.kwik_functions' from 'basic_viewing/structure/kwik_functions.pyc'>"
      ]
     },
     "execution_count": 16,
     "metadata": {},
     "output_type": "execute_result"
    }
   ],
   "source": [
    "reload(kwf)"
   ]
  },
  {
   "cell_type": "code",
   "execution_count": 77,
   "metadata": {},
   "outputs": [
    {
     "name": "stderr",
     "output_type": "stream",
     "text": [
      "2017-02-23 09:53:42,149 supersession INFO     searching *_100.raw.kwd\n",
      "2017-02-23 09:53:42,167 supersession INFO     Making supersession day-morning_2017-02-23_50\n",
      "2017-02-23 09:53:42,170 supersession INFO     super file path: /mnt/cube/earneodo/bci_zf/ss_data/b1114/day-morning_2017-02-23_50/experiment.raw.kwd\n",
      "2017-02-23 09:53:42,172 supersession INFO     Found 1 experiment files\n",
      "2017-02-23 09:53:42,174 bci.core.expstruct DEBUG    Creating directory /mnt/cube/earneodo/bci_zf/ss_data/b1114/day-morning_2017-02-23_50\n",
      "2017-02-23 09:53:42,183 supersession INFO     Inserting file /usr/local/experiment/raw_data/b1114/morning_2017-02-23_09-11-14_50/experiment1_100.raw.kwd\n",
      "2017-02-23 09:53:42,199 root         DEBUG    H5 file: <HDF5 file \"experiment.raw.kwd\" (mode r+)>\n"
     ]
    }
   ],
   "source": [
    "reload(ss)\n",
    "\n",
    "sess_list = ss.make_super_session(bird_id, sess_day, depth, raw_location=raw_location)"
   ]
  },
  {
   "cell_type": "code",
   "execution_count": 78,
   "metadata": {},
   "outputs": [
    {
     "data": {
      "text/plain": [
       "{'archive': '/mnt/cube/earneodo/archive/bci_zf',\n",
       " 'experiment': '/mnt/cube/earneodo/bci_zf',\n",
       " 'experiment_local': '/usr/local/experiment',\n",
       " 'repos': '/mnt/cube/earneodo/repos',\n",
       " 'scratch': '/usr/local/experiment/scratchpad',\n",
       " 'store': '/Data/bci_zf'}"
      ]
     },
     "execution_count": 78,
     "metadata": {},
     "output_type": "execute_result"
    }
   ],
   "source": [
    "reload(et)\n",
    "et.get_locations()"
   ]
  },
  {
   "cell_type": "code",
   "execution_count": 79,
   "metadata": {},
   "outputs": [
    {
     "name": "stderr",
     "output_type": "stream",
     "text": [
      "2017-02-23 09:54:58,101 supersession INFO     Copying data to experiment folder /mnt/cube/earneodo/bci_zf/raw_data/b1114\n",
      "2017-02-23 09:54:58,103 supersession INFO     Backup of 1 sessions in /mnt/cube/earneodo/bci_zf/raw_data/b1114\n",
      "2017-02-23 09:54:58,104 bci.core.expstruct DEBUG    Creating directory /mnt/cube/earneodo/bci_zf/raw_data/b1114\n",
      "2017-02-23 09:54:58,107 bci.core.expstruct DEBUG    Directory existed, doing nothing\n",
      "2017-02-23 09:54:58,109 supersession DEBUG    Sess morning_2017-02-23_09-11-14_50\n",
      "2017-02-23 09:55:47,174 supersession INFO     Data is not in local drive but in /usr/local/experiment/raw_data/b1114, doing nothing\n"
     ]
    }
   ],
   "source": [
    "reload(ss)\n",
    "ss.make_raw_bkp(bird_id, sess_list)"
   ]
  },
  {
   "cell_type": "code",
   "execution_count": 80,
   "metadata": {},
   "outputs": [
    {
     "name": "stderr",
     "output_type": "stream",
     "text": [
      "2017-02-23 10:02:44,867 supersession INFO     Extract mic chan to wav for recs [u'0']\n",
      "2017-02-23 10:02:44,870 supersession INFO     Rec 0: /mnt/cube/earneodo/bci_zf/ss_data/b1114/day-morning_2017-02-23_50/experiment-rec_000.mic.wav\n",
      "2017-02-23 10:03:38,321 supersession INFO     Done extracting channels\n"
     ]
    }
   ],
   "source": [
    "reload(ss)\n",
    "\n",
    "ss.extract_wav_chans(bird_id, super_sess_name)"
   ]
  },
  {
   "cell_type": "code",
   "execution_count": 30,
   "metadata": {},
   "outputs": [
    {
     "name": "stderr",
     "output_type": "stream",
     "text": [
      "2017-02-22 18:11:39,662 root         DEBUG    H5 file: <HDF5 file \"experiment.raw.kwd\" (mode r)>\n",
      "2017-02-22 18:11:39,664 root         DEBUG    H5 file: <HDF5 file \"experiment.raw.kwd\" (mode r)>\n",
      "2017-02-22 18:11:39,665 root         DEBUG    Getting group of rec 0\n",
      "2017-02-22 18:11:39,667 stimalign    DEBUG    Rec origin: {'rec': 0, 'sess': 'evening_2017-02-22_18-01-30_50', 'bird': 'b1114', 'structure': 'experiment1_100'}\n",
      "2017-02-22 18:11:39,717 stimalign    INFO     Done\n"
     ]
    }
   ],
   "source": [
    "sa.align_stim(bird_id, super_sess_name)"
   ]
  },
  {
   "cell_type": "code",
   "execution_count": 6,
   "metadata": {
    "collapsed": true
   },
   "outputs": [],
   "source": [
    "bkp_dest_path = os.path.join(cube_experiment_folder, 'raw_data', bird_id)\n",
    "store_dest_path = os.path.join(store_experiment_folder, 'raw_data', bird_id)"
   ]
  },
  {
   "cell_type": "code",
   "execution_count": 12,
   "metadata": {},
   "outputs": [
    {
     "data": {
      "text/plain": [
       "True"
      ]
     },
     "execution_count": 12,
     "metadata": {},
     "output_type": "execute_result"
    }
   ],
   "source": [
    "os.path.split(sessions[0])[0]==bkp_dest_path"
   ]
  },
  {
   "cell_type": "code",
   "execution_count": 36,
   "metadata": {},
   "outputs": [
    {
     "data": {
      "text/plain": [
       "{'folders': {'kai': '/mnt/cube/kai/results/z030/day-anesth_surface_2016-12-16_0',\n",
       "  'prb': '/mnt/cube/earneodo/bci_zf/probes',\n",
       "  'raw': '/usr/local/experiment/raw_data/z030/day-anesth_surface_2016-12-16_0',\n",
       "  'rw': '/mnt/cube/earneodo/bci_zf/raw_data/z030/day-anesth_surface_2016-12-16_0',\n",
       "  'ss': '/mnt/cube/earneodo/bci_zf/ss_data/z030/day-anesth_surface_2016-12-16_0',\n",
       "  'stim': '/mnt/cube/earneodo/bci_zf/stim_data/z030/day-anesth_surface_2016-12-16_0',\n",
       "  'templ': '/mnt/cube/earneodo/bci_zf/templates',\n",
       "  'tmp': '/usr/local/experiment/tmp_data/z030/day-anesth_surface_2016-12-16_0'},\n",
       " 'locations': {'archive': '/mnt/cube/earneodo/archive/bci_zf',\n",
       "  'experiment': '/mnt/cube/earneodo/bci_zf',\n",
       "  'experiment_local': '/usr/local/experiment',\n",
       "  'local_store': '/Data/bci_zf',\n",
       "  'repos': '/mnt/cube/earneodo/repos'},\n",
       " 'structure': {'cand': 'experiment.mot.h5',\n",
       "  'evt': 'experiment.kwe',\n",
       "  'kk_par': 'params.prm',\n",
       "  'kk_prb': '*.prb',\n",
       "  'ks_cfg': 'config.m',\n",
       "  'ks_map': 'chanMap.mat',\n",
       "  'ks_mas': 'master.m',\n",
       "  'ks_par': 'params.py',\n",
       "  'mic': 'experiment-rec_000.mic.wav',\n",
       "  'par': 'experiment.par.yml',\n",
       "  'sng': 'experiment.sng.kwe',\n",
       "  'ss_bin': 'experiment.dat',\n",
       "  'ss_par': 'experiment.par.yml',\n",
       "  'ss_raw': 'experiment.raw.kwd',\n",
       "  'stm': 'experiment.stm.kwe',\n",
       "  'structure': 'experiment',\n",
       "  'sts': 'experiment-rec_000.sts.wav'}}"
      ]
     },
     "execution_count": 36,
     "metadata": {},
     "output_type": "execute_result"
    }
   ],
   "source": [
    "fn"
   ]
  },
  {
   "cell_type": "code",
   "execution_count": 56,
   "metadata": {
    "collapsed": true
   },
   "outputs": [],
   "source": [
    "evt_fn = et.file_names(bird_id, os.path.split(sessions[0])[-1], base='experiment1')\n",
    "rec_ev_file_path = et.file_path(evt_fn, 'rw', 'evt')\n",
    "with h5py.File(rec_ev_file_path, 'r') as rec_ev_file:\n",
    "    s_l = sa.get_stims_list(rec_ev_file)"
   ]
  },
  {
   "cell_type": "code",
   "execution_count": 57,
   "metadata": {},
   "outputs": [
    {
     "data": {
      "text/plain": [
       "array(['bos_rev_tag', 'bos_syn_tag', 'bos_tag'], dtype=object)"
      ]
     },
     "execution_count": 57,
     "metadata": {},
     "output_type": "execute_result"
    }
   ],
   "source": [
    "s_l"
   ]
  },
  {
   "cell_type": "code",
   "execution_count": 51,
   "metadata": {},
   "outputs": [
    {
     "data": {
      "text/plain": [
       "{'folders': {'kai': '/mnt/cube/kai/results/z030/anesth_surface_2016-12-16_12-27-11_0',\n",
       "  'prb': '/mnt/cube/earneodo/bci_zf/probes',\n",
       "  'raw': '/usr/local/experiment/raw_data/z030/anesth_surface_2016-12-16_12-27-11_0',\n",
       "  'rw': '/mnt/cube/earneodo/bci_zf/raw_data/z030/anesth_surface_2016-12-16_12-27-11_0',\n",
       "  'ss': '/mnt/cube/earneodo/bci_zf/ss_data/z030/anesth_surface_2016-12-16_12-27-11_0',\n",
       "  'stim': '/mnt/cube/earneodo/bci_zf/stim_data/z030/anesth_surface_2016-12-16_12-27-11_0',\n",
       "  'templ': '/mnt/cube/earneodo/bci_zf/templates',\n",
       "  'tmp': '/usr/local/experiment/tmp_data/z030/anesth_surface_2016-12-16_12-27-11_0'},\n",
       " 'locations': {'archive': '/mnt/cube/earneodo/archive/bci_zf',\n",
       "  'experiment': '/mnt/cube/earneodo/bci_zf',\n",
       "  'experiment_local': '/usr/local/experiment',\n",
       "  'repos': '/mnt/cube/earneodo/repos',\n",
       "  'store': '/Data/bci_zf'},\n",
       " 'structure': {'cand': 'experiment1.mot.h5',\n",
       "  'evt': 'experiment1.kwe',\n",
       "  'kk_par': 'params.prm',\n",
       "  'kk_prb': '*.prb',\n",
       "  'ks_cfg': 'config.m',\n",
       "  'ks_map': 'chanMap.mat',\n",
       "  'ks_mas': 'master.m',\n",
       "  'ks_par': 'params.py',\n",
       "  'mic': 'experiment1-rec_000.mic.wav',\n",
       "  'par': 'experiment1.par.yml',\n",
       "  'sng': 'experiment1.sng.kwe',\n",
       "  'ss_bin': 'experiment1.dat',\n",
       "  'ss_par': 'experiment1.par.yml',\n",
       "  'ss_raw': 'experiment1.raw.kwd',\n",
       "  'stm': 'experiment1.stm.kwe',\n",
       "  'structure': 'experiment1',\n",
       "  'sts': 'experiment1-rec_000.sts.wav'}}"
      ]
     },
     "execution_count": 51,
     "metadata": {},
     "output_type": "execute_result"
    }
   ],
   "source": [
    "et.file_names(bird_id, os.path.split(sessions[0])[-1], base='experiment1')"
   ]
  },
  {
   "cell_type": "code",
   "execution_count": 53,
   "metadata": {},
   "outputs": [
    {
     "ename": "IOError",
     "evalue": "Unable to open file (Unable to open file: name = '/mnt/cube/earneodo/bci_zf/raw_data/z030/day-anesth_surface_2016-12-16_0/experiment.kwe', errno = 2, error message = 'no such file or directory', flags = 0, o_flags = 0)",
     "output_type": "error",
     "traceback": [
      "\u001b[0;31m\u001b[0m",
      "\u001b[0;31mIOError\u001b[0mTraceback (most recent call last)",
      "\u001b[0;32m<ipython-input-53-ddd1db5d44f7>\u001b[0m in \u001b[0;36m<module>\u001b[0;34m()\u001b[0m\n\u001b[0;32m----> 1\u001b[0;31m \u001b[0;32mwith\u001b[0m \u001b[0mh5py\u001b[0m\u001b[0;34m.\u001b[0m\u001b[0mFile\u001b[0m\u001b[0;34m(\u001b[0m\u001b[0mrec_ev_file_path\u001b[0m\u001b[0;34m,\u001b[0m \u001b[0;34m'r'\u001b[0m\u001b[0;34m)\u001b[0m \u001b[0;32mas\u001b[0m \u001b[0mrec_ev_file\u001b[0m\u001b[0;34m:\u001b[0m\u001b[0;34m\u001b[0m\u001b[0m\n\u001b[0m\u001b[1;32m      2\u001b[0m     \u001b[0msa\u001b[0m\u001b[0;34m.\u001b[0m\u001b[0mget_messages\u001b[0m\u001b[0;34m(\u001b[0m\u001b[0mrec_ev_file\u001b[0m\u001b[0;34m)\u001b[0m\u001b[0;34m\u001b[0m\u001b[0m\n",
      "\u001b[0;32m/usr/local/anaconda/lib/python2.7/site-packages/h5py-2.6.0-py2.7-linux-x86_64.egg/h5py/_hl/files.pyc\u001b[0m in \u001b[0;36m__init__\u001b[0;34m(self, name, mode, driver, libver, userblock_size, swmr, **kwds)\u001b[0m\n\u001b[1;32m    269\u001b[0m \u001b[0;34m\u001b[0m\u001b[0m\n\u001b[1;32m    270\u001b[0m                 \u001b[0mfapl\u001b[0m \u001b[0;34m=\u001b[0m \u001b[0mmake_fapl\u001b[0m\u001b[0;34m(\u001b[0m\u001b[0mdriver\u001b[0m\u001b[0;34m,\u001b[0m \u001b[0mlibver\u001b[0m\u001b[0;34m,\u001b[0m \u001b[0;34m**\u001b[0m\u001b[0mkwds\u001b[0m\u001b[0;34m)\u001b[0m\u001b[0;34m\u001b[0m\u001b[0m\n\u001b[0;32m--> 271\u001b[0;31m                 \u001b[0mfid\u001b[0m \u001b[0;34m=\u001b[0m \u001b[0mmake_fid\u001b[0m\u001b[0;34m(\u001b[0m\u001b[0mname\u001b[0m\u001b[0;34m,\u001b[0m \u001b[0mmode\u001b[0m\u001b[0;34m,\u001b[0m \u001b[0muserblock_size\u001b[0m\u001b[0;34m,\u001b[0m \u001b[0mfapl\u001b[0m\u001b[0;34m,\u001b[0m \u001b[0mswmr\u001b[0m\u001b[0;34m=\u001b[0m\u001b[0mswmr\u001b[0m\u001b[0;34m)\u001b[0m\u001b[0;34m\u001b[0m\u001b[0m\n\u001b[0m\u001b[1;32m    272\u001b[0m \u001b[0;34m\u001b[0m\u001b[0m\n\u001b[1;32m    273\u001b[0m                 \u001b[0;32mif\u001b[0m \u001b[0mswmr_support\u001b[0m\u001b[0;34m:\u001b[0m\u001b[0;34m\u001b[0m\u001b[0m\n",
      "\u001b[0;32m/usr/local/anaconda/lib/python2.7/site-packages/h5py-2.6.0-py2.7-linux-x86_64.egg/h5py/_hl/files.pyc\u001b[0m in \u001b[0;36mmake_fid\u001b[0;34m(name, mode, userblock_size, fapl, fcpl, swmr)\u001b[0m\n\u001b[1;32m     99\u001b[0m         \u001b[0;32mif\u001b[0m \u001b[0mswmr\u001b[0m \u001b[0;32mand\u001b[0m \u001b[0mswmr_support\u001b[0m\u001b[0;34m:\u001b[0m\u001b[0;34m\u001b[0m\u001b[0m\n\u001b[1;32m    100\u001b[0m             \u001b[0mflags\u001b[0m \u001b[0;34m|=\u001b[0m \u001b[0mh5f\u001b[0m\u001b[0;34m.\u001b[0m\u001b[0mACC_SWMR_READ\u001b[0m\u001b[0;34m\u001b[0m\u001b[0m\n\u001b[0;32m--> 101\u001b[0;31m         \u001b[0mfid\u001b[0m \u001b[0;34m=\u001b[0m \u001b[0mh5f\u001b[0m\u001b[0;34m.\u001b[0m\u001b[0mopen\u001b[0m\u001b[0;34m(\u001b[0m\u001b[0mname\u001b[0m\u001b[0;34m,\u001b[0m \u001b[0mflags\u001b[0m\u001b[0;34m,\u001b[0m \u001b[0mfapl\u001b[0m\u001b[0;34m=\u001b[0m\u001b[0mfapl\u001b[0m\u001b[0;34m)\u001b[0m\u001b[0;34m\u001b[0m\u001b[0m\n\u001b[0m\u001b[1;32m    102\u001b[0m     \u001b[0;32melif\u001b[0m \u001b[0mmode\u001b[0m \u001b[0;34m==\u001b[0m \u001b[0;34m'r+'\u001b[0m\u001b[0;34m:\u001b[0m\u001b[0;34m\u001b[0m\u001b[0m\n\u001b[1;32m    103\u001b[0m         \u001b[0mfid\u001b[0m \u001b[0;34m=\u001b[0m \u001b[0mh5f\u001b[0m\u001b[0;34m.\u001b[0m\u001b[0mopen\u001b[0m\u001b[0;34m(\u001b[0m\u001b[0mname\u001b[0m\u001b[0;34m,\u001b[0m \u001b[0mh5f\u001b[0m\u001b[0;34m.\u001b[0m\u001b[0mACC_RDWR\u001b[0m\u001b[0;34m,\u001b[0m \u001b[0mfapl\u001b[0m\u001b[0;34m=\u001b[0m\u001b[0mfapl\u001b[0m\u001b[0;34m)\u001b[0m\u001b[0;34m\u001b[0m\u001b[0m\n",
      "\u001b[0;32mh5py/_objects.pyx\u001b[0m in \u001b[0;36mh5py._objects.with_phil.wrapper (/usr/local/src/h5py/h5py/_objects.c:2845)\u001b[0;34m()\u001b[0m\n",
      "\u001b[0;32mh5py/_objects.pyx\u001b[0m in \u001b[0;36mh5py._objects.with_phil.wrapper (/usr/local/src/h5py/h5py/_objects.c:2803)\u001b[0;34m()\u001b[0m\n",
      "\u001b[0;32mh5py/h5f.pyx\u001b[0m in \u001b[0;36mh5py.h5f.open (/usr/local/src/h5py/h5py/h5f.c:2116)\u001b[0;34m()\u001b[0m\n",
      "\u001b[0;31mIOError\u001b[0m: Unable to open file (Unable to open file: name = '/mnt/cube/earneodo/bci_zf/raw_data/z030/day-anesth_surface_2016-12-16_0/experiment.kwe', errno = 2, error message = 'no such file or directory', flags = 0, o_flags = 0)"
     ]
    }
   ],
   "source": [
    "with h5py.File(rec_ev_file_path, 'r') as rec_ev_file:\n",
    "    sa.get_messages(rec_ev_file)"
   ]
  },
  {
   "cell_type": "code",
   "execution_count": null,
   "metadata": {
    "collapsed": true
   },
   "outputs": [],
   "source": []
  }
 ],
 "metadata": {
  "anaconda-cloud": {},
  "kernelspec": {
   "display_name": "Python [default]",
   "language": "python",
   "name": "python2"
  },
  "language_info": {
   "codemirror_mode": {
    "name": "ipython",
    "version": 2
   },
   "file_extension": ".py",
   "mimetype": "text/x-python",
   "name": "python",
   "nbconvert_exporter": "python",
   "pygments_lexer": "ipython2",
   "version": "2.7.13"
  }
 },
 "nbformat": 4,
 "nbformat_minor": 1
}
