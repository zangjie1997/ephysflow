{
 "cells": [
  {
   "cell_type": "code",
   "execution_count": 3,
   "metadata": {},
   "outputs": [
    {
     "name": "stderr",
     "output_type": "stream",
     "text": [
      "INFO:root:Computer: lookfar\n",
      "2017-04-18 13:01:25,156 root         INFO     Computer: lookfar\n",
      "INFO:root:All modules loaded\n",
      "2017-04-18 13:01:25,163 root         INFO     All modules loaded\n"
     ]
    }
   ],
   "source": [
    "# notebook to view in real time some features of recorded streams\n",
    "%matplotlib inline\n",
    "from __future__ import division\n",
    "import pdb\n",
    "import sys\n",
    "import pandas as pd\n",
    "import numpy as np\n",
    "import scipy.io as sio\n",
    "import matplotlib.pyplot as plt\n",
    "import matplotlib\n",
    "import scipy.signal as sg\n",
    "import math\n",
    "import scipy as sp\n",
    "import socket\n",
    "import os\n",
    "import wave\n",
    "import struct\n",
    "import h5py\n",
    "from scipy.signal import hilbert\n",
    "import glob\n",
    "import errno    \n",
    "import os\n",
    "import shutil as sh\n",
    "import yaml\n",
    "import logging\n",
    "\n",
    "logger = logging.getLogger()\n",
    "handler = logging.StreamHandler()\n",
    "formatter = logging.Formatter(\n",
    "        '%(asctime)s %(name)-12s %(levelname)-8s %(message)s')\n",
    "handler.setFormatter(formatter)\n",
    "logger.addHandler(handler)\n",
    "logger.setLevel(logging.INFO)\n",
    "\n",
    "# Check wihic computer to decide where the things are mounted\n",
    "comp_name=socket.gethostname()\n",
    "logger.info('Computer: ' + comp_name)\n",
    "if  'lookfar' in comp_name:\n",
    "    repos_folder = os.path.abspath('/Users/zeke/reposs')\n",
    "    experiment_folder = os.path.join(os.path.abspath('/Volumes'), \n",
    "                                     'gentner', \n",
    "                                     'earneodo', \n",
    "                                     'bci_zf')\n",
    "elif 'passaro' in comp_name:\n",
    "    repos_folder = os.path.abspath('/mnt/cube/earneodo/repos')\n",
    "    cube_experiment_folder = os.path.join('/mnt/cube/earneodo/bci_zf/')\n",
    "    store_experiment_folder = os.path.join('/Data/bci_zf/')\n",
    "    experiment_folder = os.path.join('/usr/local/experiment')\n",
    "\n",
    "sys.path.append(os.path.join(repos_folder, 'soundflow', 'sound_tools'))\n",
    "sys.path.append(os.path.join(repos_folder, 'ephysflow'))\n",
    "\n",
    "#import soundtools as st\n",
    "from scipy.io import wavfile\n",
    "from swissknife.bci.core import expstruct as et\n",
    "from swissknife.bci import supersession as ss\n",
    "from swissknife.bci import stimalign as sa\n",
    "\n",
    "logger.info('All modules loaded')"
   ]
  },
  {
   "cell_type": "code",
   "execution_count": 4,
   "metadata": {},
   "outputs": [],
   "source": [
    "bird_id = 'z030'\n",
    "sess_day = 'explore'\n",
    "depth = '0'\n",
    "raw_location = 'raw'\n",
    "ss_location = 'tmp'\n",
    "# Make the super session and gather the list of sessions\n",
    "# get the sessions list of files"
   ]
  },
  {
   "cell_type": "code",
   "execution_count": 5,
   "metadata": {},
   "outputs": [
    {
     "name": "stderr",
     "output_type": "stream",
     "text": [
      "INFO:supersession:Super session path /Users/zeke/bci_zf/tmp_data/z030/day-explore_0/experiment.raw.kwd\n",
      "2017-04-18 13:01:29,260 supersession INFO     Super session path /Users/zeke/bci_zf/tmp_data/z030/day-explore_0/experiment.raw.kwd\n",
      "INFO:supersession:searching *_100.raw.kwd\n",
      "2017-04-18 13:01:29,273 supersession INFO     searching *_100.raw.kwd\n",
      "INFO:supersession:Making supersession day-explore_0\n",
      "2017-04-18 13:01:29,285 supersession INFO     Making supersession day-explore_0\n",
      "INFO:supersession:super file path: /Users/zeke/bci_zf/tmp_data/z030/day-explore_0/experiment.raw.kwd\n",
      "2017-04-18 13:01:29,286 supersession INFO     super file path: /Users/zeke/bci_zf/tmp_data/z030/day-explore_0/experiment.raw.kwd\n",
      "INFO:supersession:Found 1 experiment files\n",
      "2017-04-18 13:01:29,287 supersession INFO     Found 1 experiment files\n",
      "INFO:supersession:Inserting file /Users/zeke/bci_zf/raw_data/z030/explore_2016-12-16_16-23-43_0/experiment1_100.raw.kwd\n",
      "2017-04-18 13:01:29,441 supersession INFO     Inserting file /Users/zeke/bci_zf/raw_data/z030/explore_2016-12-16_16-23-43_0/experiment1_100.raw.kwd\n",
      "INFO:stimalign:Getting starts of stim bos_rev_tag\n",
      "2017-04-18 13:01:49,646 stimalign    INFO     Getting starts of stim bos_rev_tag\n",
      "INFO:stimalign:Found 75 starts\n",
      "2017-04-18 13:01:50,835 stimalign    INFO     Found 75 starts\n",
      "INFO:stimalign:Stored in /Users/zeke/bci_zf/tmp_data/z030/day-explore_0/experiment.sng.kwe\n",
      "2017-04-18 13:01:50,837 stimalign    INFO     Stored in /Users/zeke/bci_zf/tmp_data/z030/day-explore_0/experiment.sng.kwe\n",
      "INFO:stimalign:Getting starts of stim bos_tag\n",
      "2017-04-18 13:01:50,838 stimalign    INFO     Getting starts of stim bos_tag\n",
      "INFO:stimalign:Found 75 starts\n",
      "2017-04-18 13:01:54,912 stimalign    INFO     Found 75 starts\n",
      "INFO:stimalign:Stored in /Users/zeke/bci_zf/tmp_data/z030/day-explore_0/experiment.sng.kwe\n",
      "2017-04-18 13:01:54,914 stimalign    INFO     Stored in /Users/zeke/bci_zf/tmp_data/z030/day-explore_0/experiment.sng.kwe\n",
      "INFO:stimalign:Done\n",
      "2017-04-18 13:01:54,916 stimalign    INFO     Done\n"
     ]
    }
   ],
   "source": [
    "# process it\n",
    "s_l = ss.process_recording_realtime(bird_id, sess_day, depth, raw_location='raw', ss_location='tmp')\n",
    "super_sess_name = 'day-' + sess_day + '_' + depth\n",
    "sa.align_stim(bird_id, super_sess_name, raw_location='raw', ss_location='tmp')"
   ]
  },
  {
   "cell_type": "code",
   "execution_count": 4,
   "metadata": {},
   "outputs": [
    {
     "name": "stderr",
     "output_type": "stream",
     "text": [
      "DEBUG:root:H5 file: <HDF5 file \"experiment.raw.kwd\" (mode r)>\n",
      "2017-04-18 11:34:23,080 root         DEBUG    H5 file: <HDF5 file \"experiment.raw.kwd\" (mode r)>\n",
      "DEBUG:root:H5 file: <HDF5 file \"experiment.raw.kwd\" (mode r)>\n",
      "2017-04-18 11:34:23,081 root         DEBUG    H5 file: <HDF5 file \"experiment.raw.kwd\" (mode r)>\n",
      "DEBUG:root:Getting group of rec 0\n",
      "2017-04-18 11:34:23,082 root         DEBUG    Getting group of rec 0\n",
      "DEBUG:stimalign:Rec origin: {'rec': 0, 'sess': 'explore_2016-12-16_16-23-43_0', 'bird': 'z030', 'structure': 'experiment1_100'}\n",
      "2017-04-18 11:34:23,083 stimalign    DEBUG    Rec origin: {'rec': 0, 'sess': 'explore_2016-12-16_16-23-43_0', 'bird': 'z030', 'structure': 'experiment1_100'}\n",
      "INFO:stimalign:Getting starts of stim bos_rev_tag\n",
      "2017-04-18 11:34:23,106 stimalign    INFO     Getting starts of stim bos_rev_tag\n",
      "DEBUG:root:H5 file: <HDF5 file \"experiment1_100.raw.kwd\" (mode r)>\n",
      "2017-04-18 11:34:23,107 root         DEBUG    H5 file: <HDF5 file \"experiment1_100.raw.kwd\" (mode r)>\n",
      "DEBUG:root:Getting dataset from rec 0\n",
      "2017-04-18 11:34:23,108 root         DEBUG    Getting dataset from rec 0\n",
      "INFO:stimalign:Found 75 starts\n",
      "2017-04-18 11:34:24,255 stimalign    INFO     Found 75 starts\n",
      "INFO:stimalign:Stored in /Users/zeke/bci_zf/tmp_data/z030/day-explore_0/experiment.sng.kwe\n",
      "2017-04-18 11:34:24,258 stimalign    INFO     Stored in /Users/zeke/bci_zf/tmp_data/z030/day-explore_0/experiment.sng.kwe\n",
      "INFO:stimalign:Getting starts of stim bos_tag\n",
      "2017-04-18 11:34:24,259 stimalign    INFO     Getting starts of stim bos_tag\n",
      "DEBUG:root:H5 file: <HDF5 file \"experiment1_100.raw.kwd\" (mode r)>\n",
      "2017-04-18 11:34:24,260 root         DEBUG    H5 file: <HDF5 file \"experiment1_100.raw.kwd\" (mode r)>\n",
      "DEBUG:root:Getting dataset from rec 0\n",
      "2017-04-18 11:34:24,261 root         DEBUG    Getting dataset from rec 0\n",
      "INFO:stimalign:Found 75 starts\n",
      "2017-04-18 11:34:28,567 stimalign    INFO     Found 75 starts\n",
      "INFO:stimalign:Stored in /Users/zeke/bci_zf/tmp_data/z030/day-explore_0/experiment.sng.kwe\n",
      "2017-04-18 11:34:28,571 stimalign    INFO     Stored in /Users/zeke/bci_zf/tmp_data/z030/day-explore_0/experiment.sng.kwe\n",
      "INFO:stimalign:Done\n",
      "2017-04-18 11:34:28,572 stimalign    INFO     Done\n"
     ]
    }
   ],
   "source": [
    "# view it/them\n"
   ]
  },
  {
   "cell_type": "code",
   "execution_count": null,
   "metadata": {
    "collapsed": true
   },
   "outputs": [],
   "source": []
  }
 ],
 "metadata": {
  "anaconda-cloud": {},
  "kernelspec": {
   "display_name": "Python [default]",
   "language": "python",
   "name": "python2"
  },
  "language_info": {
   "codemirror_mode": {
    "name": "ipython",
    "version": 2
   },
   "file_extension": ".py",
   "mimetype": "text/x-python",
   "name": "python",
   "nbconvert_exporter": "python",
   "pygments_lexer": "ipython2",
   "version": "2.7.13"
  }
 },
 "nbformat": 4,
 "nbformat_minor": 1
}
