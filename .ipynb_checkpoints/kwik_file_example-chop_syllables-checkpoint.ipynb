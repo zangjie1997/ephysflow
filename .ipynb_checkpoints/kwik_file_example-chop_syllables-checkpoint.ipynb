{
 "cells": [
  {
   "cell_type": "code",
   "execution_count": 1,
   "metadata": {},
   "outputs": [
    {
     "name": "stdout",
     "output_type": "stream",
     "text": [
      "Computer: lintu.ucsd.edu\n"
     ]
    },
    {
     "name": "stderr",
     "output_type": "stream",
     "text": [
      "/usr/local/anaconda/lib/python2.7/site-packages/pytz/__init__.py:29: UserWarning: Module argparse was already imported from /usr/local/anaconda/lib/python2.7/argparse.pyc, but /usr/local/anaconda/lib/python2.7/site-packages is being added to sys.path\n",
      "  from pkg_resources import resource_stream\n"
     ]
    }
   ],
   "source": [
    "# Example on how to dig into a .kwik file\n",
    "%matplotlib inline\n",
    "import pdb\n",
    "import sys\n",
    "import pandas as pd\n",
    "import numpy as np\n",
    "import scipy.io as sio\n",
    "import matplotlib.pyplot as plt\n",
    "import matplotlib\n",
    "import scipy.signal as sg\n",
    "import math\n",
    "import scipy as sp\n",
    "import socket\n",
    "import os\n",
    "import wave\n",
    "import struct\n",
    "import h5py\n",
    "\n",
    "matplotlib.style.use('ggplot')\n",
    "\n",
    "\n",
    "# Check wihic computer to decide where the things are mounted\n",
    "comp_name=socket.gethostname()\n",
    "print 'Computer: ' + comp_name\n",
    "if  comp_name == 'chim':\n",
    "    #sys.path.append('/Users/zeke/experiment/ephysDataManagement/ephysScripts')\n",
    "    experiment_folder = os.path.join(os.path.abspath('W:') , \"earneodo\", \"bci_zf\")\n",
    "elif  'lookfar' in comp_name:\n",
    "    sys.path.append('/Users/zeke/repos/ephysflow')\n",
    "    sys.path.append('/Users/zeke/repos/soundflow/sound_tools')\n",
    "    experiment_folder = os.path.join(os.path.abspath('/Volumes') , 'gentner', 'earneodo', 'bci_zf')\n",
    "\n",
    "if 'lintu' in comp_name:\n",
    "    sys.path.append('/mnt/cube/earneodo/repos/soundflow/sound_tools')\n",
    "    sys.path.append('/mnt/cube/earneodo/repos/ephysflow')\n",
    "    experiment_folder = os.path.join('/mnt/cube/earneodo/bci_zf/')\n",
    "\n",
    "raw_data_folder = os.path.join(experiment_folder, 'raw_data')\n",
    "ss_data_folder = os.path.join(experiment_folder, 'ss_data')\n",
    "\n",
    "#file structure\n",
    "bird_id = 'z003'\n",
    "sess = 1\n",
    "rec = 'a'\n",
    "run = 1\n",
    "sess_name = 'Pen03_Lft_AP500_ML500__Site01_Z2000__z003_cat_P03_S01_1_02'\n",
    "\n",
    "raw_file_folder = os.path.join(raw_data_folder, bird_id, str(sess).zfill(3))\n",
    "raw_file_name = rec + '_' + str(run).zfill(2) + '_song.wav'\n",
    "raw_file_path = os.path.join(raw_file_folder, raw_file_name)\n",
    "ss_file_folder = raw_file_folder = os.path.join(ss_data_folder, bird_id, 'post_man_sort', sess_name)\n",
    "kwik_files = [f for f in os.listdir(ss_file_folder) if f.endswith('.kwik')]\n",
    "kwik_file = kwik_files[0]\n",
    "\n",
    "# open the file in read mode\n",
    "kwik_file = h5py.File(os.path.join(ss_file_folder, kwik_file), 'r')   "
   ]
  },
  {
   "cell_type": "code",
   "execution_count": 2,
   "metadata": {},
   "outputs": [
    {
     "name": "stdout",
     "output_type": "stream",
     "text": [
      "stimulus names\n",
      "['sound_001_40000' 'sound_002_40000' 'sound_003_40000' 'sound_004_40000'\n",
      " 'sound_005_40000' 'sound_006_40000']\n",
      "\n",
      "[14 16 22  4 44 63 64 66 69 71 73 75 76 77 78 79]\n"
     ]
    }
   ],
   "source": [
    "# functions to browse through the stims and units\n",
    "from phy_tools import kwik_functions as kwf\n",
    "\n",
    "# List all the wave stimuli in the file\n",
    "all_stim_names = kwf.list_sound_stimuli(kwik_file)\n",
    "print \"stimulus names\"\n",
    "print all_stim_names\n",
    "print \"\"\n",
    "\n",
    "# list all the sorted units\n",
    "all_units = kwf.list_units(kwik_file)\n",
    "# this returns a numpy recarray with cols:\n",
    "# group: site group (electrode shank)\n",
    "# clu: cluster number\n",
    "# qlt: sorting quality: 1 is MUA, 2 is well isolated (by default, only these 2 qlt's are returned)\n",
    "# For instance, see all the clusters that are either mua or good units.\n",
    "print all_units['clu']"
   ]
  },
  {
   "cell_type": "code",
   "execution_count": 3,
   "metadata": {},
   "outputs": [
    {
     "name": "stdout",
     "output_type": "stream",
     "text": [
      "[('group', '<i8'), ('clu', '<i8'), ('qlt', '<i8')]\n"
     ]
    }
   ],
   "source": [
    "print all_units.dtype"
   ]
  },
  {
   "cell_type": "code",
   "execution_count": 4,
   "metadata": {},
   "outputs": [
    {
     "name": "stdout",
     "output_type": "stream",
     "text": [
      "Stamps of this event occurrences\n",
      "[  352273  2504605  3297153  3508517  5409523  5967603 12123085 14197829\n",
      " 14365127 16152307 17262723 19700407 19890875 21880455 22273825 25013025\n",
      " 25777795 26197113 26510497 26907529 29399379 29614341 30424567 32934853\n",
      " 33111305 33721089 35730177 35890973 37081437 40798665]\n",
      "\n",
      "Sampling rate (Hz): 31250.0\n",
      "Metadata\n",
      "{'stim': {u'sampling_rate': 40000.0}, 'stream': {}}\n"
     ]
    },
    {
     "data": {
      "text/plain": [
       "[<matplotlib.lines.Line2D at 0x7fd004da1790>]"
      ]
     },
     "execution_count": 4,
     "metadata": {},
     "output_type": "execute_result"
    },
    {
     "data": {
      "image/png": "[encoded data removed]",
      "text/plain": [
       "<matplotlib.figure.Figure at 0x7fd03819eb10>"
      ]
     },
     "metadata": {},
     "output_type": "display_data"
    }
   ],
   "source": [
    "# get one of the stimuli:\n",
    "from basic_viewing.events import Event, Sound\n",
    "# creating a stimulus object with that name will refer to the data of it in the kwik file\n",
    "stim = Sound('sound_005_40000', h5=kwik_file)\n",
    "\n",
    "# some queries on the stimulus:\n",
    "# stamps in the recording where the event started:\n",
    "print \"Stamps of this event occurrences\"\n",
    "print stim.start\n",
    "# sampling frequency of the recording (i.e, of the recording)\n",
    "print \"\"\n",
    "print \"Sampling rate (Hz): \" + str(stim.sampling_rate)\n",
    "\n",
    "# get the actual waveform of the stimulus as it was played and its metadata:\n",
    "waveform, meta = stim.get_waveform()\n",
    "# meta is a dictionary with metadata:\n",
    "# sampling_rate: sampling rate of the waveform (independent from recording)\n",
    "# synt: whether it is synthetic song or not\n",
    "# type: birds own song (bos), (con)specific, (rev)ersed bos, etc..\n",
    "print \"Metadata\"\n",
    "print meta\n",
    "plt.plot(waveform)"
   ]
  },
  {
   "cell_type": "code",
   "execution_count": 5,
   "metadata": {},
   "outputs": [
    {
     "data": {
      "text/plain": [
       "[<matplotlib.lines.Line2D at 0x7fd004296e90>]"
      ]
     },
     "execution_count": 5,
     "metadata": {},
     "output_type": "execute_result"
    },
    {
     "data": {
      "image/png": "[encoded data removed]",
      "text/plain": [
       "<matplotlib.figure.Figure at 0x7fd004296c10>"
      ]
     },
     "metadata": {},
     "output_type": "display_data"
    }
   ],
   "source": [
    "# get one of the units:\n",
    "from basic_viewing.units import Unit\n",
    "\n",
    "one_unit = all_units[2]\n",
    "one_unit_clu = one_unit['clu']\n",
    "\n",
    "# instance a Unit object\n",
    "unit = Unit(one_unit_clu, h5=kwik_file)\n",
    "# get the spike times (in sample units)\n",
    "unit.get_time_stamps()\n",
    "# get the sampling rate of the recording\n",
    "s_f = unit.sampling_rate\n",
    "\n",
    "#get a raster for this unit around a window of [-2, 4] sec after each stimulus onset\n",
    "before_ms = 2000\n",
    "after_ms = 4000\n",
    "start_points = stim.start - np.int(s_f * before_ms/1000.) #start_points has to be in sample units\n",
    "\n",
    "rs = unit.get_raster(start_points, before_ms + after_ms, span_is_ms=True, return_ms=True)\n",
    "# the raster is an n_trial * m array (where m can be sample or ms).\n",
    "# in each row, it contains the timestamps (in samples or ms) of spikes relative to the beginning of the trial\n",
    "\n",
    "# plot the raster\n",
    "from basic_viewing import basic_plot as bp\n",
    "b = np.outer((np.arange(rs.shape[0]) + 1), np.ones(rs.shape[1]))\n",
    "plt.scatter(rs, b, marker='|')\n",
    "plt.xlim(0, before_ms + after_ms)\n",
    "\n",
    "# plot the waveform underneath the raster\n",
    "span_before = np.zeros(np.int(before_ms/1000. * meta['stim']['sampling_rate']))\n",
    "span_before[:] = np.nan\n",
    "span_after = np.zeros(np.int(after_ms/1000. * meta['stim']['sampling_rate']) - waveform.size)\n",
    "waveform_plot = np.insert(waveform, 0, span_before)\n",
    "waveform_plot = np.insert(span_after, 0, waveform_plot)\n",
    "waveform_t_plot = np.arange(waveform_plot.size)*1000./meta['stim']['sampling_rate']\n",
    "plt.plot(waveform_t_plot, (waveform_plot/32768.-0.8)*10)\n"
   ]
  },
  {
   "cell_type": "code",
   "execution_count": 5,
   "metadata": {},
   "outputs": [
    {
     "data": {
      "text/plain": [
       "{'stim': {u'sampling_rate': 40000.0}, 'stream': {}}"
      ]
     },
     "execution_count": 5,
     "metadata": {},
     "output_type": "execute_result"
    }
   ],
   "source": [
    "meta"
   ]
  },
  {
   "cell_type": "code",
   "execution_count": 6,
   "metadata": {},
   "outputs": [
    {
     "data": {
      "text/plain": [
       "[u'alpha', u'beta', u'f0', u'stimulus', u'synthesized']"
      ]
     },
     "execution_count": 6,
     "metadata": {},
     "output_type": "execute_result"
    }
   ],
   "source": [
    "# List all the arrays in the stimulus (the sampling rate is the same for all the group)\n",
    "stim.list_waveforms()\n"
   ]
  },
  {
   "cell_type": "code",
   "execution_count": 7,
   "metadata": {},
   "outputs": [
    {
     "data": {
      "text/plain": [
       "[<matplotlib.lines.Line2D at 0x7fd004577d10>]"
      ]
     },
     "execution_count": 7,
     "metadata": {},
     "output_type": "execute_result"
    },
    {
     "data": {
      "image/png": "[encoded data removed]",
      "text/plain": [
       "<matplotlib.figure.Figure at 0x7fd004d3f090>"
      ]
     },
     "metadata": {},
     "output_type": "display_data"
    }
   ],
   "source": [
    "# Get one of the arrays (for instance, parameters alpha and beta)\n",
    "alpha, meta = stim.get_waveform(stream='alpha')\n",
    "beta, meta = stim.get_waveform(stream='beta')\n",
    "synthesized, meta = stim.get_waveform(stream='synthesized')\n",
    "alpha[(alpha>0)]=1\n",
    "alpha[(alpha<0)]=-1\n",
    "plt.plot(alpha)\n",
    "plt.plot(beta)\n",
    "plt.plot(synthesized/32768.-1.)"
   ]
  },
  {
   "cell_type": "code",
   "execution_count": 8,
   "metadata": {},
   "outputs": [
    {
     "data": {
      "text/plain": [
       "[<matplotlib.lines.Line2D at 0x7fd0046b5d50>]"
      ]
     },
     "execution_count": 8,
     "metadata": {},
     "output_type": "execute_result"
    },
    {
     "data": {
      "image/png": "[encoded data removed]",
      "text/plain": [
       "<matplotlib.figure.Figure at 0x7fd0046b5d10>"
      ]
     },
     "metadata": {},
     "output_type": "display_data"
    }
   ],
   "source": [
    "plt.plot(alpha[0:10000])\n",
    "plt.plot(np.diff(alpha)[0:10000])\n",
    "#plt.plot(ons, np.ones_like(ons)*0.1, \"*\")"
   ]
  },
  {
   "cell_type": "code",
   "execution_count": 9,
   "metadata": {},
   "outputs": [],
   "source": [
    "ons = np.where(np.diff(alpha)<-0.1)[0]\n",
    "offs = np.where(np.diff(alpha)>0.1)[0]"
   ]
  },
  {
   "cell_type": "code",
   "execution_count": 10,
   "metadata": {},
   "outputs": [],
   "source": [
    "alpha[(alpha>0)]=1\n",
    "alpha[(alpha<0)]=-1"
   ]
  },
  {
   "cell_type": "code",
   "execution_count": 11,
   "metadata": {},
   "outputs": [
    {
     "data": {
      "text/plain": [
       "[<matplotlib.lines.Line2D at 0x7fd004406910>]"
      ]
     },
     "execution_count": 11,
     "metadata": {},
     "output_type": "execute_result"
    },
    {
     "data": {
      "image/png": "[encoded data removed]",
      "text/plain": [
       "<matplotlib.figure.Figure at 0x7fd03819e6d0>"
      ]
     },
     "metadata": {},
     "output_type": "display_data"
    }
   ],
   "source": [
    "plt.plot(alpha)"
   ]
  },
  {
   "cell_type": "code",
   "execution_count": 12,
   "metadata": {},
   "outputs": [
    {
     "data": {
      "text/plain": [
       "array([  467,  2057,  3450, 10356, 15307, 20433, 25379, 33196, 38429,\n",
       "       44042, 49087, 57414, 62645, 68113, 73259])"
      ]
     },
     "execution_count": 12,
     "metadata": {},
     "output_type": "execute_result"
    }
   ],
   "source": [
    "ons"
   ]
  },
  {
   "cell_type": "code",
   "execution_count": 13,
   "metadata": {},
   "outputs": [
    {
     "data": {
      "text/plain": [
       "array([ 1419,  2105,  6304, 12954, 18406, 23264, 30962, 35854, 41441,\n",
       "       46889, 54689, 60063, 65780, 70877])"
      ]
     },
     "execution_count": 13,
     "metadata": {},
     "output_type": "execute_result"
    }
   ],
   "source": [
    "offs"
   ]
  },
  {
   "cell_type": "code",
   "execution_count": 15,
   "metadata": {},
   "outputs": [
    {
     "data": {
      "text/plain": [
       "array([ 0.011675,  0.051425,  0.08625 ,  0.2589  ,  0.382675,  0.510825,\n",
       "        0.634475,  0.8299  ,  0.960725,  1.10105 ,  1.227175,  1.43535 ,\n",
       "        1.566125,  1.702825,  1.831475])"
      ]
     },
     "execution_count": 15,
     "metadata": {},
     "output_type": "execute_result"
    }
   ],
   "source": [
    "ons/40000."
   ]
  },
  {
   "cell_type": "code",
   "execution_count": 16,
   "metadata": {},
   "outputs": [
    {
     "data": {
      "text/plain": [
       "array([ 0.035475,  0.052625,  0.1576  ,  0.32385 ,  0.46015 ,  0.5816  ,\n",
       "        0.77405 ,  0.89635 ,  1.036025,  1.172225,  1.367225,  1.501575,\n",
       "        1.6445  ,  1.771925])"
      ]
     },
     "execution_count": 16,
     "metadata": {},
     "output_type": "execute_result"
    }
   ],
   "source": [
    "offs/40000."
   ]
  },
  {
   "cell_type": "code",
   "execution_count": 16,
   "metadata": {},
   "outputs": [],
   "source": [
    "syllables1 = [[0, ons[0], offs[0]], [1,ons[1], offs[1]], [2, ons[2], offs[2]], [3, ons[3], offs[3]], [4,ons[4], offs[4]],\n",
    "            [3, ons[5], offs[5]], [5, ons[6], offs[6]], [3, ons[7], offs[7]], [2, ons[11], offs[11]],[3, ons[12], offs[12]],\n",
    "            [4, ons[13], offs[13]], [6, ons[14], alpha.size-1]]\n",
    "syllables1 = np.array(syllables1)"
   ]
  },
  {
   "cell_type": "code",
   "execution_count": 19,
   "metadata": {},
   "outputs": [],
   "source": [
    "#insert the syllables intto the sound group\n",
    "#kwik_file.close()\n",
    "from phy_tools import kwik_functions as kwik\n",
    "import scipy.signal as ss\n",
    "sound_name = 'sound_005_40000'\n",
    "syllables = syllables_5\n",
    "parent_group='/event_types/Stimulus'\n",
    "\n",
    "#file structure\n",
    "bird_id = 'z003'\n",
    "sess = 1\n",
    "rec = 'a'\n",
    "run = 1\n",
    "sess_name = 'Pen03_Lft_AP500_ML500__Site01_Z2000__z003_cat_P03_S01_1_02'\n",
    "\n",
    "raw_file_folder = os.path.join(raw_data_folder, bird_id, str(sess).zfill(3))\n",
    "raw_file_name = rec + '_' + str(run).zfill(2) + '_song.wav'\n",
    "raw_file_path = os.path.join(raw_file_folder, raw_file_name)\n",
    "ss_file_folder = raw_file_folder = os.path.join(ss_data_folder, bird_id, 'post_man_sort', sess_name)\n",
    "\n",
    "# open the kwik file for playing\n",
    "kwik_files = [f for f in os.listdir(ss_file_folder) if f.endswith('.kwik')]\n",
    "kwik_file = kwik_files[0]\n",
    "\n",
    "f = h5py.File(os.path.join(ss_file_folder, kwik_file), 'r+')\n",
    "kwik.append_table_in_stim(f, sound_name, syllables, 'syllables')\n",
    "f.close()"
   ]
  },
  {
   "cell_type": "code",
   "execution_count": 18,
   "metadata": {},
   "outputs": [],
   "source": [
    "kwik_file.close()"
   ]
  },
  {
   "cell_type": "code",
   "execution_count": 14,
   "metadata": {},
   "outputs": [],
   "source": [
    "syl_seq = [0, -1, 1, 2, 3, 2, 4, 2, 3, 2, 4, 2, 3, 2, 4]\n",
    "offs = np.hstack((offs, [alpha.size-1]))\n",
    "\n",
    "syllables_5 = np.array([[syl, ons[i], offs[i]] for i, syl in enumerate(syl_seq) if syl>-1])\n"
   ]
  },
  {
   "cell_type": "code",
   "execution_count": 14,
   "metadata": {},
   "outputs": [
    {
     "data": {
      "text/plain": [
       "array([[    0,   467,  1419],\n",
       "       [    1,  3450,  6304],\n",
       "       [    2, 10356, 12954],\n",
       "       [    3, 15307, 18406],\n",
       "       [    2, 20433, 23264],\n",
       "       [    4, 25379, 30962],\n",
       "       [    2, 33196, 35854],\n",
       "       [    3, 38429, 41441],\n",
       "       [    2, 44042, 46889],\n",
       "       [    4, 49087, 54689],\n",
       "       [    2, 57414, 60063],\n",
       "       [    3, 62645, 65780],\n",
       "       [    2, 68113, 70877],\n",
       "       [    4, 73259, 78897]])"
      ]
     },
     "execution_count": 14,
     "metadata": {},
     "output_type": "execute_result"
    }
   ],
   "source": [
    "syllables_5"
   ]
  },
  {
   "cell_type": "code",
   "execution_count": 26,
   "metadata": {},
   "outputs": [],
   "source": [
    "#insert the syllables intto the sound group of the Stim file\n",
    "from phy_tools import kwik_functions as kwik\n",
    "import scipy.signal as ss\n",
    "sound_name = 'sound_005_40000'\n",
    "syllables = syllables_5\n",
    "parent_group='/event_types/Stimulus'\n",
    "\n",
    "#file structure\n",
    "bird_id = 'z003'\n",
    "sess = 1\n",
    "rec = 'a'\n",
    "run = 1\n",
    "\n",
    "stim_data_folder = os.path.join(experiment_folder, 'stim_data')\n",
    "stim_file_folder = os.path.join(stim_data_folder, bird_id, 'set_' + str(sess).zfill(3))\n",
    "stim_file_name = 'stim_data.kwik'\n",
    "stim_file_path = os.path.join(stim_file_folder, stim_file_name)\n",
    "\n",
    "stim_kf = h5py.File(stim_file_path, 'r+')\n",
    "kwik.append_table_in_stim(stim_kf, sound_name, syllables, 'syllables')\n",
    "stim_kf.close()"
   ]
  },
  {
   "cell_type": "code",
   "execution_count": 24,
   "metadata": {},
   "outputs": [
    {
     "data": {
      "text/plain": [
       "['sound_007.wav',\n",
       " 'synth_sound_001.dat',\n",
       " '._sound_001_synth.wav',\n",
       " 'sound.txt.txt',\n",
       " 'song_synth_sound_005.dat',\n",
       " 'f0_smooth_sound_005.dat',\n",
       " 'stim_data.kwik',\n",
       " 'song_synth_sound_005.wav',\n",
       " 'sound_008.wav',\n",
       " 'sound_006.wav',\n",
       " 'sound_001.wav',\n",
       " 'sound_001_synth.wav',\n",
       " 'sinatra.kwik',\n",
       " 'song_synth_sound_001.wav',\n",
       " 'sound_002.wav',\n",
       " 'sound_005.wav',\n",
       " 'f0_smooth_sound_001.dat',\n",
       " 'song_synth_sound_001.dat',\n",
       " 'resampled_sound',\n",
       " 'sound_004.wav',\n",
       " 'sound_003.wav',\n",
       " 'synth_sound_005.dat']"
      ]
     },
     "execution_count": 24,
     "metadata": {},
     "output_type": "execute_result"
    }
   ],
   "source": [
    "os.listdir(stim_file_folder)"
   ]
  },
  {
   "cell_type": "code",
   "execution_count": 15,
   "metadata": {},
   "outputs": [
    {
     "data": {
      "text/plain": [
       "['/mnt/cube/earneodo/bci_zf/export_data/tejaswy/z003/S001_Pen03_Lft_AP500_ML500__Site02_Z2300__z003_cat_P03_S02_1_02',\n",
       " '/mnt/cube/earneodo/bci_zf/export_data/tejaswy/z003/S001_Pen07_Rgt_AP1250_ML2000__Site02_Z1680__z003_cat_P07_S02_1_02',\n",
       " '/mnt/cube/earneodo/bci_zf/export_data/tejaswy/z003/S001_Pen06_Rgt_AP1500_ML2000__Site02_Z2175__z003_cat_P06_S02_1_02',\n",
       " '/mnt/cube/earneodo/bci_zf/export_data/tejaswy/z003/S001_Pen07_Rgt_AP1250_ML2000__Site03_Z1950__z003_cat_P07_S03_1_02',\n",
       " '/mnt/cube/earneodo/bci_zf/export_data/tejaswy/z003/S001_Pen04_Rgt_AP1500_ML0__Site01_Z1500__z003_cat_P04_S01_1_02',\n",
       " '/mnt/cube/earneodo/bci_zf/export_data/tejaswy/z003/S001_Pen05_Rgt_AP1500_ML2000__Site02_Z2550__z003_cat_P05_S02_1_02',\n",
       " '/mnt/cube/earneodo/bci_zf/export_data/tejaswy/z003/S001_Pen03_Lft_AP500_ML500__Site01_Z2000__z003_cat_P03_S01_1_02']"
      ]
     },
     "execution_count": 15,
     "metadata": {},
     "output_type": "execute_result"
    }
   ],
   "source": [
    "# Try to put this one into all exported files\n",
    "import glob\n",
    "export_path=os.path.join(experiment_folder, 'export_data', 'tejaswy',bird_id)\n",
    "all_session_paths = glob.glob(os.path.join(ss_data_folder, bird_id, 'post_stim_merge','*'))\n",
    "all_export_paths = glob.glob(os.path.join(export_path,'*'))\n",
    "all_export_paths"
   ]
  },
  {
   "cell_type": "code",
   "execution_count": 16,
   "metadata": {},
   "outputs": [
    {
     "data": {
      "text/plain": [
       "['/mnt/cube/earneodo/bci_zf/export_data/tejaswy/z003/S001_Pen03_Lft_AP500_ML500__Site02_Z2300__z003_cat_P03_S02_1_02/z003_cat_P03_S02_1.kwik',\n",
       " '/mnt/cube/earneodo/bci_zf/export_data/tejaswy/z003/S001_Pen07_Rgt_AP1250_ML2000__Site02_Z1680__z003_cat_P07_S02_1_02/z003_cat_P07_S02_1.kwik',\n",
       " '/mnt/cube/earneodo/bci_zf/export_data/tejaswy/z003/S001_Pen06_Rgt_AP1500_ML2000__Site02_Z2175__z003_cat_P06_S02_1_02/z003_cat_P06_S02_1.kwik',\n",
       " '/mnt/cube/earneodo/bci_zf/export_data/tejaswy/z003/S001_Pen07_Rgt_AP1250_ML2000__Site03_Z1950__z003_cat_P07_S03_1_02/z003_cat_P07_S03_1.kwik',\n",
       " '/mnt/cube/earneodo/bci_zf/export_data/tejaswy/z003/S001_Pen04_Rgt_AP1500_ML0__Site01_Z1500__z003_cat_P04_S01_1_02/z003_cat_P04_S01_1.kwik',\n",
       " '/mnt/cube/earneodo/bci_zf/export_data/tejaswy/z003/S001_Pen05_Rgt_AP1500_ML2000__Site02_Z2550__z003_cat_P05_S02_1_02/z003_cat_P05_S02_1.kwik',\n",
       " '/mnt/cube/earneodo/bci_zf/export_data/tejaswy/z003/S001_Pen03_Lft_AP500_ML500__Site01_Z2000__z003_cat_P03_S01_1_02/z003_cat_P03_S01_1.kwik']"
      ]
     },
     "execution_count": 16,
     "metadata": {},
     "output_type": "execute_result"
    }
   ],
   "source": [
    "all_files = [glob.glob(os.path.join(one_sess, '*.kwik'))[0] for one_sess in all_export_paths]\n",
    "all_files"
   ]
  },
  {
   "cell_type": "code",
   "execution_count": 17,
   "metadata": {},
   "outputs": [],
   "source": [
    "#insert the syllables intto the sound group of the Stim file\n",
    "from phy_tools import kwik_functions as kwik\n",
    "import scipy.signal as ss\n",
    "sound_name = 'sound_005_40000'\n",
    "syllables = syllables_5\n",
    "parent_group='/event_types/Stimulus'\n",
    "\n",
    "for one_file_path in all_files:\n",
    "    exp_kf = h5py.File(one_file_path, 'r+')\n",
    "    try:\n",
    "        kwik.append_table_in_stim(exp_kf, sound_name, syllables, 'syllables')\n",
    "        exp_kf.close()\n",
    "    except:\n",
    "        exp_kf.close()\n",
    "    \n"
   ]
  },
  {
   "cell_type": "code",
   "execution_count": 53,
   "metadata": {},
   "outputs": [],
   "source": [
    "exp_kf.close()"
   ]
  },
  {
   "cell_type": "code",
   "execution_count": 58,
   "metadata": {},
   "outputs": [
    {
     "data": {
      "text/plain": [
       "'/mnt/cube/earneodo/bci_zf/export_data/tejaswy/z003/S001_Pen03_Lft_AP500_ML500__Site02_Z2300__z003_cat_P03_S02_1_02/z003_cat_P03_S02_1.kwik'"
      ]
     },
     "execution_count": 58,
     "metadata": {},
     "output_type": "execute_result"
    }
   ],
   "source": [
    "one_file_path"
   ]
  },
  {
   "cell_type": "code",
   "execution_count": null,
   "metadata": {
    "collapsed": true
   },
   "outputs": [],
   "source": []
  }
 ],
 "metadata": {
  "kernelspec": {
   "display_name": "Python [default]",
   "language": "python",
   "name": "python2"
  },
  "language_info": {
   "codemirror_mode": {
    "name": "ipython",
    "version": 2
   },
   "file_extension": ".py",
   "mimetype": "text/x-python",
   "name": "python",
   "nbconvert_exporter": "python",
   "pygments_lexer": "ipython2",
   "version": "2.7.13"
  }
 },
 "nbformat": 4,
 "nbformat_minor": 1
}
