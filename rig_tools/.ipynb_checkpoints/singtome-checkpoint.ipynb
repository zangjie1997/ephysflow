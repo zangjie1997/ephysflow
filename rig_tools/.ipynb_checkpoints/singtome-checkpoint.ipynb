{
 "cells": [
  {
   "cell_type": "code",
   "execution_count": 1,
   "metadata": {},
   "outputs": [
    {
     "name": "stdout",
     "output_type": "stream",
     "text": [
      "Computer: passaro\n"
     ]
    }
   ],
   "source": [
    "import zmq\n",
    "import time\n",
    "import socket\n",
    "import os\n",
    "import sys\n",
    "import logging\n",
    "import threading\n",
    "import numpy as np\n",
    "from numpy import matlib\n",
    "from __future__ import division\n",
    "\n",
    "# Check wich computer to decide where the things are mounted\n",
    "comp_name=socket.gethostname()\n",
    "print 'Computer: ' + comp_name\n",
    "\n",
    "if 'passaro' in comp_name:\n",
    "    repos_folder = os.path.abspath('/mnt/cube/earneodo/repos')\n",
    "    experiment_folder = os.path.join('/mnt/cube/earneodo/bci_zf/')\n",
    "    rec_folder = os.path.join('/usr/local/experiment/raw_data')\n",
    "    \n",
    "\n",
    "if 'lookfar' in comp_name:\n",
    "    repos_folder = os.path.abspath('/Users/zeke/repos')\n",
    "    experiment_folder = os.path.join('/Users/zeke/bci_zf')\n",
    "    rec_folder = os.path.join('/Users/zeke/bci_zf/raw_data')\n",
    "\n",
    "sys.path.append(os.path.join(repos_folder, 'soundflow', 'sound_tools'))\n",
    "sys.path.append(os.path.join(repos_folder, 'ephysflow'))\n",
    "\n",
    "from file_tools import experiment as et\n",
    "from rig_tools import open_ephys as oe, beagle_bone as bb"
   ]
  },
  {
   "cell_type": "code",
   "execution_count": 3,
   "metadata": {},
   "outputs": [],
   "source": [
    "# open the devices\n",
    "oe_zmq = oe.OpenEphysEvents(port='5556', ip='127.0.0.1')\n",
    "bb_zmq = bb.BeagleBone(port='5559', ip='tsippor.ucsd.edu')"
   ]
  },
  {
   "cell_type": "code",
   "execution_count": 4,
   "metadata": {},
   "outputs": [
    {
     "name": "stdout",
     "output_type": "stream",
     "text": [
      "No acquisition running\n",
      "Acquisition Started\n"
     ]
    }
   ],
   "source": [
    "oe_zmq.connect()\n",
    "oe_zmq.stop_acq()\n",
    "oe_zmq.start_acq()"
   ]
  },
  {
   "cell_type": "code",
   "execution_count": 7,
   "metadata": {
    "collapsed": true
   },
   "outputs": [],
   "source": [
    "bb_zmq.connect()"
   ]
  },
  {
   "cell_type": "code",
   "execution_count": 8,
   "metadata": {},
   "outputs": [
    {
     "data": {
      "text/plain": [
       "'ok trial:1, file:/root/experiment/stim/bos_tag.wav'"
      ]
     },
     "execution_count": 8,
     "metadata": {},
     "output_type": "execute_result"
    }
   ],
   "source": [
    "# Bird specific data\n",
    "bird_id = 'z033'\n",
    "electrode_depth = 0 #append to rec folder\n",
    "experiment_descr = None #prepend to rec folder\n",
    "\n",
    "wave_files = [os.path.abspath('/root/experiment/stim/bos_tag.wav'),\n",
    "              os.path.abspath('/root/experiment/stim/bos_rev_tag.wav'),\n",
    "              os.path.abspath('/root/experiment/stim/con_tag.wav')]\n",
    "\n",
    "# wave_files = [os.path.abspath('/root/experiment/stim/bos_tag.wav'), \n",
    "#               os.path.abspath('/root/experiment/stim/bos_rev_tag.wav')]\n",
    "wave_file = wave_files[0]\n",
    "cmd_line = 'trial type passive number 1 stim_file ' + wave_file\n",
    "bb_zmq.send_command(cmd_line)"
   ]
  },
  {
   "cell_type": "code",
   "execution_count": 11,
   "metadata": {},
   "outputs": [],
   "source": [
    "cmd_line = 'trial type passive number 1 stim_file ' + wave_files[0]\n",
    "\n",
    "for i in range(5):\n",
    "    bb_zmq.send_command(cmd_line)\n",
    "    time.sleep(2)"
   ]
  },
  {
   "cell_type": "code",
   "execution_count": 7,
   "metadata": {},
   "outputs": [],
   "source": [
    "# command functions\n",
    "def cmd_play_wav(wav_file):\n",
    "    cmd_line = 'play_wav stim_file ' + wav_file\n",
    "    return cmd_line\n",
    "\n",
    "def cmd_trial_pin(on):\n",
    "    #on is boolean\n",
    "    return 'trial_pin on {}'.format(on)\n",
    "\n",
    "def cmd_trial_number(tr_num):\n",
    "    #on is boolean\n",
    "    return 'trial_number number {}'.format(int(tr_num))\n",
    "        \n",
    "def run_trial(rig_par={'bb': bb_zmq, 'oe':oe_zmq}, trial_par={'iti':500., 'tr_num': 5, 'wave_file': wave_file}):\n",
    "    time.sleep(int(trial_par['iti']*100)/100000.)\n",
    "    rig_par['bb'].send_command(cmd_trial_pin(True))\n",
    "    rig_par['oe'].send_command(cmd_trial_number(trial_par['tr_num']))\n",
    "    rig_par['bb'].send_command(cmd_trial_number(trial_par['tr_num']))\n",
    "    rig_par['oe'].send_command(cmd_play_wav(trial_par['stim']))\n",
    "    rig_par['bb'].send_command(cmd_play_wav(trial_par['stim']))\n",
    "    rig_par['bb'].send_command(cmd_trial_pin(False))\n",
    "\n",
    "bb_zmq.send_command(cmd_trial_pin(True))\n",
    "bb_zmq.send_command(cmd_trial_number(4))\n",
    "bb_zmq.send_command(cmd_play_wav(wave_file))\n",
    "bb_zmq.send_command(cmd_trial_pin(False))\n",
    "    \n",
    "run_trial(rig_par={'bb': bb_zmq, 'oe': oe_zmq}, trial_par={'iti': 2000, 'tr_num': 15, 'stim': wave_file})"
   ]
  },
  {
   "cell_type": "code",
   "execution_count": 10,
   "metadata": {},
   "outputs": [
    {
     "name": "stdout",
     "output_type": "stream",
     "text": [
      "Starting Block\n",
      "{'tr_num': 0, 'stim': '/root/experiment/stim/bos_tag.wav', 'iti': 613}\n",
      "{'tr_num': 1, 'stim': '/root/experiment/stim/bos_syn_tag.wav', 'iti': 760}\n",
      "{'tr_num': 2, 'stim': '/root/experiment/stim/bos_tag.wav', 'iti': 651}\n",
      "{'tr_num': 3, 'stim': '/root/experiment/stim/bos_rev_tag.wav', 'iti': 430}\n",
      "{'tr_num': 4, 'stim': '/root/experiment/stim/bos_rev_tag.wav', 'iti': 741}\n",
      "finished block\n"
     ]
    }
   ],
   "source": [
    "class Block:\n",
    "    def __init__(self, stim_list, iti_bounds_ms, size, random = True):\n",
    "        self.trials = 0\n",
    "        self.iti_bounds = iti_bounds_ms\n",
    "        self.stim_list = stim_list\n",
    "        self.size = size\n",
    "        self.trial_pars = {'iti': None, 'tr_num': 0, 'stim': None}\n",
    "        self.stim_order = matlib.repmat(np.arange(len(stim_list)),\n",
    "                                           int(np.ceil(size/len(stim_list))),\n",
    "                                           1)[:size].flatten()\n",
    "        if random:\n",
    "            np.random.shuffle(self.stim_order)\n",
    "    \n",
    "    def __iter__(self,):\n",
    "        return self\n",
    "    \n",
    "    def next(self, ):\n",
    "        if self.trials < self.size:\n",
    "            self.trial_pars['iti'] = np.random.randint(self.iti_bounds[0], self.iti_bounds[1])\n",
    "            #print self.trials\n",
    "            self.trial_pars['tr_num'] = self.trials\n",
    "            self.trial_pars['stim'] = self.stim_list[self.stim_order[self.trials]]\n",
    "            self.trials+=1\n",
    "            return self.trial_pars\n",
    "        else:\n",
    "            raise StopIteration()\n",
    "            \n",
    "class Runner(threading.Thread):\n",
    "    def __init__(self, block, rig_par, recorder=None, group=None, target=None, name=None, \n",
    "                 args=(), kwargs=None, verbose=None):\n",
    "        threading.Thread.__init__(self, group=group, target=target, name=name, verbose=verbose)\n",
    "        \n",
    "        logging.info('Initializing block')\n",
    "        self.block = block #block object\n",
    "        self.rig = rig_par\n",
    "        self.stim_sys = rig_par['bb']\n",
    "        self.rec_sys = rig_par['oe']\n",
    "        self.running = threading.Event() #Event\n",
    "        self.finished = False\n",
    "        self.trial = None\n",
    "        self.running.clear()\n",
    "        self.recorder = recorder #Record control\n",
    "   \n",
    "    def run(self):\n",
    "        logging.debug('running block')\n",
    "        if not self.running.is_set():\n",
    "            print 'Starting Block'\n",
    "#             if self.is_recording()==True:\n",
    "#                 logging.debug('Starting recording')\n",
    "#                 self.recorder.start()\n",
    "#                 time.sleep(2)\n",
    "            self.running.set()\n",
    "            while True:\n",
    "                try:\n",
    "                    if self.running.is_set():\n",
    "                        self.trial = self.block.next()\n",
    "                        logging.info('Running trial {}'.format(self.trial))\n",
    "                        print self.trial\n",
    "                        run_trial(rig_par=self.rig, trial_par=self.trial)\n",
    "                    else:\n",
    "                        self.end_block()\n",
    "                        break\n",
    "\n",
    "                except StopIteration:\n",
    "                    self.finished = True\n",
    "                    self.running.clear()\n",
    "                    print 'finished block'\n",
    "                    break\n",
    "            \n",
    "            if self.is_recording()==True:\n",
    "                print('Runner stopping recording')\n",
    "                self.recorder.signal_stop()\n",
    "        else:\n",
    "            logging.info('Cant start, already running')\n",
    "            \n",
    "        return self.finished\n",
    "                    \n",
    "    def end_block(self):\n",
    "        print('stopping the block in trial {}'.format(self.trial['tr_num']))\n",
    "        self.finished = False\n",
    "        \n",
    "    def signal_stop(self):\n",
    "        self.running.clear()\n",
    "        \n",
    "    def is_running(self):\n",
    "        return self.running.is_set()\n",
    "    \n",
    "    def is_recording(self):\n",
    "        logging.debug('runner checking recording status')\n",
    "        logging.debug('{}'.format(self.recorder))\n",
    "        if self.recorder is not None:\n",
    "            logging.debug('status {}'.format(self.recorder.report_recording()))\n",
    "            return self.recorder.report_recording()\n",
    "        else:\n",
    "            return None\n",
    "\n",
    "class H5er():\n",
    "    # To do: a thread to log the input/output of every trial, \n",
    "    # that is init by a session and passed to a runner\n",
    "    def __init__(self):\n",
    "        raise NotImplementedError\n",
    "        \n",
    "class Recorder(threading.Thread):\n",
    "    def __init__(self, rig_par, control_Event, new=False, rec_par={'CreateNewDir': '0'}, restart=True, \n",
    "                 group=None, target=None, name=None, \n",
    "                 args=(), kwargs=None, verbose=None):\n",
    "        threading.Thread.__init__(self, group=group, target=target, name=name, verbose=verbose)\n",
    "        \n",
    "        logging.info('Initializing recorder')\n",
    "        self.name = 'Recorder'\n",
    "        self.rig = rig_par\n",
    "        self.rec_sys = rig_par['rec']\n",
    "        self.recording = threading.Event() #Event\n",
    "        self.control_signal = control_Event # Event\n",
    "        self.recording_path = None\n",
    "        self.rec_par = rec_par\n",
    "        self.new_rec = new\n",
    "        self.force_restart = restart\n",
    "        self.recording.clear()\n",
    "        \n",
    "   \n",
    "    def run(self):\n",
    "        logging.debug('recording')\n",
    "        # If starting of a new recorded is forced\n",
    "        ok_to_start = False\n",
    "        \n",
    "        if self.is_recording():\n",
    "            if self.force_restart:\n",
    "                self.stop_record()\n",
    "                ok_to_start = True\n",
    "                \n",
    "        if self.control_signal is not None:\n",
    "            while not self.control_signal.is_set():\n",
    "                pass\n",
    "            logging.debug('Start record signal received')\n",
    "            self.start_record(new=self.new_rec, rec_par=self.rec_par)\n",
    "            while self.control_signal.is_set():\n",
    "                if self.recording.is_set():\n",
    "                    pass\n",
    "                else:\n",
    "                    logging.info('Stop recording Forced')\n",
    "                    self.control_signal.clear()\n",
    "                    break\n",
    "            logging.debug('Stop record signal received')\n",
    "            self.stop_record()\n",
    "\n",
    "    def start_record(self, new=False, rec_par={'CreateNewDir':'0'}):\n",
    "        if self.rec_sys.start_rec(rec_par=rec_par):\n",
    "            logging.debug('Started recording')\n",
    "            self.recording_path = self.rec_sys.get_rec_path()\n",
    "            self.recording.set()\n",
    "        return self.recording_path\n",
    "                    \n",
    "    def stop_record(self, ):\n",
    "        if self.rec_sys.query_status('Recording'):\n",
    "            self.rec_sys.stop_rec()\n",
    "            self.recording.clear()\n",
    "            logging.info('Stopped recording')\n",
    "            \n",
    "    def signal_stop(self):\n",
    "        self.recording.clear()\n",
    "        \n",
    "    def is_recording(self):\n",
    "        return self.rec_sys.query_status(status_query='Recording')\n",
    "    \n",
    "    def report_recording(self):\n",
    "        return self.recording.is_set()\n",
    "    \n",
    "    def report_recording_parh(self):\n",
    "        return self.recording_path()\n",
    "    \n",
    "    def get_rec_path(self):\n",
    "        return self.rec_sys.get_rec_path()\n",
    "    \n",
    "    \n",
    "bl = Block(wave_files, [300, 800], 5)\n",
    "bl_rnr = Runner(bl, {'bb': bb_zmq, 'oe':oe_zmq})\n",
    "bl_rnr.start()"
   ]
  },
  {
   "cell_type": "code",
   "execution_count": 9,
   "metadata": {},
   "outputs": [],
   "source": [
    "bl_rnr.signal_stop()"
   ]
  },
  {
   "cell_type": "code",
   "execution_count": 10,
   "metadata": {},
   "outputs": [],
   "source": [
    "class Session:\n",
    "    def __init__(self, ephys, beagle, bird_id='z000', depth=100, descr=None):\n",
    "        self.ephys = ephys\n",
    "        self.beagle = beagle\n",
    "        self.bird_folder = None\n",
    "        self.sess_folder = None\n",
    "        self.bird_id = bird_id\n",
    "        self.electrode_depth = depth #append to rec folder\n",
    "        self.experiment_descr = descr #prepend to rec folder\n",
    "        self.block_runner = None\n",
    "        self.trial_number = 1\n",
    "        self.make_bird_folder()\n",
    "        self.recording = threading.Event()\n",
    "        self.record_control = threading.Event()\n",
    "        self.recorder = Recorder({'rec': self.ephys}, self.record_control)\n",
    "        self.recording.clear()\n",
    "        self.record_control.clear()\n",
    "        \n",
    "    def make_bird_folder(self, ):\n",
    "        self.bird_folder = os.path.join(rec_folder, self.bird_id)\n",
    "        et.mkdir_p(self.bird_folder)\n",
    "    \n",
    "    def start_record(self, new=False, force_restart=False):\n",
    "        if new:\n",
    "            rec_par = {'CreateNewDir': '1', \n",
    "                      'RecDir': self.bird_folder,\n",
    "                      'AppendText': str(self.electrode_depth),\n",
    "                      'PrependText': self.experiment_descr}\n",
    "        else:\n",
    "            rec_par = {'CreateNewDir':'0'}\n",
    "        \n",
    "        if self.is_recording():\n",
    "            logging.info('Trying to record but already recording')\n",
    "        \n",
    "        else:\n",
    "            self.record_control.set()\n",
    "            self.recorder = Recorder({'rec': self.ephys}, self.record_control,\n",
    "                                    new=new, rec_par=rec_par, restart=force_restart)\n",
    "            self.recorder.start()\n",
    "            if self.recorder.report_recording():\n",
    "                logging.debug('Started recording')\n",
    "                self.sess_folder = self.recorder.report_recording_path()\n",
    "                self.recording.set()\n",
    "    \n",
    "    def stop_record(self, ):\n",
    "        if self.recorder.report_recording():\n",
    "            self.recorder.signal_stop()\n",
    "            self.recording.clear()\n",
    "            logging.info('Stopped recording')\n",
    "            \n",
    "    def start_block(self, block, record=False, new=False):\n",
    "        if record:\n",
    "            logging.info('Starting to record')\n",
    "            self.start_record(new)\n",
    "            time.sleep(2)\n",
    "            \n",
    "        logging.info('Starting block')\n",
    "        self.block_runner = Runner(block, {'bb': self.beagle, 'oe': self.ephys}, \n",
    "                                   recorder=self.recorder)\n",
    "        self.block_runner.start()\n",
    "        \n",
    "    def monitor_block(self, ):\n",
    "        if self.is_recording():\n",
    "            self.stop_record()\n",
    "    \n",
    "    def stop_block(self):\n",
    "        self.block_runner.signal_stop()\n",
    "        if self.is_recording:\n",
    "            self.stop_record()\n",
    "        \n",
    "    def is_recording(self):\n",
    "        return self.recording.is_set()\n",
    "    \n",
    "    def is_running(self):\n",
    "        return self.block_runner.is_running()\n",
    "    \n",
    "    \n",
    "ss = Session(oe_zmq, bb_zmq, bird_id='z007', depth=100, descr='test')"
   ]
  },
  {
   "cell_type": "code",
   "execution_count": 18,
   "metadata": {},
   "outputs": [
    {
     "name": "stdout",
     "output_type": "stream",
     "text": [
      "Recording stopped\n"
     ]
    },
    {
     "data": {
      "text/plain": [
       "['/root/experiment/stim/bos01_tag.wav',\n",
       " '/root/experiment/stim/bos02_tag.wav',\n",
       " '/root/experiment/stim/bos03_tag.wav',\n",
       " '/root/experiment/stim/bos01-rev_tag.wav',\n",
       " '/root/experiment/stim/con01_tag.wav']"
      ]
     },
     "execution_count": 18,
     "metadata": {},
     "output_type": "execute_result"
    }
   ],
   "source": [
    "wave_files"
   ]
  },
  {
   "cell_type": "code",
   "execution_count": 23,
   "metadata": {},
   "outputs": [],
   "source": [
    "waves_to_use = [wave_files[0], wave_files[3]]"
   ]
  },
  {
   "cell_type": "code",
   "execution_count": 24,
   "metadata": {},
   "outputs": [
    {
     "data": {
      "text/plain": [
       "['/root/experiment/stim/bos01_tag.wav',\n",
       " '/root/experiment/stim/bos01-rev_tag.wav']"
      ]
     },
     "execution_count": 24,
     "metadata": {},
     "output_type": "execute_result"
    }
   ],
   "source": [
    "waves_to_use"
   ]
  },
  {
   "cell_type": "code",
   "execution_count": 25,
   "metadata": {
    "scrolled": true
   },
   "outputs": [
    {
     "name": "stdout",
     "output_type": "stream",
     "text": [
      "Was not Acquiring\n",
      "Acquisition Started\n",
      "OK to start\n",
      "Recording path: /Users/zeke/bci_zf/raw_data/b1114/anesth_surface_2017-03-10_16-30-53_1\n",
      "Starting Block\n",
      "{'tr_num': 0, 'stim': '/root/experiment/stim/bos01-rev_tag.wav', 'iti': 7409}\n"
     ]
    }
   ],
   "source": [
    "# run the one session\n",
    "ss = Session(oe_zmq, bb_zmq, bird_id='b1114', depth=1, descr='anesth_surface')\n",
    "a_block = Block(waves_to_use, [5000, 12000], 150)\n",
    "ss.start_block(a_block, record=True, new=True)\n",
    "#time.sleep(5)\n",
    "#ss.stop_block()"
   ]
  },
  {
   "cell_type": "code",
   "execution_count": 22,
   "metadata": {},
   "outputs": [
    {
     "name": "stdout",
     "output_type": "stream",
     "text": [
      "Recording stopped\n",
      "stopping the block in trial 92\n"
     ]
    }
   ],
   "source": [
    "ss.stop_block()"
   ]
  },
  {
   "cell_type": "code",
   "execution_count": 65,
   "metadata": {
    "scrolled": true
   },
   "outputs": [
    {
     "name": "stdout",
     "output_type": "stream",
     "text": [
      "Starting block 0\n",
      "OK to start\n",
      "Recording path: /Users/zeke/bci_zf/raw_data/z009/anesth_surface_2016-11-04_16-19-47_0\n",
      "Starting Block\n",
      "{'tr_num': 0, 'stim': '/root/experiment/stim/bos_tag.wav', 'iti': 3815}\n",
      "{'tr_num': 1, 'stim': '/root/experiment/stim/bos_tag.wav', 'iti': 38226}\n",
      "{'tr_num': 2, 'stim': '/root/experiment/stim/bos_tag.wav', 'iti': 11399}\n",
      "{'tr_num': 3, 'stim': '/root/experiment/stim/bos_rev_tag.wav', 'iti': 65405}\n",
      "{'tr_num': 4, 'stim': '/root/experiment/stim/bos_tag.wav', 'iti': 18873}\n",
      "{'tr_num': 5, 'stim': '/root/experiment/stim/bos_rev_tag.wav', 'iti': 38545}\n",
      "{'tr_num': 6, 'stim': '/root/experiment/stim/bos_tag.wav', 'iti': 20627}\n",
      "{'tr_num': 7, 'stim': '/root/experiment/stim/bos_rev_tag.wav', 'iti': 55375}\n",
      "{'tr_num': 8, 'stim': '/root/experiment/stim/bos_tag.wav', 'iti': 51975}\n",
      "{'tr_num': 9, 'stim': '/root/experiment/stim/bos_rev_tag.wav', 'iti': 40017}\n",
      "{'tr_num': 10, 'stim': '/root/experiment/stim/bos_tag.wav', 'iti': 7983}\n",
      "{'tr_num': 11, 'stim': '/root/experiment/stim/bos_tag.wav', 'iti': 7597}\n",
      "{'tr_num': 12, 'stim': '/root/experiment/stim/bos_rev_tag.wav', 'iti': 16480}\n",
      "{'tr_num': 13, 'stim': '/root/experiment/stim/bos_rev_tag.wav', 'iti': 25154}\n",
      "{'tr_num': 14, 'stim': '/root/experiment/stim/bos_tag.wav', 'iti': 22755}\n",
      "{'tr_num': 15, 'stim': '/root/experiment/stim/bos_rev_tag.wav', 'iti': 46565}\n",
      "{'tr_num': 16, 'stim': '/root/experiment/stim/bos_rev_tag.wav', 'iti': 64718}\n",
      "{'tr_num': 17, 'stim': '/root/experiment/stim/bos_rev_tag.wav', 'iti': 24344}\n",
      "{'tr_num': 18, 'stim': '/root/experiment/stim/bos_rev_tag.wav', 'iti': 68796}\n",
      "{'tr_num': 19, 'stim': '/root/experiment/stim/bos_rev_tag.wav', 'iti': 59125}\n",
      "{'tr_num': 20, 'stim': '/root/experiment/stim/bos_rev_tag.wav', 'iti': 17110}\n",
      "{'tr_num': 21, 'stim': '/root/experiment/stim/bos_rev_tag.wav', 'iti': 15397}\n",
      "{'tr_num': 22, 'stim': '/root/experiment/stim/bos_rev_tag.wav', 'iti': 62055}\n",
      "{'tr_num': 23, 'stim': '/root/experiment/stim/bos_tag.wav', 'iti': 11402}\n",
      "{'tr_num': 24, 'stim': '/root/experiment/stim/bos_rev_tag.wav', 'iti': 8108}\n",
      "{'tr_num': 25, 'stim': '/root/experiment/stim/bos_rev_tag.wav', 'iti': 40200}\n",
      "{'tr_num': 26, 'stim': '/root/experiment/stim/bos_tag.wav', 'iti': 4749}\n",
      "{'tr_num': 27, 'stim': '/root/experiment/stim/bos_tag.wav', 'iti': 48398}\n",
      "{'tr_num': 28, 'stim': '/root/experiment/stim/bos_tag.wav', 'iti': 4864}\n",
      "{'tr_num': 29, 'stim': '/root/experiment/stim/bos_tag.wav', 'iti': 27824}\n",
      "{'tr_num': 30, 'stim': '/root/experiment/stim/bos_tag.wav', 'iti': 38232}\n",
      "{'tr_num': 31, 'stim': '/root/experiment/stim/bos_tag.wav', 'iti': 40625}\n",
      "{'tr_num': 32, 'stim': '/root/experiment/stim/bos_tag.wav', 'iti': 66623}\n",
      "{'tr_num': 33, 'stim': '/root/experiment/stim/bos_tag.wav', 'iti': 12381}\n",
      "{'tr_num': 34, 'stim': '/root/experiment/stim/bos_rev_tag.wav', 'iti': 58579}\n",
      "{'tr_num': 35, 'stim': '/root/experiment/stim/bos_tag.wav', 'iti': 22553}\n",
      "{'tr_num': 36, 'stim': '/root/experiment/stim/bos_rev_tag.wav', 'iti': 69689}\n",
      "{'tr_num': 37, 'stim': '/root/experiment/stim/bos_tag.wav', 'iti': 37244}\n",
      "{'tr_num': 38, 'stim': '/root/experiment/stim/bos_tag.wav', 'iti': 53661}\n",
      "{'tr_num': 39, 'stim': '/root/experiment/stim/bos_rev_tag.wav', 'iti': 26558}\n",
      "{'tr_num': 40, 'stim': '/root/experiment/stim/bos_tag.wav', 'iti': 32223}\n",
      "{'tr_num': 41, 'stim': '/root/experiment/stim/bos_tag.wav', 'iti': 58147}\n",
      "{'tr_num': 42, 'stim': '/root/experiment/stim/bos_rev_tag.wav', 'iti': 9586}\n",
      "{'tr_num': 43, 'stim': '/root/experiment/stim/bos_tag.wav', 'iti': 21378}\n",
      "{'tr_num': 44, 'stim': '/root/experiment/stim/bos_rev_tag.wav', 'iti': 43537}\n",
      "{'tr_num': 45, 'stim': '/root/experiment/stim/bos_tag.wav', 'iti': 9954}\n",
      "{'tr_num': 46, 'stim': '/root/experiment/stim/bos_tag.wav', 'iti': 57158}\n",
      "Block 0 finished\n",
      "Recording stopped\n"
     ]
    }
   ],
   "source": [
    "# run a night experiment\n",
    "block_trials = 150\n",
    "block_iti = [2000, 7000]\n",
    "time.sleep(10)\n",
    "ss = Session(oe_zmq, bb_zmq, bird_id='z023', depth=0, descr='anesth_surf')\n",
    "blocks = []\n",
    "for i_block in range(1):\n",
    "    print \"Starting block {}\".format(i_block)\n",
    "    a_block = Block(wave_files, block_iti, block_trials)\n",
    "    ss.start_block(a_block, record=True, new=True)\n",
    "    #time.sleep(block_trials*int(np.ceil(block_iti[1]*0.0011)))\n",
    "    time.sleep(1600)\n",
    "    ss.stop_block()\n",
    "    print 'Block {} finished'.format(i_block)\n",
    "    blocks.append(a_block)\n",
    "    time.sleep(1)\n",
    "    "
   ]
  },
  {
   "cell_type": "code",
   "execution_count": 41,
   "metadata": {},
   "outputs": [],
   "source": [
    "sys.stdout.flush()\n"
   ]
  },
  {
   "cell_type": "code",
   "execution_count": 19,
   "metadata": {},
   "outputs": [],
   "source": [
    "import logging\n",
    "logger = logging.getLogger()\n",
    "logger.setLevel(logging.DEBUG)\n",
    "logging.debug(\"test\")"
   ]
  },
  {
   "cell_type": "code",
   "execution_count": 76,
   "metadata": {},
   "outputs": [
    {
     "name": "stdout",
     "output_type": "stream",
     "text": [
      "0\n"
     ]
    }
   ],
   "source": [
    "for i in range(1):\n",
    "    print i"
   ]
  },
  {
   "cell_type": "code",
   "execution_count": 77,
   "metadata": {},
   "outputs": [
    {
     "data": {
      "text/plain": [
       "1500"
      ]
     },
     "execution_count": 77,
     "metadata": {},
     "output_type": "execute_result"
    }
   ],
   "source": [
    "150*10"
   ]
  },
  {
   "cell_type": "code",
   "execution_count": null,
   "metadata": {
    "collapsed": true
   },
   "outputs": [],
   "source": [
    "rec_opt = ['{0}={1}'.format(key, value)\n",
    "                       for key, value in rec_par.iteritems()\n",
    "                       if value is not None]"
   ]
  }
 ],
 "metadata": {
  "kernelspec": {
   "display_name": "Python [default]",
   "language": "python",
   "name": "python2"
  },
  "language_info": {
   "codemirror_mode": {
    "name": "ipython",
    "version": 2
   },
   "file_extension": ".py",
   "mimetype": "text/x-python",
   "name": "python",
   "nbconvert_exporter": "python",
   "pygments_lexer": "ipython2",
   "version": "2.7.13"
  }
 },
 "nbformat": 4,
 "nbformat_minor": 1
}
